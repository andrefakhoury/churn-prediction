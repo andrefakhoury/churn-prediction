{
 "cells": [
  {
   "cell_type": "markdown",
   "source": "## Predição de rotatividade de clientes com Ciência de Dados",
   "metadata": {
    "tags": [],
    "cell_id": "00001-5e7fe9d3-1761-4ab4-a0fb-4b1e620dc5b6",
    "deepnote_cell_type": "markdown"
   }
  },
  {
   "cell_type": "markdown",
   "source": "Este projeto tem o objetivo de prever a rotatividade de consumidores a partir de informações pessoais, de pagamentos e serviços contratados. A *rotatividade* em questão é a análise dos consumidores com intenção de parar de adquirir os serviços (ou seja, \"deixar\" a empresa).\n\n**Integrantes:**\n- André Luís Mendes Fakhoury\n- Gustavo Vinícius Vieira Silva Soares\n- Thiago Preischadt Pinheiro\n\n**Prof.** Francisco Aparecido Rodrigues\n\n<center>\nUSP - ICMC - 2021\n</center>",
   "metadata": {
    "tags": [],
    "cell_id": "00002-481aab8f-8ce5-4347-b7e7-392b918eba3a",
    "deepnote_cell_type": "markdown"
   }
  },
  {
   "cell_type": "code",
   "source": "import numpy as np\nimport pandas as pd\nimport seaborn as sns",
   "metadata": {
    "tags": [],
    "cell_id": "00001-6f8a08fc-a21d-4eb9-a113-d7d6d6e55f69",
    "deepnote_to_be_reexecuted": false,
    "source_hash": "456c4e13",
    "execution_start": 1638647186748,
    "execution_millis": 1246,
    "deepnote_cell_type": "code"
   },
   "outputs": [],
   "execution_count": 96
  },
  {
   "cell_type": "markdown",
   "source": "## Preparação dos Dados",
   "metadata": {
    "tags": [],
    "cell_id": "00005-78e8028a-d702-4401-b1d2-1c1a04da7a24",
    "deepnote_cell_type": "markdown"
   }
  },
  {
   "cell_type": "markdown",
   "source": "Nessa etapa, os dados serão preparados com o objetivo de prepará-los para etapas posteriores do projeto. Será feita a limpeza de dados utilizando métodos de transformação de dados e pré-processamento.",
   "metadata": {
    "tags": [],
    "cell_id": "00005-53117f4f-32f7-40c7-89f0-28c8c9969276",
    "deepnote_cell_type": "markdown"
   }
  },
  {
   "cell_type": "code",
   "source": "df = pd.read_csv('churn.csv')\ndf.head(10)",
   "metadata": {
    "tags": [],
    "cell_id": "00005-220dd3e4-680b-40da-95a7-154349a105c9",
    "deepnote_to_be_reexecuted": false,
    "source_hash": "cf90e164",
    "execution_start": 1638649649690,
    "execution_millis": 200,
    "deepnote_cell_type": "code"
   },
   "outputs": [
    {
     "output_type": "execute_result",
     "execution_count": 160,
     "data": {
      "application/vnd.deepnote.dataframe.v2+json": {
       "row_count": 10,
       "column_count": 21,
       "columns": [
        {
         "name": "customerID",
         "dtype": "object",
         "stats": {
          "unique_count": 10,
          "nan_count": 0,
          "categories": [
           {
            "name": "7590-VHVEG",
            "count": 1
           },
           {
            "name": "5575-GNVDE",
            "count": 1
           },
           {
            "name": "8 others",
            "count": 8
           }
          ]
         }
        },
        {
         "name": "gender",
         "dtype": "object",
         "stats": {
          "unique_count": 2,
          "nan_count": 0,
          "categories": [
           {
            "name": "Female",
            "count": 5
           },
           {
            "name": "Male",
            "count": 5
           }
          ]
         }
        },
        {
         "name": "SeniorCitizen",
         "dtype": "int64",
         "stats": {
          "unique_count": 1,
          "nan_count": 0,
          "min": "0",
          "max": "0",
          "histogram": [
           {
            "bin_start": -0.5,
            "bin_end": -0.4,
            "count": 0
           },
           {
            "bin_start": -0.4,
            "bin_end": -0.3,
            "count": 0
           },
           {
            "bin_start": -0.3,
            "bin_end": -0.19999999999999996,
            "count": 0
           },
           {
            "bin_start": -0.19999999999999996,
            "bin_end": -0.09999999999999998,
            "count": 0
           },
           {
            "bin_start": -0.09999999999999998,
            "bin_end": 0,
            "count": 0
           },
           {
            "bin_start": 0,
            "bin_end": 0.10000000000000009,
            "count": 10
           },
           {
            "bin_start": 0.10000000000000009,
            "bin_end": 0.20000000000000007,
            "count": 0
           },
           {
            "bin_start": 0.20000000000000007,
            "bin_end": 0.30000000000000004,
            "count": 0
           },
           {
            "bin_start": 0.30000000000000004,
            "bin_end": 0.4,
            "count": 0
           },
           {
            "bin_start": 0.4,
            "bin_end": 0.5,
            "count": 0
           }
          ]
         }
        },
        {
         "name": "Partner",
         "dtype": "object",
         "stats": {
          "unique_count": 2,
          "nan_count": 0,
          "categories": [
           {
            "name": "No",
            "count": 8
           },
           {
            "name": "Yes",
            "count": 2
           }
          ]
         }
        },
        {
         "name": "Dependents",
         "dtype": "object",
         "stats": {
          "unique_count": 2,
          "nan_count": 0,
          "categories": [
           {
            "name": "No",
            "count": 8
           },
           {
            "name": "Yes",
            "count": 2
           }
          ]
         }
        },
        {
         "name": "tenure",
         "dtype": "int64",
         "stats": {
          "unique_count": 9,
          "nan_count": 0,
          "min": "1",
          "max": "62",
          "histogram": [
           {
            "bin_start": 1,
            "bin_end": 7.1,
            "count": 3
           },
           {
            "bin_start": 7.1,
            "bin_end": 13.2,
            "count": 2
           },
           {
            "bin_start": 13.2,
            "bin_end": 19.299999999999997,
            "count": 0
           },
           {
            "bin_start": 19.299999999999997,
            "bin_end": 25.4,
            "count": 1
           },
           {
            "bin_start": 25.4,
            "bin_end": 31.5,
            "count": 1
           },
           {
            "bin_start": 31.5,
            "bin_end": 37.599999999999994,
            "count": 1
           },
           {
            "bin_start": 37.599999999999994,
            "bin_end": 43.699999999999996,
            "count": 0
           },
           {
            "bin_start": 43.699999999999996,
            "bin_end": 49.8,
            "count": 1
           },
           {
            "bin_start": 49.8,
            "bin_end": 55.9,
            "count": 0
           },
           {
            "bin_start": 55.9,
            "bin_end": 62,
            "count": 1
           }
          ]
         }
        },
        {
         "name": "PhoneService",
         "dtype": "object",
         "stats": {
          "unique_count": 2,
          "nan_count": 0,
          "categories": [
           {
            "name": "Yes",
            "count": 7
           },
           {
            "name": "No",
            "count": 3
           }
          ]
         }
        },
        {
         "name": "MultipleLines",
         "dtype": "object",
         "stats": {
          "unique_count": 3,
          "nan_count": 0,
          "categories": [
           {
            "name": "No",
            "count": 4
           },
           {
            "name": "No phone service",
            "count": 3
           },
           {
            "name": "Yes",
            "count": 3
           }
          ]
         }
        },
        {
         "name": "InternetService",
         "dtype": "object",
         "stats": {
          "unique_count": 2,
          "nan_count": 0,
          "categories": [
           {
            "name": "DSL",
            "count": 6
           },
           {
            "name": "Fiber optic",
            "count": 4
           }
          ]
         }
        },
        {
         "name": "OnlineSecurity",
         "dtype": "object",
         "stats": {
          "unique_count": 2,
          "nan_count": 0,
          "categories": [
           {
            "name": "No",
            "count": 5
           },
           {
            "name": "Yes",
            "count": 5
           }
          ]
         }
        },
        {
         "name": "OnlineBackup",
         "dtype": "object",
         "stats": {
          "unique_count": 2,
          "nan_count": 0,
          "categories": [
           {
            "name": "No",
            "count": 6
           },
           {
            "name": "Yes",
            "count": 4
           }
          ]
         }
        },
        {
         "name": "DeviceProtection",
         "dtype": "object",
         "stats": {
          "unique_count": 2,
          "nan_count": 0,
          "categories": [
           {
            "name": "No",
            "count": 6
           },
           {
            "name": "Yes",
            "count": 4
           }
          ]
         }
        },
        {
         "name": "TechSupport",
         "dtype": "object",
         "stats": {
          "unique_count": 2,
          "nan_count": 0,
          "categories": [
           {
            "name": "No",
            "count": 8
           },
           {
            "name": "Yes",
            "count": 2
           }
          ]
         }
        },
        {
         "name": "StreamingTV",
         "dtype": "object",
         "stats": {
          "unique_count": 2,
          "nan_count": 0,
          "categories": [
           {
            "name": "No",
            "count": 7
           },
           {
            "name": "Yes",
            "count": 3
           }
          ]
         }
        },
        {
         "name": "StreamingMovies",
         "dtype": "object",
         "stats": {
          "unique_count": 2,
          "nan_count": 0,
          "categories": [
           {
            "name": "No",
            "count": 8
           },
           {
            "name": "Yes",
            "count": 2
           }
          ]
         }
        },
        {
         "name": "Contract",
         "dtype": "object",
         "stats": {
          "unique_count": 2,
          "nan_count": 0,
          "categories": [
           {
            "name": "Month-to-month",
            "count": 7
           },
           {
            "name": "One year",
            "count": 3
           }
          ]
         }
        },
        {
         "name": "PaperlessBilling",
         "dtype": "object",
         "stats": {
          "unique_count": 2,
          "nan_count": 0,
          "categories": [
           {
            "name": "Yes",
            "count": 6
           },
           {
            "name": "No",
            "count": 4
           }
          ]
         }
        },
        {
         "name": "PaymentMethod",
         "dtype": "object",
         "stats": {
          "unique_count": 4,
          "nan_count": 0,
          "categories": [
           {
            "name": "Electronic check",
            "count": 4
           },
           {
            "name": "Mailed check",
            "count": 3
           },
           {
            "name": "2 others",
            "count": 3
           }
          ]
         }
        },
        {
         "name": "MonthlyCharges",
         "dtype": "float64",
         "stats": {
          "unique_count": 10,
          "nan_count": 0,
          "min": "29.75",
          "max": "104.8",
          "histogram": [
           {
            "bin_start": 29.75,
            "bin_end": 37.255,
            "count": 2
           },
           {
            "bin_start": 37.255,
            "bin_end": 44.76,
            "count": 1
           },
           {
            "bin_start": 44.76,
            "bin_end": 52.265,
            "count": 0
           },
           {
            "bin_start": 52.265,
            "bin_end": 59.769999999999996,
            "count": 3
           },
           {
            "bin_start": 59.769999999999996,
            "bin_end": 67.275,
            "count": 0
           },
           {
            "bin_start": 67.275,
            "bin_end": 74.78,
            "count": 1
           },
           {
            "bin_start": 74.78,
            "bin_end": 82.285,
            "count": 0
           },
           {
            "bin_start": 82.285,
            "bin_end": 89.78999999999999,
            "count": 1
           },
           {
            "bin_start": 89.78999999999999,
            "bin_end": 97.295,
            "count": 0
           },
           {
            "bin_start": 97.295,
            "bin_end": 104.8,
            "count": 2
           }
          ]
         }
        },
        {
         "name": "TotalCharges",
         "dtype": "object",
         "stats": {
          "unique_count": 10,
          "nan_count": 0,
          "categories": [
           {
            "name": "29.85",
            "count": 1
           },
           {
            "name": "1889.5",
            "count": 1
           },
           {
            "name": "8 others",
            "count": 8
           }
          ]
         }
        },
        {
         "name": "Churn",
         "dtype": "object",
         "stats": {
          "unique_count": 2,
          "nan_count": 0,
          "categories": [
           {
            "name": "No",
            "count": 6
           },
           {
            "name": "Yes",
            "count": 4
           }
          ]
         }
        },
        {
         "name": "_deepnote_index_column",
         "dtype": "int64"
        }
       ],
       "rows_top": [
        {
         "customerID": "7590-VHVEG",
         "gender": "Female",
         "SeniorCitizen": 0,
         "Partner": "Yes",
         "Dependents": "No",
         "tenure": 1,
         "PhoneService": "No",
         "MultipleLines": "No phone service",
         "InternetService": "DSL",
         "OnlineSecurity": "No",
         "OnlineBackup": "Yes",
         "DeviceProtection": "No",
         "TechSupport": "No",
         "StreamingTV": "No",
         "StreamingMovies": "No",
         "Contract": "Month-to-month",
         "PaperlessBilling": "Yes",
         "PaymentMethod": "Electronic check",
         "MonthlyCharges": 29.85,
         "TotalCharges": "29.85",
         "Churn": "No",
         "_deepnote_index_column": 0
        },
        {
         "customerID": "5575-GNVDE",
         "gender": "Male",
         "SeniorCitizen": 0,
         "Partner": "No",
         "Dependents": "No",
         "tenure": 34,
         "PhoneService": "Yes",
         "MultipleLines": "No",
         "InternetService": "DSL",
         "OnlineSecurity": "Yes",
         "OnlineBackup": "No",
         "DeviceProtection": "Yes",
         "TechSupport": "No",
         "StreamingTV": "No",
         "StreamingMovies": "No",
         "Contract": "One year",
         "PaperlessBilling": "No",
         "PaymentMethod": "Mailed check",
         "MonthlyCharges": 56.95,
         "TotalCharges": "1889.5",
         "Churn": "No",
         "_deepnote_index_column": 1
        },
        {
         "customerID": "3668-QPYBK",
         "gender": "Male",
         "SeniorCitizen": 0,
         "Partner": "No",
         "Dependents": "No",
         "tenure": 2,
         "PhoneService": "Yes",
         "MultipleLines": "No",
         "InternetService": "DSL",
         "OnlineSecurity": "Yes",
         "OnlineBackup": "Yes",
         "DeviceProtection": "No",
         "TechSupport": "No",
         "StreamingTV": "No",
         "StreamingMovies": "No",
         "Contract": "Month-to-month",
         "PaperlessBilling": "Yes",
         "PaymentMethod": "Mailed check",
         "MonthlyCharges": 53.85,
         "TotalCharges": "108.15",
         "Churn": "Yes",
         "_deepnote_index_column": 2
        },
        {
         "customerID": "7795-CFOCW",
         "gender": "Male",
         "SeniorCitizen": 0,
         "Partner": "No",
         "Dependents": "No",
         "tenure": 45,
         "PhoneService": "No",
         "MultipleLines": "No phone service",
         "InternetService": "DSL",
         "OnlineSecurity": "Yes",
         "OnlineBackup": "No",
         "DeviceProtection": "Yes",
         "TechSupport": "Yes",
         "StreamingTV": "No",
         "StreamingMovies": "No",
         "Contract": "One year",
         "PaperlessBilling": "No",
         "PaymentMethod": "Bank transfer (automatic)",
         "MonthlyCharges": 42.3,
         "TotalCharges": "1840.75",
         "Churn": "No",
         "_deepnote_index_column": 3
        },
        {
         "customerID": "9237-HQITU",
         "gender": "Female",
         "SeniorCitizen": 0,
         "Partner": "No",
         "Dependents": "No",
         "tenure": 2,
         "PhoneService": "Yes",
         "MultipleLines": "No",
         "InternetService": "Fiber optic",
         "OnlineSecurity": "No",
         "OnlineBackup": "No",
         "DeviceProtection": "No",
         "TechSupport": "No",
         "StreamingTV": "No",
         "StreamingMovies": "No",
         "Contract": "Month-to-month",
         "PaperlessBilling": "Yes",
         "PaymentMethod": "Electronic check",
         "MonthlyCharges": 70.7,
         "TotalCharges": "151.65",
         "Churn": "Yes",
         "_deepnote_index_column": 4
        },
        {
         "customerID": "9305-CDSKC",
         "gender": "Female",
         "SeniorCitizen": 0,
         "Partner": "No",
         "Dependents": "No",
         "tenure": 8,
         "PhoneService": "Yes",
         "MultipleLines": "Yes",
         "InternetService": "Fiber optic",
         "OnlineSecurity": "No",
         "OnlineBackup": "No",
         "DeviceProtection": "Yes",
         "TechSupport": "No",
         "StreamingTV": "Yes",
         "StreamingMovies": "Yes",
         "Contract": "Month-to-month",
         "PaperlessBilling": "Yes",
         "PaymentMethod": "Electronic check",
         "MonthlyCharges": 99.65,
         "TotalCharges": "820.5",
         "Churn": "Yes",
         "_deepnote_index_column": 5
        },
        {
         "customerID": "1452-KIOVK",
         "gender": "Male",
         "SeniorCitizen": 0,
         "Partner": "No",
         "Dependents": "Yes",
         "tenure": 22,
         "PhoneService": "Yes",
         "MultipleLines": "Yes",
         "InternetService": "Fiber optic",
         "OnlineSecurity": "No",
         "OnlineBackup": "Yes",
         "DeviceProtection": "No",
         "TechSupport": "No",
         "StreamingTV": "Yes",
         "StreamingMovies": "No",
         "Contract": "Month-to-month",
         "PaperlessBilling": "Yes",
         "PaymentMethod": "Credit card (automatic)",
         "MonthlyCharges": 89.1,
         "TotalCharges": "1949.4",
         "Churn": "No",
         "_deepnote_index_column": 6
        },
        {
         "customerID": "6713-OKOMC",
         "gender": "Female",
         "SeniorCitizen": 0,
         "Partner": "No",
         "Dependents": "No",
         "tenure": 10,
         "PhoneService": "No",
         "MultipleLines": "No phone service",
         "InternetService": "DSL",
         "OnlineSecurity": "Yes",
         "OnlineBackup": "No",
         "DeviceProtection": "No",
         "TechSupport": "No",
         "StreamingTV": "No",
         "StreamingMovies": "No",
         "Contract": "Month-to-month",
         "PaperlessBilling": "No",
         "PaymentMethod": "Mailed check",
         "MonthlyCharges": 29.75,
         "TotalCharges": "301.9",
         "Churn": "No",
         "_deepnote_index_column": 7
        },
        {
         "customerID": "7892-POOKP",
         "gender": "Female",
         "SeniorCitizen": 0,
         "Partner": "Yes",
         "Dependents": "No",
         "tenure": 28,
         "PhoneService": "Yes",
         "MultipleLines": "Yes",
         "InternetService": "Fiber optic",
         "OnlineSecurity": "No",
         "OnlineBackup": "No",
         "DeviceProtection": "Yes",
         "TechSupport": "Yes",
         "StreamingTV": "Yes",
         "StreamingMovies": "Yes",
         "Contract": "Month-to-month",
         "PaperlessBilling": "Yes",
         "PaymentMethod": "Electronic check",
         "MonthlyCharges": 104.8,
         "TotalCharges": "3046.05",
         "Churn": "Yes",
         "_deepnote_index_column": 8
        },
        {
         "customerID": "6388-TABGU",
         "gender": "Male",
         "SeniorCitizen": 0,
         "Partner": "No",
         "Dependents": "Yes",
         "tenure": 62,
         "PhoneService": "Yes",
         "MultipleLines": "No",
         "InternetService": "DSL",
         "OnlineSecurity": "Yes",
         "OnlineBackup": "Yes",
         "DeviceProtection": "No",
         "TechSupport": "No",
         "StreamingTV": "No",
         "StreamingMovies": "No",
         "Contract": "One year",
         "PaperlessBilling": "No",
         "PaymentMethod": "Bank transfer (automatic)",
         "MonthlyCharges": 56.15,
         "TotalCharges": "3487.95",
         "Churn": "No",
         "_deepnote_index_column": 9
        }
       ],
       "rows_bottom": null
      },
      "text/plain": "   customerID  gender  SeniorCitizen Partner Dependents  tenure PhoneService  \\\n0  7590-VHVEG  Female              0     Yes         No       1           No   \n1  5575-GNVDE    Male              0      No         No      34          Yes   \n2  3668-QPYBK    Male              0      No         No       2          Yes   \n3  7795-CFOCW    Male              0      No         No      45           No   \n4  9237-HQITU  Female              0      No         No       2          Yes   \n5  9305-CDSKC  Female              0      No         No       8          Yes   \n6  1452-KIOVK    Male              0      No        Yes      22          Yes   \n7  6713-OKOMC  Female              0      No         No      10           No   \n8  7892-POOKP  Female              0     Yes         No      28          Yes   \n9  6388-TABGU    Male              0      No        Yes      62          Yes   \n\n      MultipleLines InternetService OnlineSecurity  ... DeviceProtection  \\\n0  No phone service             DSL             No  ...               No   \n1                No             DSL            Yes  ...              Yes   \n2                No             DSL            Yes  ...               No   \n3  No phone service             DSL            Yes  ...              Yes   \n4                No     Fiber optic             No  ...               No   \n5               Yes     Fiber optic             No  ...              Yes   \n6               Yes     Fiber optic             No  ...               No   \n7  No phone service             DSL            Yes  ...               No   \n8               Yes     Fiber optic             No  ...              Yes   \n9                No             DSL            Yes  ...               No   \n\n  TechSupport StreamingTV StreamingMovies        Contract PaperlessBilling  \\\n0          No          No              No  Month-to-month              Yes   \n1          No          No              No        One year               No   \n2          No          No              No  Month-to-month              Yes   \n3         Yes          No              No        One year               No   \n4          No          No              No  Month-to-month              Yes   \n5          No         Yes             Yes  Month-to-month              Yes   \n6          No         Yes              No  Month-to-month              Yes   \n7          No          No              No  Month-to-month               No   \n8         Yes         Yes             Yes  Month-to-month              Yes   \n9          No          No              No        One year               No   \n\n               PaymentMethod MonthlyCharges  TotalCharges Churn  \n0           Electronic check          29.85         29.85    No  \n1               Mailed check          56.95        1889.5    No  \n2               Mailed check          53.85        108.15   Yes  \n3  Bank transfer (automatic)          42.30       1840.75    No  \n4           Electronic check          70.70        151.65   Yes  \n5           Electronic check          99.65         820.5   Yes  \n6    Credit card (automatic)          89.10        1949.4    No  \n7               Mailed check          29.75         301.9    No  \n8           Electronic check         104.80       3046.05   Yes  \n9  Bank transfer (automatic)          56.15       3487.95    No  \n\n[10 rows x 21 columns]",
      "text/html": "<div>\n<style scoped>\n    .dataframe tbody tr th:only-of-type {\n        vertical-align: middle;\n    }\n\n    .dataframe tbody tr th {\n        vertical-align: top;\n    }\n\n    .dataframe thead th {\n        text-align: right;\n    }\n</style>\n<table border=\"1\" class=\"dataframe\">\n  <thead>\n    <tr style=\"text-align: right;\">\n      <th></th>\n      <th>customerID</th>\n      <th>gender</th>\n      <th>SeniorCitizen</th>\n      <th>Partner</th>\n      <th>Dependents</th>\n      <th>tenure</th>\n      <th>PhoneService</th>\n      <th>MultipleLines</th>\n      <th>InternetService</th>\n      <th>OnlineSecurity</th>\n      <th>...</th>\n      <th>DeviceProtection</th>\n      <th>TechSupport</th>\n      <th>StreamingTV</th>\n      <th>StreamingMovies</th>\n      <th>Contract</th>\n      <th>PaperlessBilling</th>\n      <th>PaymentMethod</th>\n      <th>MonthlyCharges</th>\n      <th>TotalCharges</th>\n      <th>Churn</th>\n    </tr>\n  </thead>\n  <tbody>\n    <tr>\n      <th>0</th>\n      <td>7590-VHVEG</td>\n      <td>Female</td>\n      <td>0</td>\n      <td>Yes</td>\n      <td>No</td>\n      <td>1</td>\n      <td>No</td>\n      <td>No phone service</td>\n      <td>DSL</td>\n      <td>No</td>\n      <td>...</td>\n      <td>No</td>\n      <td>No</td>\n      <td>No</td>\n      <td>No</td>\n      <td>Month-to-month</td>\n      <td>Yes</td>\n      <td>Electronic check</td>\n      <td>29.85</td>\n      <td>29.85</td>\n      <td>No</td>\n    </tr>\n    <tr>\n      <th>1</th>\n      <td>5575-GNVDE</td>\n      <td>Male</td>\n      <td>0</td>\n      <td>No</td>\n      <td>No</td>\n      <td>34</td>\n      <td>Yes</td>\n      <td>No</td>\n      <td>DSL</td>\n      <td>Yes</td>\n      <td>...</td>\n      <td>Yes</td>\n      <td>No</td>\n      <td>No</td>\n      <td>No</td>\n      <td>One year</td>\n      <td>No</td>\n      <td>Mailed check</td>\n      <td>56.95</td>\n      <td>1889.5</td>\n      <td>No</td>\n    </tr>\n    <tr>\n      <th>2</th>\n      <td>3668-QPYBK</td>\n      <td>Male</td>\n      <td>0</td>\n      <td>No</td>\n      <td>No</td>\n      <td>2</td>\n      <td>Yes</td>\n      <td>No</td>\n      <td>DSL</td>\n      <td>Yes</td>\n      <td>...</td>\n      <td>No</td>\n      <td>No</td>\n      <td>No</td>\n      <td>No</td>\n      <td>Month-to-month</td>\n      <td>Yes</td>\n      <td>Mailed check</td>\n      <td>53.85</td>\n      <td>108.15</td>\n      <td>Yes</td>\n    </tr>\n    <tr>\n      <th>3</th>\n      <td>7795-CFOCW</td>\n      <td>Male</td>\n      <td>0</td>\n      <td>No</td>\n      <td>No</td>\n      <td>45</td>\n      <td>No</td>\n      <td>No phone service</td>\n      <td>DSL</td>\n      <td>Yes</td>\n      <td>...</td>\n      <td>Yes</td>\n      <td>Yes</td>\n      <td>No</td>\n      <td>No</td>\n      <td>One year</td>\n      <td>No</td>\n      <td>Bank transfer (automatic)</td>\n      <td>42.30</td>\n      <td>1840.75</td>\n      <td>No</td>\n    </tr>\n    <tr>\n      <th>4</th>\n      <td>9237-HQITU</td>\n      <td>Female</td>\n      <td>0</td>\n      <td>No</td>\n      <td>No</td>\n      <td>2</td>\n      <td>Yes</td>\n      <td>No</td>\n      <td>Fiber optic</td>\n      <td>No</td>\n      <td>...</td>\n      <td>No</td>\n      <td>No</td>\n      <td>No</td>\n      <td>No</td>\n      <td>Month-to-month</td>\n      <td>Yes</td>\n      <td>Electronic check</td>\n      <td>70.70</td>\n      <td>151.65</td>\n      <td>Yes</td>\n    </tr>\n    <tr>\n      <th>5</th>\n      <td>9305-CDSKC</td>\n      <td>Female</td>\n      <td>0</td>\n      <td>No</td>\n      <td>No</td>\n      <td>8</td>\n      <td>Yes</td>\n      <td>Yes</td>\n      <td>Fiber optic</td>\n      <td>No</td>\n      <td>...</td>\n      <td>Yes</td>\n      <td>No</td>\n      <td>Yes</td>\n      <td>Yes</td>\n      <td>Month-to-month</td>\n      <td>Yes</td>\n      <td>Electronic check</td>\n      <td>99.65</td>\n      <td>820.5</td>\n      <td>Yes</td>\n    </tr>\n    <tr>\n      <th>6</th>\n      <td>1452-KIOVK</td>\n      <td>Male</td>\n      <td>0</td>\n      <td>No</td>\n      <td>Yes</td>\n      <td>22</td>\n      <td>Yes</td>\n      <td>Yes</td>\n      <td>Fiber optic</td>\n      <td>No</td>\n      <td>...</td>\n      <td>No</td>\n      <td>No</td>\n      <td>Yes</td>\n      <td>No</td>\n      <td>Month-to-month</td>\n      <td>Yes</td>\n      <td>Credit card (automatic)</td>\n      <td>89.10</td>\n      <td>1949.4</td>\n      <td>No</td>\n    </tr>\n    <tr>\n      <th>7</th>\n      <td>6713-OKOMC</td>\n      <td>Female</td>\n      <td>0</td>\n      <td>No</td>\n      <td>No</td>\n      <td>10</td>\n      <td>No</td>\n      <td>No phone service</td>\n      <td>DSL</td>\n      <td>Yes</td>\n      <td>...</td>\n      <td>No</td>\n      <td>No</td>\n      <td>No</td>\n      <td>No</td>\n      <td>Month-to-month</td>\n      <td>No</td>\n      <td>Mailed check</td>\n      <td>29.75</td>\n      <td>301.9</td>\n      <td>No</td>\n    </tr>\n    <tr>\n      <th>8</th>\n      <td>7892-POOKP</td>\n      <td>Female</td>\n      <td>0</td>\n      <td>Yes</td>\n      <td>No</td>\n      <td>28</td>\n      <td>Yes</td>\n      <td>Yes</td>\n      <td>Fiber optic</td>\n      <td>No</td>\n      <td>...</td>\n      <td>Yes</td>\n      <td>Yes</td>\n      <td>Yes</td>\n      <td>Yes</td>\n      <td>Month-to-month</td>\n      <td>Yes</td>\n      <td>Electronic check</td>\n      <td>104.80</td>\n      <td>3046.05</td>\n      <td>Yes</td>\n    </tr>\n    <tr>\n      <th>9</th>\n      <td>6388-TABGU</td>\n      <td>Male</td>\n      <td>0</td>\n      <td>No</td>\n      <td>Yes</td>\n      <td>62</td>\n      <td>Yes</td>\n      <td>No</td>\n      <td>DSL</td>\n      <td>Yes</td>\n      <td>...</td>\n      <td>No</td>\n      <td>No</td>\n      <td>No</td>\n      <td>No</td>\n      <td>One year</td>\n      <td>No</td>\n      <td>Bank transfer (automatic)</td>\n      <td>56.15</td>\n      <td>3487.95</td>\n      <td>No</td>\n    </tr>\n  </tbody>\n</table>\n<p>10 rows × 21 columns</p>\n</div>"
     },
     "metadata": {}
    }
   ],
   "execution_count": 160
  },
  {
   "cell_type": "markdown",
   "source": "Primeiramente, pode-se remover a coluna de \"customerID\", pois não terá importância para as próximas etapas. Antes disso, é possível verificar se existem campos duplicados, pois trata-se de um campo identificador único do cliente.",
   "metadata": {
    "tags": [],
    "cell_id": "00007-fc738df8-abf5-4e85-97b3-6cc6c6e49c0b",
    "deepnote_cell_type": "markdown"
   }
  },
  {
   "cell_type": "code",
   "source": "df['customerID'].duplicated().any()",
   "metadata": {
    "tags": [],
    "cell_id": "00007-34d985f2-43a4-4ce5-a5ed-83c7119dbfe0",
    "deepnote_to_be_reexecuted": false,
    "source_hash": "a2d2fe77",
    "execution_start": 1638649651542,
    "execution_millis": 149,
    "deepnote_output_heights": [
     21.199996948242188
    ],
    "deepnote_cell_type": "code"
   },
   "outputs": [
    {
     "output_type": "execute_result",
     "execution_count": 161,
     "data": {
      "text/plain": "False"
     },
     "metadata": {}
    }
   ],
   "execution_count": 161
  },
  {
   "cell_type": "markdown",
   "source": "O campo customerId não tem elementos repetidos, portanto pode-se removê-lo.",
   "metadata": {
    "tags": [],
    "cell_id": "00009-e86d6f7a-860d-45cf-ab86-1b2564a44ef7",
    "deepnote_cell_type": "markdown"
   }
  },
  {
   "cell_type": "code",
   "source": "df.drop(columns=['customerID'], inplace=True)",
   "metadata": {
    "tags": [],
    "cell_id": "00009-05f93fb7-91a0-41da-b44b-d6d9c6cd1144",
    "deepnote_to_be_reexecuted": false,
    "source_hash": "4d759ddc",
    "execution_start": 1638649654073,
    "execution_millis": 16,
    "deepnote_cell_type": "code"
   },
   "outputs": [],
   "execution_count": 162
  },
  {
   "cell_type": "markdown",
   "source": "Outro tratamento a se realizar é a transformação do campo \"TotalCharges\" para *float*. Porém, para isso, é necessário tratar alguns de seus valores, que possuem a string vazia ' '. Esses valores são então substituídos para uma aproximação, calculada pelo respectivo campo \"MonthlyCharges\" multiplicado pelo \"tenure\".",
   "metadata": {
    "tags": [],
    "cell_id": "00009-7be792e1-a221-4861-96de-f7704b40f57d",
    "deepnote_cell_type": "markdown"
   }
  },
  {
   "cell_type": "code",
   "source": "mask = df['TotalCharges'] == ' '\ndf.loc[mask, 'TotalCharges'] = df.loc[mask, 'MonthlyCharges'] * df.loc[mask, 'tenure']\ndf['TotalCharges'] = df['TotalCharges'].astype(float)",
   "metadata": {
    "tags": [],
    "cell_id": "00008-532196a3-d383-4d70-b3a4-c2fefa20d499",
    "deepnote_to_be_reexecuted": false,
    "source_hash": "90d0b919",
    "execution_start": 1638649658745,
    "execution_millis": 6,
    "deepnote_cell_type": "code"
   },
   "outputs": [],
   "execution_count": 164
  },
  {
   "cell_type": "markdown",
   "source": "## Análise Exploratória de Dados",
   "metadata": {
    "tags": [],
    "cell_id": "00007-b6416ab1-3bf0-45c5-8d36-5385f433bdda",
    "deepnote_cell_type": "markdown"
   }
  },
  {
   "cell_type": "markdown",
   "source": "Nessa etapa, os dados serão analisados a partir de medidas estatísticas, e visualizados de forma gráfica, com o objetivo de verificar como eles estão dispostos no *dataset* e como se relacionam com outros dados.",
   "metadata": {
    "tags": [],
    "cell_id": "00009-092aeba4-41cd-4982-95c7-2f59f87808ce",
    "deepnote_cell_type": "markdown"
   }
  },
  {
   "cell_type": "code",
   "source": "df.describe()",
   "metadata": {
    "tags": [],
    "cell_id": "00010-538ae638-9cd5-4ace-a937-1d3487621d82",
    "deepnote_to_be_reexecuted": false,
    "source_hash": "f88152d9",
    "execution_start": 1638649660540,
    "execution_millis": 66,
    "deepnote_cell_type": "code"
   },
   "outputs": [
    {
     "output_type": "execute_result",
     "execution_count": 165,
     "data": {
      "application/vnd.deepnote.dataframe.v2+json": {
       "row_count": 8,
       "column_count": 4,
       "columns": [
        {
         "name": "SeniorCitizen",
         "dtype": "float64",
         "stats": {
          "unique_count": 5,
          "nan_count": 0,
          "min": "0.0",
          "max": "7043.0",
          "histogram": [
           {
            "bin_start": 0,
            "bin_end": 704.3,
            "count": 7
           },
           {
            "bin_start": 704.3,
            "bin_end": 1408.6,
            "count": 0
           },
           {
            "bin_start": 1408.6,
            "bin_end": 2112.8999999999996,
            "count": 0
           },
           {
            "bin_start": 2112.8999999999996,
            "bin_end": 2817.2,
            "count": 0
           },
           {
            "bin_start": 2817.2,
            "bin_end": 3521.5,
            "count": 0
           },
           {
            "bin_start": 3521.5,
            "bin_end": 4225.799999999999,
            "count": 0
           },
           {
            "bin_start": 4225.799999999999,
            "bin_end": 4930.099999999999,
            "count": 0
           },
           {
            "bin_start": 4930.099999999999,
            "bin_end": 5634.4,
            "count": 0
           },
           {
            "bin_start": 5634.4,
            "bin_end": 6338.7,
            "count": 0
           },
           {
            "bin_start": 6338.7,
            "bin_end": 7043,
            "count": 1
           }
          ]
         }
        },
        {
         "name": "tenure",
         "dtype": "float64",
         "stats": {
          "unique_count": 8,
          "nan_count": 0,
          "min": "0.0",
          "max": "7043.0",
          "histogram": [
           {
            "bin_start": 0,
            "bin_end": 704.3,
            "count": 7
           },
           {
            "bin_start": 704.3,
            "bin_end": 1408.6,
            "count": 0
           },
           {
            "bin_start": 1408.6,
            "bin_end": 2112.8999999999996,
            "count": 0
           },
           {
            "bin_start": 2112.8999999999996,
            "bin_end": 2817.2,
            "count": 0
           },
           {
            "bin_start": 2817.2,
            "bin_end": 3521.5,
            "count": 0
           },
           {
            "bin_start": 3521.5,
            "bin_end": 4225.799999999999,
            "count": 0
           },
           {
            "bin_start": 4225.799999999999,
            "bin_end": 4930.099999999999,
            "count": 0
           },
           {
            "bin_start": 4930.099999999999,
            "bin_end": 5634.4,
            "count": 0
           },
           {
            "bin_start": 5634.4,
            "bin_end": 6338.7,
            "count": 0
           },
           {
            "bin_start": 6338.7,
            "bin_end": 7043,
            "count": 1
           }
          ]
         }
        },
        {
         "name": "MonthlyCharges",
         "dtype": "float64",
         "stats": {
          "unique_count": 8,
          "nan_count": 0,
          "min": "18.25",
          "max": "7043.0",
          "histogram": [
           {
            "bin_start": 18.25,
            "bin_end": 720.725,
            "count": 7
           },
           {
            "bin_start": 720.725,
            "bin_end": 1423.2,
            "count": 0
           },
           {
            "bin_start": 1423.2,
            "bin_end": 2125.675,
            "count": 0
           },
           {
            "bin_start": 2125.675,
            "bin_end": 2828.15,
            "count": 0
           },
           {
            "bin_start": 2828.15,
            "bin_end": 3530.625,
            "count": 0
           },
           {
            "bin_start": 3530.625,
            "bin_end": 4233.1,
            "count": 0
           },
           {
            "bin_start": 4233.1,
            "bin_end": 4935.575,
            "count": 0
           },
           {
            "bin_start": 4935.575,
            "bin_end": 5638.05,
            "count": 0
           },
           {
            "bin_start": 5638.05,
            "bin_end": 6340.525000000001,
            "count": 0
           },
           {
            "bin_start": 6340.525000000001,
            "bin_end": 7043,
            "count": 1
           }
          ]
         }
        },
        {
         "name": "TotalCharges",
         "dtype": "float64",
         "stats": {
          "unique_count": 8,
          "nan_count": 0,
          "min": "0.0",
          "max": "8684.8",
          "histogram": [
           {
            "bin_start": 0,
            "bin_end": 868.4799999999999,
            "count": 2
           },
           {
            "bin_start": 868.4799999999999,
            "bin_end": 1736.9599999999998,
            "count": 1
           },
           {
            "bin_start": 1736.9599999999998,
            "bin_end": 2605.4399999999996,
            "count": 2
           },
           {
            "bin_start": 2605.4399999999996,
            "bin_end": 3473.9199999999996,
            "count": 0
           },
           {
            "bin_start": 3473.9199999999996,
            "bin_end": 4342.4,
            "count": 1
           },
           {
            "bin_start": 4342.4,
            "bin_end": 5210.879999999999,
            "count": 0
           },
           {
            "bin_start": 5210.879999999999,
            "bin_end": 6079.36,
            "count": 0
           },
           {
            "bin_start": 6079.36,
            "bin_end": 6947.839999999999,
            "count": 0
           },
           {
            "bin_start": 6947.839999999999,
            "bin_end": 7816.319999999999,
            "count": 1
           },
           {
            "bin_start": 7816.319999999999,
            "bin_end": 8684.8,
            "count": 1
           }
          ]
         }
        },
        {
         "name": "_deepnote_index_column",
         "dtype": "object"
        }
       ],
       "rows_top": [
        {
         "SeniorCitizen": 7043,
         "tenure": 7043,
         "MonthlyCharges": 7043,
         "TotalCharges": 7043,
         "_deepnote_index_column": "count"
        },
        {
         "SeniorCitizen": 0.1621468124378816,
         "tenure": 32.37114865824223,
         "MonthlyCharges": 64.76169246059918,
         "TotalCharges": 2279.7343035638223,
         "_deepnote_index_column": "mean"
        },
        {
         "SeniorCitizen": 0.3686116056100131,
         "tenure": 24.55948102309446,
         "MonthlyCharges": 30.090047097678493,
         "TotalCharges": 2266.7944696890213,
         "_deepnote_index_column": "std"
        },
        {
         "SeniorCitizen": 0,
         "tenure": 0,
         "MonthlyCharges": 18.25,
         "TotalCharges": 0,
         "_deepnote_index_column": "min"
        },
        {
         "SeniorCitizen": 0,
         "tenure": 9,
         "MonthlyCharges": 35.5,
         "TotalCharges": 398.55,
         "_deepnote_index_column": "25%"
        },
        {
         "SeniorCitizen": 0,
         "tenure": 29,
         "MonthlyCharges": 70.35,
         "TotalCharges": 1394.55,
         "_deepnote_index_column": "50%"
        },
        {
         "SeniorCitizen": 0,
         "tenure": 55,
         "MonthlyCharges": 89.85,
         "TotalCharges": 3786.6,
         "_deepnote_index_column": "75%"
        },
        {
         "SeniorCitizen": 1,
         "tenure": 72,
         "MonthlyCharges": 118.75,
         "TotalCharges": 8684.8,
         "_deepnote_index_column": "max"
        }
       ],
       "rows_bottom": null
      },
      "text/plain": "       SeniorCitizen       tenure  MonthlyCharges  TotalCharges\ncount    7043.000000  7043.000000     7043.000000   7043.000000\nmean        0.162147    32.371149       64.761692   2279.734304\nstd         0.368612    24.559481       30.090047   2266.794470\nmin         0.000000     0.000000       18.250000      0.000000\n25%         0.000000     9.000000       35.500000    398.550000\n50%         0.000000    29.000000       70.350000   1394.550000\n75%         0.000000    55.000000       89.850000   3786.600000\nmax         1.000000    72.000000      118.750000   8684.800000",
      "text/html": "<div>\n<style scoped>\n    .dataframe tbody tr th:only-of-type {\n        vertical-align: middle;\n    }\n\n    .dataframe tbody tr th {\n        vertical-align: top;\n    }\n\n    .dataframe thead th {\n        text-align: right;\n    }\n</style>\n<table border=\"1\" class=\"dataframe\">\n  <thead>\n    <tr style=\"text-align: right;\">\n      <th></th>\n      <th>SeniorCitizen</th>\n      <th>tenure</th>\n      <th>MonthlyCharges</th>\n      <th>TotalCharges</th>\n    </tr>\n  </thead>\n  <tbody>\n    <tr>\n      <th>count</th>\n      <td>7043.000000</td>\n      <td>7043.000000</td>\n      <td>7043.000000</td>\n      <td>7043.000000</td>\n    </tr>\n    <tr>\n      <th>mean</th>\n      <td>0.162147</td>\n      <td>32.371149</td>\n      <td>64.761692</td>\n      <td>2279.734304</td>\n    </tr>\n    <tr>\n      <th>std</th>\n      <td>0.368612</td>\n      <td>24.559481</td>\n      <td>30.090047</td>\n      <td>2266.794470</td>\n    </tr>\n    <tr>\n      <th>min</th>\n      <td>0.000000</td>\n      <td>0.000000</td>\n      <td>18.250000</td>\n      <td>0.000000</td>\n    </tr>\n    <tr>\n      <th>25%</th>\n      <td>0.000000</td>\n      <td>9.000000</td>\n      <td>35.500000</td>\n      <td>398.550000</td>\n    </tr>\n    <tr>\n      <th>50%</th>\n      <td>0.000000</td>\n      <td>29.000000</td>\n      <td>70.350000</td>\n      <td>1394.550000</td>\n    </tr>\n    <tr>\n      <th>75%</th>\n      <td>0.000000</td>\n      <td>55.000000</td>\n      <td>89.850000</td>\n      <td>3786.600000</td>\n    </tr>\n    <tr>\n      <th>max</th>\n      <td>1.000000</td>\n      <td>72.000000</td>\n      <td>118.750000</td>\n      <td>8684.800000</td>\n    </tr>\n  </tbody>\n</table>\n</div>"
     },
     "metadata": {}
    }
   ],
   "execution_count": 165
  },
  {
   "cell_type": "code",
   "source": "sns.countplot(x='Churn', data=df)",
   "metadata": {
    "tags": [],
    "cell_id": "00016-09d2fecf-8d57-4a47-840d-bd09b7df7e11",
    "deepnote_to_be_reexecuted": false,
    "source_hash": "7dff2bb5",
    "execution_start": 1638649664324,
    "execution_millis": 291,
    "deepnote_output_heights": [
     21.199996948242188,
     264,
     264
    ],
    "deepnote_cell_type": "code"
   },
   "outputs": [
    {
     "output_type": "execute_result",
     "execution_count": 166,
     "data": {
      "text/plain": "<AxesSubplot:xlabel='Churn', ylabel='count'>"
     },
     "metadata": {}
    },
    {
     "data": {
      "text/plain": "<Figure size 432x288 with 1 Axes>",
      "image/png": "[encoded data removed]"
     },
     "metadata": {
      "needs_background": "light",
      "image/png": {
       "width": 395,
       "height": 262
      }
     },
     "output_type": "display_data"
    }
   ],
   "execution_count": 166
  },
  {
   "cell_type": "code",
   "source": "sns.countplot(x='gender', hue='Churn', data=df)",
   "metadata": {
    "tags": [],
    "cell_id": "00015-33d007d1-38e4-4c06-8556-29a7de0d85a9",
    "deepnote_to_be_reexecuted": false,
    "source_hash": "7c89c88f",
    "execution_start": 1638649664895,
    "execution_millis": 367,
    "deepnote_output_heights": [
     21.199996948242188,
     264
    ],
    "deepnote_cell_type": "code"
   },
   "outputs": [
    {
     "output_type": "execute_result",
     "execution_count": 167,
     "data": {
      "text/plain": "<AxesSubplot:xlabel='gender', ylabel='count'>"
     },
     "metadata": {}
    },
    {
     "data": {
      "text/plain": "<Figure size 432x288 with 1 Axes>",
      "image/png": "[encoded data removed]"
     },
     "metadata": {
      "needs_background": "light",
      "image/png": {
       "width": 395,
       "height": 262
      }
     },
     "output_type": "display_data"
    }
   ],
   "execution_count": 167
  },
  {
   "cell_type": "code",
   "source": "sns.countplot(x='InternetService', hue='Churn', data=df)",
   "metadata": {
    "tags": [],
    "cell_id": "00016-e8e31991-0bd4-4062-88e4-ac0b33a4bbb0",
    "deepnote_to_be_reexecuted": false,
    "source_hash": "93d1912a",
    "execution_start": 1638649668046,
    "execution_millis": 406,
    "deepnote_output_heights": [
     21.199996948242188,
     264
    ],
    "deepnote_cell_type": "code"
   },
   "outputs": [
    {
     "output_type": "execute_result",
     "execution_count": 168,
     "data": {
      "text/plain": "<AxesSubplot:xlabel='InternetService', ylabel='count'>"
     },
     "metadata": {}
    },
    {
     "data": {
      "text/plain": "<Figure size 432x288 with 1 Axes>",
      "image/png": "[encoded data removed]"
     },
     "metadata": {
      "needs_background": "light",
      "image/png": {
       "width": 395,
       "height": 262
      }
     },
     "output_type": "display_data"
    }
   ],
   "execution_count": 168
  },
  {
   "cell_type": "code",
   "source": "sns.countplot(x='PhoneService', hue='Churn', data=df)",
   "metadata": {
    "tags": [],
    "cell_id": "00018-bfcee506-8024-47ce-ba14-c648b3e1084e",
    "deepnote_to_be_reexecuted": false,
    "source_hash": "13d8cf6f",
    "execution_start": 1638649668517,
    "execution_millis": 283,
    "deepnote_output_heights": [
     21.199996948242188,
     264
    ],
    "deepnote_cell_type": "code"
   },
   "outputs": [
    {
     "output_type": "execute_result",
     "execution_count": 169,
     "data": {
      "text/plain": "<AxesSubplot:xlabel='PhoneService', ylabel='count'>"
     },
     "metadata": {}
    },
    {
     "data": {
      "text/plain": "<Figure size 432x288 with 1 Axes>",
      "image/png": "[encoded data removed]"
     },
     "metadata": {
      "needs_background": "light",
      "image/png": {
       "width": 395,
       "height": 262
      }
     },
     "output_type": "display_data"
    }
   ],
   "execution_count": 169
  },
  {
   "cell_type": "code",
   "source": "sns.heatmap(df[['tenure', 'MonthlyCharges', 'TotalCharges']].corr(), annot=True)",
   "metadata": {
    "tags": [],
    "cell_id": "00021-4a89050e-d040-4d79-8eb0-f4fd4d93f114",
    "deepnote_to_be_reexecuted": false,
    "source_hash": "51e02d3c",
    "execution_start": 1638649716389,
    "execution_millis": 496,
    "deepnote_output_heights": [
     21.199996948242188,
     254
    ],
    "deepnote_cell_type": "code"
   },
   "outputs": [
    {
     "output_type": "execute_result",
     "execution_count": 172,
     "data": {
      "text/plain": "<AxesSubplot:>"
     },
     "metadata": {}
    },
    {
     "data": {
      "text/plain": "<Figure size 432x288 with 2 Axes>",
      "image/png": "[encoded data removed]"
     },
     "metadata": {
      "needs_background": "light",
      "image/png": {
       "width": 420,
       "height": 252
      }
     },
     "output_type": "display_data"
    }
   ],
   "execution_count": 172
  },
  {
   "cell_type": "code",
   "source": "(df['TotalCharges'] - df['MonthlyCharges'] * df['tenure']).mean()",
   "metadata": {
    "tags": [],
    "cell_id": "00020-b9230be1-8adc-4cc0-9da4-118cbf0dfb4c",
    "deepnote_to_be_reexecuted": false,
    "source_hash": "9574004f",
    "execution_start": 1638649788201,
    "execution_millis": 19,
    "deepnote_output_heights": [
     21.199996948242188
    ],
    "deepnote_cell_type": "code"
   },
   "outputs": [
    {
     "output_type": "execute_result",
     "execution_count": 174,
     "data": {
      "text/plain": "0.1529532869515806"
     },
     "metadata": {}
    }
   ],
   "execution_count": 174
  },
  {
   "cell_type": "code",
   "source": "sns.histplot(df, x='MonthlyCharges', hue='Churn', hue_order=['Yes', 'No'], element='poly')",
   "metadata": {
    "tags": [],
    "cell_id": "00016-3eb25083-6e45-41d9-aa96-38c0ebd6cccb",
    "deepnote_to_be_reexecuted": false,
    "source_hash": "207e0766",
    "execution_start": 1638649669377,
    "execution_millis": 479,
    "deepnote_output_heights": [
     21.199996948242188,
     264
    ],
    "deepnote_cell_type": "code"
   },
   "outputs": [
    {
     "output_type": "execute_result",
     "execution_count": 171,
     "data": {
      "text/plain": "<AxesSubplot:xlabel='MonthlyCharges', ylabel='Count'>"
     },
     "metadata": {}
    },
    {
     "data": {
      "text/plain": "<Figure size 432x288 with 1 Axes>",
      "image/png": "[encoded data removed]"
     },
     "metadata": {
      "needs_background": "light",
      "image/png": {
       "width": 402,
       "height": 262
      }
     },
     "output_type": "display_data"
    }
   ],
   "execution_count": 171
  },
  {
   "cell_type": "code",
   "source": "sns.histplot(df, x='TotalCharges', hue='Churn', hue_order=['Yes', 'No'], element='poly')",
   "metadata": {
    "tags": [],
    "cell_id": "00016-296ded4c-1118-43b9-8a5b-aa8b80a96f08",
    "deepnote_to_be_reexecuted": false,
    "source_hash": "a16eb441",
    "execution_start": 1638648308469,
    "execution_millis": 500,
    "deepnote_output_heights": [
     21.199996948242188,
     264
    ],
    "deepnote_cell_type": "code"
   },
   "outputs": [
    {
     "output_type": "execute_result",
     "execution_count": 129,
     "data": {
      "text/plain": "<AxesSubplot:xlabel='TotalCharges', ylabel='Count'>"
     },
     "metadata": {}
    },
    {
     "data": {
      "text/plain": "<Figure size 432x288 with 1 Axes>",
      "image/png": "[encoded data removed]"
     },
     "metadata": {
      "needs_background": "light",
      "image/png": {
       "width": 389,
       "height": 262
      }
     },
     "output_type": "display_data"
    }
   ],
   "execution_count": 129
  },
  {
   "cell_type": "code",
   "source": "sns.histplot(df, x='tenure', hue='Churn', hue_order=['Yes', 'No'], element='poly')",
   "metadata": {
    "tags": [],
    "cell_id": "00017-62cfb738-aa7e-46d3-b29f-f666a26dc9e6",
    "deepnote_to_be_reexecuted": false,
    "source_hash": "f2227f4a",
    "execution_start": 1638648293534,
    "execution_millis": 576,
    "deepnote_output_heights": [
     21.199996948242188,
     264
    ],
    "deepnote_cell_type": "code"
   },
   "outputs": [
    {
     "output_type": "execute_result",
     "execution_count": 128,
     "data": {
      "text/plain": "<AxesSubplot:xlabel='tenure', ylabel='Count'>"
     },
     "metadata": {}
    },
    {
     "data": {
      "text/plain": "<Figure size 432x288 with 1 Axes>",
      "image/png": "[encoded data removed]"
     },
     "metadata": {
      "needs_background": "light",
      "image/png": {
       "width": 389,
       "height": 262
      }
     },
     "output_type": "display_data"
    }
   ],
   "execution_count": 128
  },
  {
   "cell_type": "markdown",
   "source": "## Treinamento e Utilização dos Modelos",
   "metadata": {
    "tags": [],
    "cell_id": "00009-7491c862-267a-45a3-80df-0d63ccdb5621",
    "deepnote_cell_type": "markdown"
   }
  },
  {
   "cell_type": "markdown",
   "source": "deixa valores das colunas com \"yes\" e \"no\" em 1 e 0, e genero masculino->0 e feminino->1",
   "metadata": {
    "tags": [],
    "cell_id": "00011-054ce3c5-b666-47c9-9339-966bfa0d2a42",
    "deepnote_cell_type": "markdown"
   }
  },
  {
   "cell_type": "code",
   "source": "for col in ['Partner', 'Dependents', 'PhoneService', 'MultipleLines', 'OnlineSecurity', 'OnlineBackup',\n            'DeviceProtection', 'TechSupport', 'StreamingTV', 'StreamingMovies', 'PaperlessBilling']:\n    df[col] = df[col].map(lambda x: int(x == 'Yes'))\ndf['gender'] = df['gender'].map(lambda x: int(x == 'Female'))",
   "metadata": {
    "tags": [],
    "cell_id": "00019-fe96aa46-2402-433e-a364-88a2c8bfa958",
    "deepnote_to_be_reexecuted": false,
    "source_hash": "801733ec",
    "execution_start": 1638647816104,
    "execution_millis": 129,
    "deepnote_cell_type": "code"
   },
   "outputs": [],
   "execution_count": 104
  },
  {
   "cell_type": "markdown",
   "source": "faz o OneHot Encoding das colunas internetService, contract e paymentMethod",
   "metadata": {
    "tags": [],
    "cell_id": "00013-68b5252a-d144-4e2f-8fe0-698c803282a3",
    "deepnote_cell_type": "markdown"
   }
  },
  {
   "cell_type": "code",
   "source": "df = pd.get_dummies(df, columns=['InternetService', 'Contract', 'PaymentMethod'])\ndf.head()",
   "metadata": {
    "tags": [],
    "cell_id": "00012-f664ae74-7ae1-413a-92c4-70952b6db3d5",
    "deepnote_to_be_reexecuted": false,
    "source_hash": "33009c1e",
    "execution_start": 1638647175637,
    "execution_millis": 189,
    "deepnote_cell_type": "code"
   },
   "outputs": [
    {
     "output_type": "execute_result",
     "execution_count": 95,
     "data": {
      "application/vnd.deepnote.dataframe.v2+json": {
       "row_count": 5,
       "column_count": 27,
       "columns": [
        {
         "name": "gender",
         "dtype": "int64",
         "stats": {
          "unique_count": 2,
          "nan_count": 0,
          "min": "0",
          "max": "1",
          "histogram": [
           {
            "bin_start": 0,
            "bin_end": 0.1,
            "count": 3
           },
           {
            "bin_start": 0.1,
            "bin_end": 0.2,
            "count": 0
           },
           {
            "bin_start": 0.2,
            "bin_end": 0.30000000000000004,
            "count": 0
           },
           {
            "bin_start": 0.30000000000000004,
            "bin_end": 0.4,
            "count": 0
           },
           {
            "bin_start": 0.4,
            "bin_end": 0.5,
            "count": 0
           },
           {
            "bin_start": 0.5,
            "bin_end": 0.6000000000000001,
            "count": 0
           },
           {
            "bin_start": 0.6000000000000001,
            "bin_end": 0.7000000000000001,
            "count": 0
           },
           {
            "bin_start": 0.7000000000000001,
            "bin_end": 0.8,
            "count": 0
           },
           {
            "bin_start": 0.8,
            "bin_end": 0.9,
            "count": 0
           },
           {
            "bin_start": 0.9,
            "bin_end": 1,
            "count": 2
           }
          ]
         }
        },
        {
         "name": "SeniorCitizen",
         "dtype": "int64",
         "stats": {
          "unique_count": 1,
          "nan_count": 0,
          "min": "0",
          "max": "0",
          "histogram": [
           {
            "bin_start": -0.5,
            "bin_end": -0.4,
            "count": 0
           },
           {
            "bin_start": -0.4,
            "bin_end": -0.3,
            "count": 0
           },
           {
            "bin_start": -0.3,
            "bin_end": -0.19999999999999996,
            "count": 0
           },
           {
            "bin_start": -0.19999999999999996,
            "bin_end": -0.09999999999999998,
            "count": 0
           },
           {
            "bin_start": -0.09999999999999998,
            "bin_end": 0,
            "count": 0
           },
           {
            "bin_start": 0,
            "bin_end": 0.10000000000000009,
            "count": 5
           },
           {
            "bin_start": 0.10000000000000009,
            "bin_end": 0.20000000000000007,
            "count": 0
           },
           {
            "bin_start": 0.20000000000000007,
            "bin_end": 0.30000000000000004,
            "count": 0
           },
           {
            "bin_start": 0.30000000000000004,
            "bin_end": 0.4,
            "count": 0
           },
           {
            "bin_start": 0.4,
            "bin_end": 0.5,
            "count": 0
           }
          ]
         }
        },
        {
         "name": "Partner",
         "dtype": "int64",
         "stats": {
          "unique_count": 2,
          "nan_count": 0,
          "min": "0",
          "max": "1",
          "histogram": [
           {
            "bin_start": 0,
            "bin_end": 0.1,
            "count": 4
           },
           {
            "bin_start": 0.1,
            "bin_end": 0.2,
            "count": 0
           },
           {
            "bin_start": 0.2,
            "bin_end": 0.30000000000000004,
            "count": 0
           },
           {
            "bin_start": 0.30000000000000004,
            "bin_end": 0.4,
            "count": 0
           },
           {
            "bin_start": 0.4,
            "bin_end": 0.5,
            "count": 0
           },
           {
            "bin_start": 0.5,
            "bin_end": 0.6000000000000001,
            "count": 0
           },
           {
            "bin_start": 0.6000000000000001,
            "bin_end": 0.7000000000000001,
            "count": 0
           },
           {
            "bin_start": 0.7000000000000001,
            "bin_end": 0.8,
            "count": 0
           },
           {
            "bin_start": 0.8,
            "bin_end": 0.9,
            "count": 0
           },
           {
            "bin_start": 0.9,
            "bin_end": 1,
            "count": 1
           }
          ]
         }
        },
        {
         "name": "Dependents",
         "dtype": "int64",
         "stats": {
          "unique_count": 1,
          "nan_count": 0,
          "min": "0",
          "max": "0",
          "histogram": [
           {
            "bin_start": -0.5,
            "bin_end": -0.4,
            "count": 0
           },
           {
            "bin_start": -0.4,
            "bin_end": -0.3,
            "count": 0
           },
           {
            "bin_start": -0.3,
            "bin_end": -0.19999999999999996,
            "count": 0
           },
           {
            "bin_start": -0.19999999999999996,
            "bin_end": -0.09999999999999998,
            "count": 0
           },
           {
            "bin_start": -0.09999999999999998,
            "bin_end": 0,
            "count": 0
           },
           {
            "bin_start": 0,
            "bin_end": 0.10000000000000009,
            "count": 5
           },
           {
            "bin_start": 0.10000000000000009,
            "bin_end": 0.20000000000000007,
            "count": 0
           },
           {
            "bin_start": 0.20000000000000007,
            "bin_end": 0.30000000000000004,
            "count": 0
           },
           {
            "bin_start": 0.30000000000000004,
            "bin_end": 0.4,
            "count": 0
           },
           {
            "bin_start": 0.4,
            "bin_end": 0.5,
            "count": 0
           }
          ]
         }
        },
        {
         "name": "tenure",
         "dtype": "int64",
         "stats": {
          "unique_count": 4,
          "nan_count": 0,
          "min": "1",
          "max": "45",
          "histogram": [
           {
            "bin_start": 1,
            "bin_end": 5.4,
            "count": 3
           },
           {
            "bin_start": 5.4,
            "bin_end": 9.8,
            "count": 0
           },
           {
            "bin_start": 9.8,
            "bin_end": 14.200000000000001,
            "count": 0
           },
           {
            "bin_start": 14.200000000000001,
            "bin_end": 18.6,
            "count": 0
           },
           {
            "bin_start": 18.6,
            "bin_end": 23,
            "count": 0
           },
           {
            "bin_start": 23,
            "bin_end": 27.400000000000002,
            "count": 0
           },
           {
            "bin_start": 27.400000000000002,
            "bin_end": 31.800000000000004,
            "count": 0
           },
           {
            "bin_start": 31.800000000000004,
            "bin_end": 36.2,
            "count": 1
           },
           {
            "bin_start": 36.2,
            "bin_end": 40.6,
            "count": 0
           },
           {
            "bin_start": 40.6,
            "bin_end": 45,
            "count": 1
           }
          ]
         }
        },
        {
         "name": "PhoneService",
         "dtype": "int64",
         "stats": {
          "unique_count": 2,
          "nan_count": 0,
          "min": "0",
          "max": "1",
          "histogram": [
           {
            "bin_start": 0,
            "bin_end": 0.1,
            "count": 2
           },
           {
            "bin_start": 0.1,
            "bin_end": 0.2,
            "count": 0
           },
           {
            "bin_start": 0.2,
            "bin_end": 0.30000000000000004,
            "count": 0
           },
           {
            "bin_start": 0.30000000000000004,
            "bin_end": 0.4,
            "count": 0
           },
           {
            "bin_start": 0.4,
            "bin_end": 0.5,
            "count": 0
           },
           {
            "bin_start": 0.5,
            "bin_end": 0.6000000000000001,
            "count": 0
           },
           {
            "bin_start": 0.6000000000000001,
            "bin_end": 0.7000000000000001,
            "count": 0
           },
           {
            "bin_start": 0.7000000000000001,
            "bin_end": 0.8,
            "count": 0
           },
           {
            "bin_start": 0.8,
            "bin_end": 0.9,
            "count": 0
           },
           {
            "bin_start": 0.9,
            "bin_end": 1,
            "count": 3
           }
          ]
         }
        },
        {
         "name": "MultipleLines",
         "dtype": "int64",
         "stats": {
          "unique_count": 1,
          "nan_count": 0,
          "min": "0",
          "max": "0",
          "histogram": [
           {
            "bin_start": -0.5,
            "bin_end": -0.4,
            "count": 0
           },
           {
            "bin_start": -0.4,
            "bin_end": -0.3,
            "count": 0
           },
           {
            "bin_start": -0.3,
            "bin_end": -0.19999999999999996,
            "count": 0
           },
           {
            "bin_start": -0.19999999999999996,
            "bin_end": -0.09999999999999998,
            "count": 0
           },
           {
            "bin_start": -0.09999999999999998,
            "bin_end": 0,
            "count": 0
           },
           {
            "bin_start": 0,
            "bin_end": 0.10000000000000009,
            "count": 5
           },
           {
            "bin_start": 0.10000000000000009,
            "bin_end": 0.20000000000000007,
            "count": 0
           },
           {
            "bin_start": 0.20000000000000007,
            "bin_end": 0.30000000000000004,
            "count": 0
           },
           {
            "bin_start": 0.30000000000000004,
            "bin_end": 0.4,
            "count": 0
           },
           {
            "bin_start": 0.4,
            "bin_end": 0.5,
            "count": 0
           }
          ]
         }
        },
        {
         "name": "OnlineSecurity",
         "dtype": "int64",
         "stats": {
          "unique_count": 2,
          "nan_count": 0,
          "min": "0",
          "max": "1",
          "histogram": [
           {
            "bin_start": 0,
            "bin_end": 0.1,
            "count": 2
           },
           {
            "bin_start": 0.1,
            "bin_end": 0.2,
            "count": 0
           },
           {
            "bin_start": 0.2,
            "bin_end": 0.30000000000000004,
            "count": 0
           },
           {
            "bin_start": 0.30000000000000004,
            "bin_end": 0.4,
            "count": 0
           },
           {
            "bin_start": 0.4,
            "bin_end": 0.5,
            "count": 0
           },
           {
            "bin_start": 0.5,
            "bin_end": 0.6000000000000001,
            "count": 0
           },
           {
            "bin_start": 0.6000000000000001,
            "bin_end": 0.7000000000000001,
            "count": 0
           },
           {
            "bin_start": 0.7000000000000001,
            "bin_end": 0.8,
            "count": 0
           },
           {
            "bin_start": 0.8,
            "bin_end": 0.9,
            "count": 0
           },
           {
            "bin_start": 0.9,
            "bin_end": 1,
            "count": 3
           }
          ]
         }
        },
        {
         "name": "OnlineBackup",
         "dtype": "int64",
         "stats": {
          "unique_count": 2,
          "nan_count": 0,
          "min": "0",
          "max": "1",
          "histogram": [
           {
            "bin_start": 0,
            "bin_end": 0.1,
            "count": 3
           },
           {
            "bin_start": 0.1,
            "bin_end": 0.2,
            "count": 0
           },
           {
            "bin_start": 0.2,
            "bin_end": 0.30000000000000004,
            "count": 0
           },
           {
            "bin_start": 0.30000000000000004,
            "bin_end": 0.4,
            "count": 0
           },
           {
            "bin_start": 0.4,
            "bin_end": 0.5,
            "count": 0
           },
           {
            "bin_start": 0.5,
            "bin_end": 0.6000000000000001,
            "count": 0
           },
           {
            "bin_start": 0.6000000000000001,
            "bin_end": 0.7000000000000001,
            "count": 0
           },
           {
            "bin_start": 0.7000000000000001,
            "bin_end": 0.8,
            "count": 0
           },
           {
            "bin_start": 0.8,
            "bin_end": 0.9,
            "count": 0
           },
           {
            "bin_start": 0.9,
            "bin_end": 1,
            "count": 2
           }
          ]
         }
        },
        {
         "name": "DeviceProtection",
         "dtype": "int64",
         "stats": {
          "unique_count": 2,
          "nan_count": 0,
          "min": "0",
          "max": "1",
          "histogram": [
           {
            "bin_start": 0,
            "bin_end": 0.1,
            "count": 3
           },
           {
            "bin_start": 0.1,
            "bin_end": 0.2,
            "count": 0
           },
           {
            "bin_start": 0.2,
            "bin_end": 0.30000000000000004,
            "count": 0
           },
           {
            "bin_start": 0.30000000000000004,
            "bin_end": 0.4,
            "count": 0
           },
           {
            "bin_start": 0.4,
            "bin_end": 0.5,
            "count": 0
           },
           {
            "bin_start": 0.5,
            "bin_end": 0.6000000000000001,
            "count": 0
           },
           {
            "bin_start": 0.6000000000000001,
            "bin_end": 0.7000000000000001,
            "count": 0
           },
           {
            "bin_start": 0.7000000000000001,
            "bin_end": 0.8,
            "count": 0
           },
           {
            "bin_start": 0.8,
            "bin_end": 0.9,
            "count": 0
           },
           {
            "bin_start": 0.9,
            "bin_end": 1,
            "count": 2
           }
          ]
         }
        },
        {
         "name": "TechSupport",
         "dtype": "int64",
         "stats": {
          "unique_count": 2,
          "nan_count": 0,
          "min": "0",
          "max": "1",
          "histogram": [
           {
            "bin_start": 0,
            "bin_end": 0.1,
            "count": 4
           },
           {
            "bin_start": 0.1,
            "bin_end": 0.2,
            "count": 0
           },
           {
            "bin_start": 0.2,
            "bin_end": 0.30000000000000004,
            "count": 0
           },
           {
            "bin_start": 0.30000000000000004,
            "bin_end": 0.4,
            "count": 0
           },
           {
            "bin_start": 0.4,
            "bin_end": 0.5,
            "count": 0
           },
           {
            "bin_start": 0.5,
            "bin_end": 0.6000000000000001,
            "count": 0
           },
           {
            "bin_start": 0.6000000000000001,
            "bin_end": 0.7000000000000001,
            "count": 0
           },
           {
            "bin_start": 0.7000000000000001,
            "bin_end": 0.8,
            "count": 0
           },
           {
            "bin_start": 0.8,
            "bin_end": 0.9,
            "count": 0
           },
           {
            "bin_start": 0.9,
            "bin_end": 1,
            "count": 1
           }
          ]
         }
        },
        {
         "name": "StreamingTV",
         "dtype": "int64",
         "stats": {
          "unique_count": 1,
          "nan_count": 0,
          "min": "0",
          "max": "0",
          "histogram": [
           {
            "bin_start": -0.5,
            "bin_end": -0.4,
            "count": 0
           },
           {
            "bin_start": -0.4,
            "bin_end": -0.3,
            "count": 0
           },
           {
            "bin_start": -0.3,
            "bin_end": -0.19999999999999996,
            "count": 0
           },
           {
            "bin_start": -0.19999999999999996,
            "bin_end": -0.09999999999999998,
            "count": 0
           },
           {
            "bin_start": -0.09999999999999998,
            "bin_end": 0,
            "count": 0
           },
           {
            "bin_start": 0,
            "bin_end": 0.10000000000000009,
            "count": 5
           },
           {
            "bin_start": 0.10000000000000009,
            "bin_end": 0.20000000000000007,
            "count": 0
           },
           {
            "bin_start": 0.20000000000000007,
            "bin_end": 0.30000000000000004,
            "count": 0
           },
           {
            "bin_start": 0.30000000000000004,
            "bin_end": 0.4,
            "count": 0
           },
           {
            "bin_start": 0.4,
            "bin_end": 0.5,
            "count": 0
           }
          ]
         }
        },
        {
         "name": "StreamingMovies",
         "dtype": "int64",
         "stats": {
          "unique_count": 1,
          "nan_count": 0,
          "min": "0",
          "max": "0",
          "histogram": [
           {
            "bin_start": -0.5,
            "bin_end": -0.4,
            "count": 0
           },
           {
            "bin_start": -0.4,
            "bin_end": -0.3,
            "count": 0
           },
           {
            "bin_start": -0.3,
            "bin_end": -0.19999999999999996,
            "count": 0
           },
           {
            "bin_start": -0.19999999999999996,
            "bin_end": -0.09999999999999998,
            "count": 0
           },
           {
            "bin_start": -0.09999999999999998,
            "bin_end": 0,
            "count": 0
           },
           {
            "bin_start": 0,
            "bin_end": 0.10000000000000009,
            "count": 5
           },
           {
            "bin_start": 0.10000000000000009,
            "bin_end": 0.20000000000000007,
            "count": 0
           },
           {
            "bin_start": 0.20000000000000007,
            "bin_end": 0.30000000000000004,
            "count": 0
           },
           {
            "bin_start": 0.30000000000000004,
            "bin_end": 0.4,
            "count": 0
           },
           {
            "bin_start": 0.4,
            "bin_end": 0.5,
            "count": 0
           }
          ]
         }
        },
        {
         "name": "PaperlessBilling",
         "dtype": "int64",
         "stats": {
          "unique_count": 2,
          "nan_count": 0,
          "min": "0",
          "max": "1",
          "histogram": [
           {
            "bin_start": 0,
            "bin_end": 0.1,
            "count": 2
           },
           {
            "bin_start": 0.1,
            "bin_end": 0.2,
            "count": 0
           },
           {
            "bin_start": 0.2,
            "bin_end": 0.30000000000000004,
            "count": 0
           },
           {
            "bin_start": 0.30000000000000004,
            "bin_end": 0.4,
            "count": 0
           },
           {
            "bin_start": 0.4,
            "bin_end": 0.5,
            "count": 0
           },
           {
            "bin_start": 0.5,
            "bin_end": 0.6000000000000001,
            "count": 0
           },
           {
            "bin_start": 0.6000000000000001,
            "bin_end": 0.7000000000000001,
            "count": 0
           },
           {
            "bin_start": 0.7000000000000001,
            "bin_end": 0.8,
            "count": 0
           },
           {
            "bin_start": 0.8,
            "bin_end": 0.9,
            "count": 0
           },
           {
            "bin_start": 0.9,
            "bin_end": 1,
            "count": 3
           }
          ]
         }
        },
        {
         "name": "MonthlyCharges",
         "dtype": "float64",
         "stats": {
          "unique_count": 5,
          "nan_count": 0,
          "min": "29.85",
          "max": "70.7",
          "histogram": [
           {
            "bin_start": 29.85,
            "bin_end": 33.935,
            "count": 1
           },
           {
            "bin_start": 33.935,
            "bin_end": 38.02,
            "count": 0
           },
           {
            "bin_start": 38.02,
            "bin_end": 42.105000000000004,
            "count": 0
           },
           {
            "bin_start": 42.105000000000004,
            "bin_end": 46.19,
            "count": 1
           },
           {
            "bin_start": 46.19,
            "bin_end": 50.275000000000006,
            "count": 0
           },
           {
            "bin_start": 50.275000000000006,
            "bin_end": 54.36,
            "count": 1
           },
           {
            "bin_start": 54.36,
            "bin_end": 58.445,
            "count": 1
           },
           {
            "bin_start": 58.445,
            "bin_end": 62.53,
            "count": 0
           },
           {
            "bin_start": 62.53,
            "bin_end": 66.61500000000001,
            "count": 0
           },
           {
            "bin_start": 66.61500000000001,
            "bin_end": 70.7,
            "count": 1
           }
          ]
         }
        },
        {
         "name": "TotalCharges",
         "dtype": "float64",
         "stats": {
          "unique_count": 5,
          "nan_count": 0,
          "min": "29.85",
          "max": "1889.5",
          "histogram": [
           {
            "bin_start": 29.85,
            "bin_end": 215.815,
            "count": 3
           },
           {
            "bin_start": 215.815,
            "bin_end": 401.78000000000003,
            "count": 0
           },
           {
            "bin_start": 401.78000000000003,
            "bin_end": 587.745,
            "count": 0
           },
           {
            "bin_start": 587.745,
            "bin_end": 773.71,
            "count": 0
           },
           {
            "bin_start": 773.71,
            "bin_end": 959.6750000000001,
            "count": 0
           },
           {
            "bin_start": 959.6750000000001,
            "bin_end": 1145.6399999999999,
            "count": 0
           },
           {
            "bin_start": 1145.6399999999999,
            "bin_end": 1331.605,
            "count": 0
           },
           {
            "bin_start": 1331.605,
            "bin_end": 1517.57,
            "count": 0
           },
           {
            "bin_start": 1517.57,
            "bin_end": 1703.5349999999999,
            "count": 0
           },
           {
            "bin_start": 1703.5349999999999,
            "bin_end": 1889.5,
            "count": 2
           }
          ]
         }
        },
        {
         "name": "Churn",
         "dtype": "object",
         "stats": {
          "unique_count": 2,
          "nan_count": 0,
          "categories": [
           {
            "name": "No",
            "count": 3
           },
           {
            "name": "Yes",
            "count": 2
           }
          ]
         }
        },
        {
         "name": "InternetService_DSL",
         "dtype": "uint8",
         "stats": {
          "unique_count": 2,
          "nan_count": 0,
          "min": "0",
          "max": "1",
          "histogram": [
           {
            "bin_start": 0,
            "bin_end": 0.1,
            "count": 1
           },
           {
            "bin_start": 0.1,
            "bin_end": 0.2,
            "count": 0
           },
           {
            "bin_start": 0.2,
            "bin_end": 0.30000000000000004,
            "count": 0
           },
           {
            "bin_start": 0.30000000000000004,
            "bin_end": 0.4,
            "count": 0
           },
           {
            "bin_start": 0.4,
            "bin_end": 0.5,
            "count": 0
           },
           {
            "bin_start": 0.5,
            "bin_end": 0.6000000000000001,
            "count": 0
           },
           {
            "bin_start": 0.6000000000000001,
            "bin_end": 0.7000000000000001,
            "count": 0
           },
           {
            "bin_start": 0.7000000000000001,
            "bin_end": 0.8,
            "count": 0
           },
           {
            "bin_start": 0.8,
            "bin_end": 0.9,
            "count": 0
           },
           {
            "bin_start": 0.9,
            "bin_end": 1,
            "count": 4
           }
          ]
         }
        },
        {
         "name": "InternetService_Fiber optic",
         "dtype": "uint8",
         "stats": {
          "unique_count": 2,
          "nan_count": 0,
          "min": "0",
          "max": "1",
          "histogram": [
           {
            "bin_start": 0,
            "bin_end": 0.1,
            "count": 4
           },
           {
            "bin_start": 0.1,
            "bin_end": 0.2,
            "count": 0
           },
           {
            "bin_start": 0.2,
            "bin_end": 0.30000000000000004,
            "count": 0
           },
           {
            "bin_start": 0.30000000000000004,
            "bin_end": 0.4,
            "count": 0
           },
           {
            "bin_start": 0.4,
            "bin_end": 0.5,
            "count": 0
           },
           {
            "bin_start": 0.5,
            "bin_end": 0.6000000000000001,
            "count": 0
           },
           {
            "bin_start": 0.6000000000000001,
            "bin_end": 0.7000000000000001,
            "count": 0
           },
           {
            "bin_start": 0.7000000000000001,
            "bin_end": 0.8,
            "count": 0
           },
           {
            "bin_start": 0.8,
            "bin_end": 0.9,
            "count": 0
           },
           {
            "bin_start": 0.9,
            "bin_end": 1,
            "count": 1
           }
          ]
         }
        },
        {
         "name": "InternetService_No",
         "dtype": "uint8",
         "stats": {
          "unique_count": 1,
          "nan_count": 0,
          "min": "0",
          "max": "0",
          "histogram": [
           {
            "bin_start": -0.5,
            "bin_end": -0.4,
            "count": 0
           },
           {
            "bin_start": -0.4,
            "bin_end": -0.3,
            "count": 0
           },
           {
            "bin_start": -0.3,
            "bin_end": -0.19999999999999996,
            "count": 0
           },
           {
            "bin_start": -0.19999999999999996,
            "bin_end": -0.09999999999999998,
            "count": 0
           },
           {
            "bin_start": -0.09999999999999998,
            "bin_end": 0,
            "count": 0
           },
           {
            "bin_start": 0,
            "bin_end": 0.10000000000000009,
            "count": 5
           },
           {
            "bin_start": 0.10000000000000009,
            "bin_end": 0.20000000000000007,
            "count": 0
           },
           {
            "bin_start": 0.20000000000000007,
            "bin_end": 0.30000000000000004,
            "count": 0
           },
           {
            "bin_start": 0.30000000000000004,
            "bin_end": 0.4,
            "count": 0
           },
           {
            "bin_start": 0.4,
            "bin_end": 0.5,
            "count": 0
           }
          ]
         }
        },
        {
         "name": "Contract_Month-to-month",
         "dtype": "uint8",
         "stats": {
          "unique_count": 2,
          "nan_count": 0,
          "min": "0",
          "max": "1",
          "histogram": [
           {
            "bin_start": 0,
            "bin_end": 0.1,
            "count": 2
           },
           {
            "bin_start": 0.1,
            "bin_end": 0.2,
            "count": 0
           },
           {
            "bin_start": 0.2,
            "bin_end": 0.30000000000000004,
            "count": 0
           },
           {
            "bin_start": 0.30000000000000004,
            "bin_end": 0.4,
            "count": 0
           },
           {
            "bin_start": 0.4,
            "bin_end": 0.5,
            "count": 0
           },
           {
            "bin_start": 0.5,
            "bin_end": 0.6000000000000001,
            "count": 0
           },
           {
            "bin_start": 0.6000000000000001,
            "bin_end": 0.7000000000000001,
            "count": 0
           },
           {
            "bin_start": 0.7000000000000001,
            "bin_end": 0.8,
            "count": 0
           },
           {
            "bin_start": 0.8,
            "bin_end": 0.9,
            "count": 0
           },
           {
            "bin_start": 0.9,
            "bin_end": 1,
            "count": 3
           }
          ]
         }
        },
        {
         "name": "Contract_One year",
         "dtype": "uint8",
         "stats": {
          "unique_count": 2,
          "nan_count": 0,
          "min": "0",
          "max": "1",
          "histogram": [
           {
            "bin_start": 0,
            "bin_end": 0.1,
            "count": 3
           },
           {
            "bin_start": 0.1,
            "bin_end": 0.2,
            "count": 0
           },
           {
            "bin_start": 0.2,
            "bin_end": 0.30000000000000004,
            "count": 0
           },
           {
            "bin_start": 0.30000000000000004,
            "bin_end": 0.4,
            "count": 0
           },
           {
            "bin_start": 0.4,
            "bin_end": 0.5,
            "count": 0
           },
           {
            "bin_start": 0.5,
            "bin_end": 0.6000000000000001,
            "count": 0
           },
           {
            "bin_start": 0.6000000000000001,
            "bin_end": 0.7000000000000001,
            "count": 0
           },
           {
            "bin_start": 0.7000000000000001,
            "bin_end": 0.8,
            "count": 0
           },
           {
            "bin_start": 0.8,
            "bin_end": 0.9,
            "count": 0
           },
           {
            "bin_start": 0.9,
            "bin_end": 1,
            "count": 2
           }
          ]
         }
        },
        {
         "name": "Contract_Two year",
         "dtype": "uint8",
         "stats": {
          "unique_count": 1,
          "nan_count": 0,
          "min": "0",
          "max": "0",
          "histogram": [
           {
            "bin_start": -0.5,
            "bin_end": -0.4,
            "count": 0
           },
           {
            "bin_start": -0.4,
            "bin_end": -0.3,
            "count": 0
           },
           {
            "bin_start": -0.3,
            "bin_end": -0.19999999999999996,
            "count": 0
           },
           {
            "bin_start": -0.19999999999999996,
            "bin_end": -0.09999999999999998,
            "count": 0
           },
           {
            "bin_start": -0.09999999999999998,
            "bin_end": 0,
            "count": 0
           },
           {
            "bin_start": 0,
            "bin_end": 0.10000000000000009,
            "count": 5
           },
           {
            "bin_start": 0.10000000000000009,
            "bin_end": 0.20000000000000007,
            "count": 0
           },
           {
            "bin_start": 0.20000000000000007,
            "bin_end": 0.30000000000000004,
            "count": 0
           },
           {
            "bin_start": 0.30000000000000004,
            "bin_end": 0.4,
            "count": 0
           },
           {
            "bin_start": 0.4,
            "bin_end": 0.5,
            "count": 0
           }
          ]
         }
        },
        {
         "name": "PaymentMethod_Bank transfer (automatic)",
         "dtype": "uint8",
         "stats": {
          "unique_count": 2,
          "nan_count": 0,
          "min": "0",
          "max": "1",
          "histogram": [
           {
            "bin_start": 0,
            "bin_end": 0.1,
            "count": 4
           },
           {
            "bin_start": 0.1,
            "bin_end": 0.2,
            "count": 0
           },
           {
            "bin_start": 0.2,
            "bin_end": 0.30000000000000004,
            "count": 0
           },
           {
            "bin_start": 0.30000000000000004,
            "bin_end": 0.4,
            "count": 0
           },
           {
            "bin_start": 0.4,
            "bin_end": 0.5,
            "count": 0
           },
           {
            "bin_start": 0.5,
            "bin_end": 0.6000000000000001,
            "count": 0
           },
           {
            "bin_start": 0.6000000000000001,
            "bin_end": 0.7000000000000001,
            "count": 0
           },
           {
            "bin_start": 0.7000000000000001,
            "bin_end": 0.8,
            "count": 0
           },
           {
            "bin_start": 0.8,
            "bin_end": 0.9,
            "count": 0
           },
           {
            "bin_start": 0.9,
            "bin_end": 1,
            "count": 1
           }
          ]
         }
        },
        {
         "name": "PaymentMethod_Credit card (automatic)",
         "dtype": "uint8",
         "stats": {
          "unique_count": 1,
          "nan_count": 0,
          "min": "0",
          "max": "0",
          "histogram": [
           {
            "bin_start": -0.5,
            "bin_end": -0.4,
            "count": 0
           },
           {
            "bin_start": -0.4,
            "bin_end": -0.3,
            "count": 0
           },
           {
            "bin_start": -0.3,
            "bin_end": -0.19999999999999996,
            "count": 0
           },
           {
            "bin_start": -0.19999999999999996,
            "bin_end": -0.09999999999999998,
            "count": 0
           },
           {
            "bin_start": -0.09999999999999998,
            "bin_end": 0,
            "count": 0
           },
           {
            "bin_start": 0,
            "bin_end": 0.10000000000000009,
            "count": 5
           },
           {
            "bin_start": 0.10000000000000009,
            "bin_end": 0.20000000000000007,
            "count": 0
           },
           {
            "bin_start": 0.20000000000000007,
            "bin_end": 0.30000000000000004,
            "count": 0
           },
           {
            "bin_start": 0.30000000000000004,
            "bin_end": 0.4,
            "count": 0
           },
           {
            "bin_start": 0.4,
            "bin_end": 0.5,
            "count": 0
           }
          ]
         }
        },
        {
         "name": "PaymentMethod_Electronic check",
         "dtype": "uint8",
         "stats": {
          "unique_count": 2,
          "nan_count": 0,
          "min": "0",
          "max": "1",
          "histogram": [
           {
            "bin_start": 0,
            "bin_end": 0.1,
            "count": 3
           },
           {
            "bin_start": 0.1,
            "bin_end": 0.2,
            "count": 0
           },
           {
            "bin_start": 0.2,
            "bin_end": 0.30000000000000004,
            "count": 0
           },
           {
            "bin_start": 0.30000000000000004,
            "bin_end": 0.4,
            "count": 0
           },
           {
            "bin_start": 0.4,
            "bin_end": 0.5,
            "count": 0
           },
           {
            "bin_start": 0.5,
            "bin_end": 0.6000000000000001,
            "count": 0
           },
           {
            "bin_start": 0.6000000000000001,
            "bin_end": 0.7000000000000001,
            "count": 0
           },
           {
            "bin_start": 0.7000000000000001,
            "bin_end": 0.8,
            "count": 0
           },
           {
            "bin_start": 0.8,
            "bin_end": 0.9,
            "count": 0
           },
           {
            "bin_start": 0.9,
            "bin_end": 1,
            "count": 2
           }
          ]
         }
        },
        {
         "name": "PaymentMethod_Mailed check",
         "dtype": "uint8",
         "stats": {
          "unique_count": 2,
          "nan_count": 0,
          "min": "0",
          "max": "1",
          "histogram": [
           {
            "bin_start": 0,
            "bin_end": 0.1,
            "count": 3
           },
           {
            "bin_start": 0.1,
            "bin_end": 0.2,
            "count": 0
           },
           {
            "bin_start": 0.2,
            "bin_end": 0.30000000000000004,
            "count": 0
           },
           {
            "bin_start": 0.30000000000000004,
            "bin_end": 0.4,
            "count": 0
           },
           {
            "bin_start": 0.4,
            "bin_end": 0.5,
            "count": 0
           },
           {
            "bin_start": 0.5,
            "bin_end": 0.6000000000000001,
            "count": 0
           },
           {
            "bin_start": 0.6000000000000001,
            "bin_end": 0.7000000000000001,
            "count": 0
           },
           {
            "bin_start": 0.7000000000000001,
            "bin_end": 0.8,
            "count": 0
           },
           {
            "bin_start": 0.8,
            "bin_end": 0.9,
            "count": 0
           },
           {
            "bin_start": 0.9,
            "bin_end": 1,
            "count": 2
           }
          ]
         }
        },
        {
         "name": "_deepnote_index_column",
         "dtype": "int64"
        }
       ],
       "rows_top": [
        {
         "gender": 1,
         "SeniorCitizen": 0,
         "Partner": 1,
         "Dependents": 0,
         "tenure": 1,
         "PhoneService": 0,
         "MultipleLines": 0,
         "OnlineSecurity": 0,
         "OnlineBackup": 1,
         "DeviceProtection": 0,
         "TechSupport": 0,
         "StreamingTV": 0,
         "StreamingMovies": 0,
         "PaperlessBilling": 1,
         "MonthlyCharges": 29.85,
         "TotalCharges": 29.85,
         "Churn": "No",
         "InternetService_DSL": 1,
         "InternetService_Fiber optic": 0,
         "InternetService_No": 0,
         "Contract_Month-to-month": 1,
         "Contract_One year": 0,
         "Contract_Two year": 0,
         "PaymentMethod_Bank transfer (automatic)": 0,
         "PaymentMethod_Credit card (automatic)": 0,
         "PaymentMethod_Electronic check": 1,
         "PaymentMethod_Mailed check": 0,
         "_deepnote_index_column": 0
        },
        {
         "gender": 0,
         "SeniorCitizen": 0,
         "Partner": 0,
         "Dependents": 0,
         "tenure": 34,
         "PhoneService": 1,
         "MultipleLines": 0,
         "OnlineSecurity": 1,
         "OnlineBackup": 0,
         "DeviceProtection": 1,
         "TechSupport": 0,
         "StreamingTV": 0,
         "StreamingMovies": 0,
         "PaperlessBilling": 0,
         "MonthlyCharges": 56.95,
         "TotalCharges": 1889.5,
         "Churn": "No",
         "InternetService_DSL": 1,
         "InternetService_Fiber optic": 0,
         "InternetService_No": 0,
         "Contract_Month-to-month": 0,
         "Contract_One year": 1,
         "Contract_Two year": 0,
         "PaymentMethod_Bank transfer (automatic)": 0,
         "PaymentMethod_Credit card (automatic)": 0,
         "PaymentMethod_Electronic check": 0,
         "PaymentMethod_Mailed check": 1,
         "_deepnote_index_column": 1
        },
        {
         "gender": 0,
         "SeniorCitizen": 0,
         "Partner": 0,
         "Dependents": 0,
         "tenure": 2,
         "PhoneService": 1,
         "MultipleLines": 0,
         "OnlineSecurity": 1,
         "OnlineBackup": 1,
         "DeviceProtection": 0,
         "TechSupport": 0,
         "StreamingTV": 0,
         "StreamingMovies": 0,
         "PaperlessBilling": 1,
         "MonthlyCharges": 53.85,
         "TotalCharges": 108.15,
         "Churn": "Yes",
         "InternetService_DSL": 1,
         "InternetService_Fiber optic": 0,
         "InternetService_No": 0,
         "Contract_Month-to-month": 1,
         "Contract_One year": 0,
         "Contract_Two year": 0,
         "PaymentMethod_Bank transfer (automatic)": 0,
         "PaymentMethod_Credit card (automatic)": 0,
         "PaymentMethod_Electronic check": 0,
         "PaymentMethod_Mailed check": 1,
         "_deepnote_index_column": 2
        },
        {
         "gender": 0,
         "SeniorCitizen": 0,
         "Partner": 0,
         "Dependents": 0,
         "tenure": 45,
         "PhoneService": 0,
         "MultipleLines": 0,
         "OnlineSecurity": 1,
         "OnlineBackup": 0,
         "DeviceProtection": 1,
         "TechSupport": 1,
         "StreamingTV": 0,
         "StreamingMovies": 0,
         "PaperlessBilling": 0,
         "MonthlyCharges": 42.3,
         "TotalCharges": 1840.75,
         "Churn": "No",
         "InternetService_DSL": 1,
         "InternetService_Fiber optic": 0,
         "InternetService_No": 0,
         "Contract_Month-to-month": 0,
         "Contract_One year": 1,
         "Contract_Two year": 0,
         "PaymentMethod_Bank transfer (automatic)": 1,
         "PaymentMethod_Credit card (automatic)": 0,
         "PaymentMethod_Electronic check": 0,
         "PaymentMethod_Mailed check": 0,
         "_deepnote_index_column": 3
        },
        {
         "gender": 1,
         "SeniorCitizen": 0,
         "Partner": 0,
         "Dependents": 0,
         "tenure": 2,
         "PhoneService": 1,
         "MultipleLines": 0,
         "OnlineSecurity": 0,
         "OnlineBackup": 0,
         "DeviceProtection": 0,
         "TechSupport": 0,
         "StreamingTV": 0,
         "StreamingMovies": 0,
         "PaperlessBilling": 1,
         "MonthlyCharges": 70.7,
         "TotalCharges": 151.65,
         "Churn": "Yes",
         "InternetService_DSL": 0,
         "InternetService_Fiber optic": 1,
         "InternetService_No": 0,
         "Contract_Month-to-month": 1,
         "Contract_One year": 0,
         "Contract_Two year": 0,
         "PaymentMethod_Bank transfer (automatic)": 0,
         "PaymentMethod_Credit card (automatic)": 0,
         "PaymentMethod_Electronic check": 1,
         "PaymentMethod_Mailed check": 0,
         "_deepnote_index_column": 4
        }
       ],
       "rows_bottom": null
      },
      "text/plain": "   gender  SeniorCitizen  Partner  Dependents  tenure  PhoneService  \\\n0       1              0        1           0       1             0   \n1       0              0        0           0      34             1   \n2       0              0        0           0       2             1   \n3       0              0        0           0      45             0   \n4       1              0        0           0       2             1   \n\n   MultipleLines  OnlineSecurity  OnlineBackup  DeviceProtection  ...  \\\n0              0               0             1                 0  ...   \n1              0               1             0                 1  ...   \n2              0               1             1                 0  ...   \n3              0               1             0                 1  ...   \n4              0               0             0                 0  ...   \n\n   InternetService_DSL  InternetService_Fiber optic  InternetService_No  \\\n0                    1                            0                   0   \n1                    1                            0                   0   \n2                    1                            0                   0   \n3                    1                            0                   0   \n4                    0                            1                   0   \n\n   Contract_Month-to-month  Contract_One year  Contract_Two year  \\\n0                        1                  0                  0   \n1                        0                  1                  0   \n2                        1                  0                  0   \n3                        0                  1                  0   \n4                        1                  0                  0   \n\n  PaymentMethod_Bank transfer (automatic)  \\\n0                                       0   \n1                                       0   \n2                                       0   \n3                                       1   \n4                                       0   \n\n   PaymentMethod_Credit card (automatic)  PaymentMethod_Electronic check  \\\n0                                      0                               1   \n1                                      0                               0   \n2                                      0                               0   \n3                                      0                               0   \n4                                      0                               1   \n\n   PaymentMethod_Mailed check  \n0                           0  \n1                           1  \n2                           1  \n3                           0  \n4                           0  \n\n[5 rows x 27 columns]",
      "text/html": "<div>\n<style scoped>\n    .dataframe tbody tr th:only-of-type {\n        vertical-align: middle;\n    }\n\n    .dataframe tbody tr th {\n        vertical-align: top;\n    }\n\n    .dataframe thead th {\n        text-align: right;\n    }\n</style>\n<table border=\"1\" class=\"dataframe\">\n  <thead>\n    <tr style=\"text-align: right;\">\n      <th></th>\n      <th>gender</th>\n      <th>SeniorCitizen</th>\n      <th>Partner</th>\n      <th>Dependents</th>\n      <th>tenure</th>\n      <th>PhoneService</th>\n      <th>MultipleLines</th>\n      <th>OnlineSecurity</th>\n      <th>OnlineBackup</th>\n      <th>DeviceProtection</th>\n      <th>...</th>\n      <th>InternetService_DSL</th>\n      <th>InternetService_Fiber optic</th>\n      <th>InternetService_No</th>\n      <th>Contract_Month-to-month</th>\n      <th>Contract_One year</th>\n      <th>Contract_Two year</th>\n      <th>PaymentMethod_Bank transfer (automatic)</th>\n      <th>PaymentMethod_Credit card (automatic)</th>\n      <th>PaymentMethod_Electronic check</th>\n      <th>PaymentMethod_Mailed check</th>\n    </tr>\n  </thead>\n  <tbody>\n    <tr>\n      <th>0</th>\n      <td>1</td>\n      <td>0</td>\n      <td>1</td>\n      <td>0</td>\n      <td>1</td>\n      <td>0</td>\n      <td>0</td>\n      <td>0</td>\n      <td>1</td>\n      <td>0</td>\n      <td>...</td>\n      <td>1</td>\n      <td>0</td>\n      <td>0</td>\n      <td>1</td>\n      <td>0</td>\n      <td>0</td>\n      <td>0</td>\n      <td>0</td>\n      <td>1</td>\n      <td>0</td>\n    </tr>\n    <tr>\n      <th>1</th>\n      <td>0</td>\n      <td>0</td>\n      <td>0</td>\n      <td>0</td>\n      <td>34</td>\n      <td>1</td>\n      <td>0</td>\n      <td>1</td>\n      <td>0</td>\n      <td>1</td>\n      <td>...</td>\n      <td>1</td>\n      <td>0</td>\n      <td>0</td>\n      <td>0</td>\n      <td>1</td>\n      <td>0</td>\n      <td>0</td>\n      <td>0</td>\n      <td>0</td>\n      <td>1</td>\n    </tr>\n    <tr>\n      <th>2</th>\n      <td>0</td>\n      <td>0</td>\n      <td>0</td>\n      <td>0</td>\n      <td>2</td>\n      <td>1</td>\n      <td>0</td>\n      <td>1</td>\n      <td>1</td>\n      <td>0</td>\n      <td>...</td>\n      <td>1</td>\n      <td>0</td>\n      <td>0</td>\n      <td>1</td>\n      <td>0</td>\n      <td>0</td>\n      <td>0</td>\n      <td>0</td>\n      <td>0</td>\n      <td>1</td>\n    </tr>\n    <tr>\n      <th>3</th>\n      <td>0</td>\n      <td>0</td>\n      <td>0</td>\n      <td>0</td>\n      <td>45</td>\n      <td>0</td>\n      <td>0</td>\n      <td>1</td>\n      <td>0</td>\n      <td>1</td>\n      <td>...</td>\n      <td>1</td>\n      <td>0</td>\n      <td>0</td>\n      <td>0</td>\n      <td>1</td>\n      <td>0</td>\n      <td>1</td>\n      <td>0</td>\n      <td>0</td>\n      <td>0</td>\n    </tr>\n    <tr>\n      <th>4</th>\n      <td>1</td>\n      <td>0</td>\n      <td>0</td>\n      <td>0</td>\n      <td>2</td>\n      <td>1</td>\n      <td>0</td>\n      <td>0</td>\n      <td>0</td>\n      <td>0</td>\n      <td>...</td>\n      <td>0</td>\n      <td>1</td>\n      <td>0</td>\n      <td>1</td>\n      <td>0</td>\n      <td>0</td>\n      <td>0</td>\n      <td>0</td>\n      <td>1</td>\n      <td>0</td>\n    </tr>\n  </tbody>\n</table>\n<p>5 rows × 27 columns</p>\n</div>"
     },
     "metadata": {}
    }
   ],
   "execution_count": 95
  },
  {
   "cell_type": "markdown",
   "source": "vai treinar e usar os modelo",
   "metadata": {
    "tags": [],
    "cell_id": "00012-bd99b497-f523-4f2d-9b6c-4c1b88985ea2",
    "deepnote_cell_type": "markdown"
   }
  },
  {
   "cell_type": "markdown",
   "source": "#### Modelo 1: Regressão Logística",
   "metadata": {
    "tags": [],
    "cell_id": "00011-6522d047-369c-431b-b0be-29425fc44845",
    "deepnote_cell_type": "markdown"
   }
  },
  {
   "cell_type": "markdown",
   "source": "#### Modelo 2: Naive Bayes",
   "metadata": {
    "tags": [],
    "cell_id": "00012-b85ae78a-2528-4fa0-bbcb-1037bb0e63de",
    "deepnote_cell_type": "markdown"
   }
  },
  {
   "cell_type": "markdown",
   "source": "#### Modelo 3: KNN",
   "metadata": {
    "tags": [],
    "cell_id": "00013-c2835329-0baa-413e-a7fd-42356ce1c1c8",
    "deepnote_cell_type": "markdown"
   }
  },
  {
   "cell_type": "code",
   "source": "# código dos modelos",
   "metadata": {
    "tags": [],
    "cell_id": "00017-a485fb4b-6944-4533-9251-26009f7bbfc2",
    "deepnote_cell_type": "code"
   },
   "outputs": [],
   "execution_count": null
  },
  {
   "cell_type": "markdown",
   "source": "## Conclusão",
   "metadata": {
    "tags": [],
    "cell_id": "00016-f2a1473c-92e4-4877-8b2c-2665d7897db6",
    "deepnote_cell_type": "markdown"
   }
  },
  {
   "cell_type": "markdown",
   "source": "",
   "metadata": {
    "tags": [],
    "cell_id": "00017-2ef0ec59-b0d1-41eb-a8d6-1fcce0e95102",
    "deepnote_cell_type": "markdown"
   }
  },
  {
   "cell_type": "markdown",
   "source": "<a style='text-decoration:none;line-height:16px;display:flex;color:#5B5B62;padding:10px;justify-content:end;' href='https://deepnote.com?utm_source=created-in-deepnote-cell&projectId=c7a824f5-c5ed-4b9e-96e4-0df2979a8918' target=\"_blank\">\n<img alt='Created in deepnote.com' style='display:inline;max-height:16px;margin:0px;margin-right:7.5px;' src='data:image/svg+xml;base64,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' > </img>\nCreated in <span style='font-weight:600;margin-left:4px;'>Deepnote</span></a>",
   "metadata": {
    "tags": [],
    "created_in_deepnote_cell": true,
    "deepnote_cell_type": "markdown"
   }
  }
 ],
 "nbformat": 4,
 "nbformat_minor": 2,
 "metadata": {
  "orig_nbformat": 2,
  "deepnote": {
   "is_reactive": false
  },
  "deepnote_notebook_id": "403672f2-f342-4ba2-86ee-1751471f4caa",
  "deepnote_execution_queue": []
 }
}