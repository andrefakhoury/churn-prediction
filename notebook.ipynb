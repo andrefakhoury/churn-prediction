{
 "cells": [
  {
   "cell_type": "markdown",
   "source": "## Predição de rotatividade de clientes com Ciência de Dados",
   "metadata": {
    "tags": [],
    "cell_id": "00001-5e7fe9d3-1761-4ab4-a0fb-4b1e620dc5b6",
    "id": "bA5MzE2xsGk0",
    "deepnote_cell_type": "markdown"
   }
  },
  {
   "cell_type": "markdown",
   "source": "Este projeto tem o objetivo de prever a rotatividade de consumidores a partir de informações pessoais, de pagamentos e serviços contratados. A *rotatividade* em questão é a análise dos consumidores com intenção de parar de adquirir os serviços (ou seja, \"deixar\" a empresa).\n\n**Integrantes:**\n- André Luís Mendes Fakhoury\n- Gustavo Vinícius Vieira Silva Soares\n- Thiago Preischadt Pinheiro\n\n**Prof.** Francisco Aparecido Rodrigues\n\n<center>\nUSP - ICMC - 2021\n</center>",
   "metadata": {
    "tags": [],
    "cell_id": "00002-481aab8f-8ce5-4347-b7e7-392b918eba3a",
    "id": "1WGaX_besGk8",
    "deepnote_cell_type": "markdown"
   }
  },
  {
   "cell_type": "markdown",
   "source": "#### Descrição dos atributos",
   "metadata": {
    "tags": [],
    "cell_id": "00002-570fdb8f-5e76-43c7-b68c-e1d620d9a862",
    "deepnote_cell_type": "markdown"
   }
  },
  {
   "cell_type": "markdown",
   "source": "1. customerID: Código identificador do consumidor\n2. gender: Gênero do passageiro (Male/Female)\n3. SeniorCitizen: Indica se o consumidor é um cidadão sênior (0/1)\n4. Partner: Indica se o consumidor possui parceiro (Yes/No)\n5. Dependents: Indica se o consumidor possui dependentes (Yes/No)\n6. tenure: Número de meses que o consumidor permaneceu na empresa\n7. PhoneService: Indica se o consumidor possui serviço de telefone ou não (Yes/No)\n8. MultipleLines: Indica se o consumidor possui multiplas linhas ou não (Yes/No/No phone service)\n9. InternetService: Provedor de internet do cliente (DSL/Fiber optic/No)\n10. OnlineSecurity: Indica se o consumidor possui segurança online ou não (Yes/No/No internet service)\n11. OnlineBackup: Indica se o consumidor possui backup online ou não (Yes/No/No internet service)\n12. DeviceProtection: Indica se o consumidor possui proteção de dispositivo ou não (Yes/No/No internet service)\n13. TechSupport: Indica se o consumidor possui suporte técnico ou não (Yes/No/No internet service)\n14. StreamingTV: Indica se o consumidor possui serviço de streaming de TV ou não (Yes/No/No internet service)\n15. StreamingMovies: Indica se o consumidor possui serviço de streaming de filmes ou não (Yes/No/No internet service)\n16. Contract: O termo de contrato do consumidor (Month-to-month/One year/Two year)\n17. PaperlessBilling: Indica se o consumidor tem cobrança sem papel ou não (Yes/No)\n18. PaymentMethod: Método de cobrança do cliente (Electronic check/Mailed check/Bank transfer (automatic)/Credit card (automatic))\n19. MonthlyCharges: Total cobrado do consumidor mensalmente\n20. TotalCharges: Total cobrado do consumidor\n21. Churn: Indica se o consumidor cancelou o plano ou não (Yes/No)",
   "metadata": {
    "tags": [],
    "cell_id": "00003-2e122f3a-5f83-4dad-810c-1183854499ba",
    "deepnote_cell_type": "markdown"
   }
  },
  {
   "cell_type": "code",
   "metadata": {
    "tags": [],
    "cell_id": "00001-6f8a08fc-a21d-4eb9-a113-d7d6d6e55f69",
    "deepnote_to_be_reexecuted": false,
    "source_hash": "72534847",
    "execution_start": 1639255353076,
    "execution_millis": 2097,
    "id": "2LqLw8QRsGlA",
    "deepnote_cell_type": "code"
   },
   "source": "import numpy as np\nimport pandas as pd\nimport seaborn as sns\nimport matplotlib.pyplot as plt\nfrom sklearn.tree import DecisionTreeClassifier\nfrom sklearn.metrics import roc_auc_score, roc_curve, classification_report\nfrom sklearn.ensemble import RandomForestClassifier\nfrom sklearn.neighbors import KNeighborsClassifier\nfrom sklearn.naive_bayes import GaussianNB\nfrom sklearn.linear_model import LogisticRegression\nfrom sklearn.decomposition import PCA\nfrom sklearn.preprocessing import StandardScaler\nfrom sklearn.model_selection import KFold, train_test_split",
   "outputs": [],
   "execution_count": 1
  },
  {
   "cell_type": "markdown",
   "source": "## Preparação dos Dados",
   "metadata": {
    "tags": [],
    "cell_id": "00005-78e8028a-d702-4401-b1d2-1c1a04da7a24",
    "id": "Eam20oH6sGlD",
    "deepnote_cell_type": "markdown"
   }
  },
  {
   "cell_type": "markdown",
   "source": "Nessa etapa, os dados serão preparados com o objetivo de prepará-los para etapas posteriores do projeto. Será feita a limpeza de dados utilizando métodos de transformação de dados e pré-processamento.",
   "metadata": {
    "tags": [],
    "cell_id": "00005-53117f4f-32f7-40c7-89f0-28c8c9969276",
    "id": "SdZxxlB-sGlE",
    "deepnote_cell_type": "markdown"
   }
  },
  {
   "cell_type": "code",
   "metadata": {
    "tags": [],
    "cell_id": "00005-220dd3e4-680b-40da-95a7-154349a105c9",
    "deepnote_to_be_reexecuted": false,
    "source_hash": "cf90e164",
    "execution_start": 1639255355188,
    "execution_millis": 380,
    "colab": {
     "base_uri": "https://localhost:8080/",
     "height": 539
    },
    "id": "a8qOk_R2sGlE",
    "outputId": "f8ae9a7e-d99a-4ee6-9f0d-7bcdba007d23",
    "deepnote_cell_type": "code"
   },
   "source": "df = pd.read_csv('churn.csv')\ndf.head(10)",
   "outputs": [
    {
     "output_type": "execute_result",
     "execution_count": 2,
     "data": {
      "application/vnd.deepnote.dataframe.v2+json": {
       "row_count": 10,
       "column_count": 21,
       "columns": [
        {
         "name": "customerID",
         "dtype": "object",
         "stats": {
          "unique_count": 10,
          "nan_count": 0,
          "categories": [
           {
            "name": "7590-VHVEG",
            "count": 1
           },
           {
            "name": "5575-GNVDE",
            "count": 1
           },
           {
            "name": "8 others",
            "count": 8
           }
          ]
         }
        },
        {
         "name": "gender",
         "dtype": "object",
         "stats": {
          "unique_count": 2,
          "nan_count": 0,
          "categories": [
           {
            "name": "Female",
            "count": 5
           },
           {
            "name": "Male",
            "count": 5
           }
          ]
         }
        },
        {
         "name": "SeniorCitizen",
         "dtype": "int64",
         "stats": {
          "unique_count": 1,
          "nan_count": 0,
          "min": "0",
          "max": "0",
          "histogram": [
           {
            "bin_start": -0.5,
            "bin_end": -0.4,
            "count": 0
           },
           {
            "bin_start": -0.4,
            "bin_end": -0.3,
            "count": 0
           },
           {
            "bin_start": -0.3,
            "bin_end": -0.19999999999999996,
            "count": 0
           },
           {
            "bin_start": -0.19999999999999996,
            "bin_end": -0.09999999999999998,
            "count": 0
           },
           {
            "bin_start": -0.09999999999999998,
            "bin_end": 0,
            "count": 0
           },
           {
            "bin_start": 0,
            "bin_end": 0.10000000000000009,
            "count": 10
           },
           {
            "bin_start": 0.10000000000000009,
            "bin_end": 0.20000000000000007,
            "count": 0
           },
           {
            "bin_start": 0.20000000000000007,
            "bin_end": 0.30000000000000004,
            "count": 0
           },
           {
            "bin_start": 0.30000000000000004,
            "bin_end": 0.4,
            "count": 0
           },
           {
            "bin_start": 0.4,
            "bin_end": 0.5,
            "count": 0
           }
          ]
         }
        },
        {
         "name": "Partner",
         "dtype": "object",
         "stats": {
          "unique_count": 2,
          "nan_count": 0,
          "categories": [
           {
            "name": "No",
            "count": 8
           },
           {
            "name": "Yes",
            "count": 2
           }
          ]
         }
        },
        {
         "name": "Dependents",
         "dtype": "object",
         "stats": {
          "unique_count": 2,
          "nan_count": 0,
          "categories": [
           {
            "name": "No",
            "count": 8
           },
           {
            "name": "Yes",
            "count": 2
           }
          ]
         }
        },
        {
         "name": "tenure",
         "dtype": "int64",
         "stats": {
          "unique_count": 9,
          "nan_count": 0,
          "min": "1",
          "max": "62",
          "histogram": [
           {
            "bin_start": 1,
            "bin_end": 7.1,
            "count": 3
           },
           {
            "bin_start": 7.1,
            "bin_end": 13.2,
            "count": 2
           },
           {
            "bin_start": 13.2,
            "bin_end": 19.299999999999997,
            "count": 0
           },
           {
            "bin_start": 19.299999999999997,
            "bin_end": 25.4,
            "count": 1
           },
           {
            "bin_start": 25.4,
            "bin_end": 31.5,
            "count": 1
           },
           {
            "bin_start": 31.5,
            "bin_end": 37.599999999999994,
            "count": 1
           },
           {
            "bin_start": 37.599999999999994,
            "bin_end": 43.699999999999996,
            "count": 0
           },
           {
            "bin_start": 43.699999999999996,
            "bin_end": 49.8,
            "count": 1
           },
           {
            "bin_start": 49.8,
            "bin_end": 55.9,
            "count": 0
           },
           {
            "bin_start": 55.9,
            "bin_end": 62,
            "count": 1
           }
          ]
         }
        },
        {
         "name": "PhoneService",
         "dtype": "object",
         "stats": {
          "unique_count": 2,
          "nan_count": 0,
          "categories": [
           {
            "name": "Yes",
            "count": 7
           },
           {
            "name": "No",
            "count": 3
           }
          ]
         }
        },
        {
         "name": "MultipleLines",
         "dtype": "object",
         "stats": {
          "unique_count": 3,
          "nan_count": 0,
          "categories": [
           {
            "name": "No",
            "count": 4
           },
           {
            "name": "No phone service",
            "count": 3
           },
           {
            "name": "Yes",
            "count": 3
           }
          ]
         }
        },
        {
         "name": "InternetService",
         "dtype": "object",
         "stats": {
          "unique_count": 2,
          "nan_count": 0,
          "categories": [
           {
            "name": "DSL",
            "count": 6
           },
           {
            "name": "Fiber optic",
            "count": 4
           }
          ]
         }
        },
        {
         "name": "OnlineSecurity",
         "dtype": "object",
         "stats": {
          "unique_count": 2,
          "nan_count": 0,
          "categories": [
           {
            "name": "No",
            "count": 5
           },
           {
            "name": "Yes",
            "count": 5
           }
          ]
         }
        },
        {
         "name": "OnlineBackup",
         "dtype": "object",
         "stats": {
          "unique_count": 2,
          "nan_count": 0,
          "categories": [
           {
            "name": "No",
            "count": 6
           },
           {
            "name": "Yes",
            "count": 4
           }
          ]
         }
        },
        {
         "name": "DeviceProtection",
         "dtype": "object",
         "stats": {
          "unique_count": 2,
          "nan_count": 0,
          "categories": [
           {
            "name": "No",
            "count": 6
           },
           {
            "name": "Yes",
            "count": 4
           }
          ]
         }
        },
        {
         "name": "TechSupport",
         "dtype": "object",
         "stats": {
          "unique_count": 2,
          "nan_count": 0,
          "categories": [
           {
            "name": "No",
            "count": 8
           },
           {
            "name": "Yes",
            "count": 2
           }
          ]
         }
        },
        {
         "name": "StreamingTV",
         "dtype": "object",
         "stats": {
          "unique_count": 2,
          "nan_count": 0,
          "categories": [
           {
            "name": "No",
            "count": 7
           },
           {
            "name": "Yes",
            "count": 3
           }
          ]
         }
        },
        {
         "name": "StreamingMovies",
         "dtype": "object",
         "stats": {
          "unique_count": 2,
          "nan_count": 0,
          "categories": [
           {
            "name": "No",
            "count": 8
           },
           {
            "name": "Yes",
            "count": 2
           }
          ]
         }
        },
        {
         "name": "Contract",
         "dtype": "object",
         "stats": {
          "unique_count": 2,
          "nan_count": 0,
          "categories": [
           {
            "name": "Month-to-month",
            "count": 7
           },
           {
            "name": "One year",
            "count": 3
           }
          ]
         }
        },
        {
         "name": "PaperlessBilling",
         "dtype": "object",
         "stats": {
          "unique_count": 2,
          "nan_count": 0,
          "categories": [
           {
            "name": "Yes",
            "count": 6
           },
           {
            "name": "No",
            "count": 4
           }
          ]
         }
        },
        {
         "name": "PaymentMethod",
         "dtype": "object",
         "stats": {
          "unique_count": 4,
          "nan_count": 0,
          "categories": [
           {
            "name": "Electronic check",
            "count": 4
           },
           {
            "name": "Mailed check",
            "count": 3
           },
           {
            "name": "2 others",
            "count": 3
           }
          ]
         }
        },
        {
         "name": "MonthlyCharges",
         "dtype": "float64",
         "stats": {
          "unique_count": 10,
          "nan_count": 0,
          "min": "29.75",
          "max": "104.8",
          "histogram": [
           {
            "bin_start": 29.75,
            "bin_end": 37.255,
            "count": 2
           },
           {
            "bin_start": 37.255,
            "bin_end": 44.76,
            "count": 1
           },
           {
            "bin_start": 44.76,
            "bin_end": 52.265,
            "count": 0
           },
           {
            "bin_start": 52.265,
            "bin_end": 59.769999999999996,
            "count": 3
           },
           {
            "bin_start": 59.769999999999996,
            "bin_end": 67.275,
            "count": 0
           },
           {
            "bin_start": 67.275,
            "bin_end": 74.78,
            "count": 1
           },
           {
            "bin_start": 74.78,
            "bin_end": 82.285,
            "count": 0
           },
           {
            "bin_start": 82.285,
            "bin_end": 89.78999999999999,
            "count": 1
           },
           {
            "bin_start": 89.78999999999999,
            "bin_end": 97.295,
            "count": 0
           },
           {
            "bin_start": 97.295,
            "bin_end": 104.8,
            "count": 2
           }
          ]
         }
        },
        {
         "name": "TotalCharges",
         "dtype": "object",
         "stats": {
          "unique_count": 10,
          "nan_count": 0,
          "categories": [
           {
            "name": "29.85",
            "count": 1
           },
           {
            "name": "1889.5",
            "count": 1
           },
           {
            "name": "8 others",
            "count": 8
           }
          ]
         }
        },
        {
         "name": "Churn",
         "dtype": "object",
         "stats": {
          "unique_count": 2,
          "nan_count": 0,
          "categories": [
           {
            "name": "No",
            "count": 6
           },
           {
            "name": "Yes",
            "count": 4
           }
          ]
         }
        },
        {
         "name": "_deepnote_index_column",
         "dtype": "int64"
        }
       ],
       "rows_top": [
        {
         "customerID": "7590-VHVEG",
         "gender": "Female",
         "SeniorCitizen": 0,
         "Partner": "Yes",
         "Dependents": "No",
         "tenure": 1,
         "PhoneService": "No",
         "MultipleLines": "No phone service",
         "InternetService": "DSL",
         "OnlineSecurity": "No",
         "OnlineBackup": "Yes",
         "DeviceProtection": "No",
         "TechSupport": "No",
         "StreamingTV": "No",
         "StreamingMovies": "No",
         "Contract": "Month-to-month",
         "PaperlessBilling": "Yes",
         "PaymentMethod": "Electronic check",
         "MonthlyCharges": 29.85,
         "TotalCharges": "29.85",
         "Churn": "No",
         "_deepnote_index_column": 0
        },
        {
         "customerID": "5575-GNVDE",
         "gender": "Male",
         "SeniorCitizen": 0,
         "Partner": "No",
         "Dependents": "No",
         "tenure": 34,
         "PhoneService": "Yes",
         "MultipleLines": "No",
         "InternetService": "DSL",
         "OnlineSecurity": "Yes",
         "OnlineBackup": "No",
         "DeviceProtection": "Yes",
         "TechSupport": "No",
         "StreamingTV": "No",
         "StreamingMovies": "No",
         "Contract": "One year",
         "PaperlessBilling": "No",
         "PaymentMethod": "Mailed check",
         "MonthlyCharges": 56.95,
         "TotalCharges": "1889.5",
         "Churn": "No",
         "_deepnote_index_column": 1
        },
        {
         "customerID": "3668-QPYBK",
         "gender": "Male",
         "SeniorCitizen": 0,
         "Partner": "No",
         "Dependents": "No",
         "tenure": 2,
         "PhoneService": "Yes",
         "MultipleLines": "No",
         "InternetService": "DSL",
         "OnlineSecurity": "Yes",
         "OnlineBackup": "Yes",
         "DeviceProtection": "No",
         "TechSupport": "No",
         "StreamingTV": "No",
         "StreamingMovies": "No",
         "Contract": "Month-to-month",
         "PaperlessBilling": "Yes",
         "PaymentMethod": "Mailed check",
         "MonthlyCharges": 53.85,
         "TotalCharges": "108.15",
         "Churn": "Yes",
         "_deepnote_index_column": 2
        },
        {
         "customerID": "7795-CFOCW",
         "gender": "Male",
         "SeniorCitizen": 0,
         "Partner": "No",
         "Dependents": "No",
         "tenure": 45,
         "PhoneService": "No",
         "MultipleLines": "No phone service",
         "InternetService": "DSL",
         "OnlineSecurity": "Yes",
         "OnlineBackup": "No",
         "DeviceProtection": "Yes",
         "TechSupport": "Yes",
         "StreamingTV": "No",
         "StreamingMovies": "No",
         "Contract": "One year",
         "PaperlessBilling": "No",
         "PaymentMethod": "Bank transfer (automatic)",
         "MonthlyCharges": 42.3,
         "TotalCharges": "1840.75",
         "Churn": "No",
         "_deepnote_index_column": 3
        },
        {
         "customerID": "9237-HQITU",
         "gender": "Female",
         "SeniorCitizen": 0,
         "Partner": "No",
         "Dependents": "No",
         "tenure": 2,
         "PhoneService": "Yes",
         "MultipleLines": "No",
         "InternetService": "Fiber optic",
         "OnlineSecurity": "No",
         "OnlineBackup": "No",
         "DeviceProtection": "No",
         "TechSupport": "No",
         "StreamingTV": "No",
         "StreamingMovies": "No",
         "Contract": "Month-to-month",
         "PaperlessBilling": "Yes",
         "PaymentMethod": "Electronic check",
         "MonthlyCharges": 70.7,
         "TotalCharges": "151.65",
         "Churn": "Yes",
         "_deepnote_index_column": 4
        },
        {
         "customerID": "9305-CDSKC",
         "gender": "Female",
         "SeniorCitizen": 0,
         "Partner": "No",
         "Dependents": "No",
         "tenure": 8,
         "PhoneService": "Yes",
         "MultipleLines": "Yes",
         "InternetService": "Fiber optic",
         "OnlineSecurity": "No",
         "OnlineBackup": "No",
         "DeviceProtection": "Yes",
         "TechSupport": "No",
         "StreamingTV": "Yes",
         "StreamingMovies": "Yes",
         "Contract": "Month-to-month",
         "PaperlessBilling": "Yes",
         "PaymentMethod": "Electronic check",
         "MonthlyCharges": 99.65,
         "TotalCharges": "820.5",
         "Churn": "Yes",
         "_deepnote_index_column": 5
        },
        {
         "customerID": "1452-KIOVK",
         "gender": "Male",
         "SeniorCitizen": 0,
         "Partner": "No",
         "Dependents": "Yes",
         "tenure": 22,
         "PhoneService": "Yes",
         "MultipleLines": "Yes",
         "InternetService": "Fiber optic",
         "OnlineSecurity": "No",
         "OnlineBackup": "Yes",
         "DeviceProtection": "No",
         "TechSupport": "No",
         "StreamingTV": "Yes",
         "StreamingMovies": "No",
         "Contract": "Month-to-month",
         "PaperlessBilling": "Yes",
         "PaymentMethod": "Credit card (automatic)",
         "MonthlyCharges": 89.1,
         "TotalCharges": "1949.4",
         "Churn": "No",
         "_deepnote_index_column": 6
        },
        {
         "customerID": "6713-OKOMC",
         "gender": "Female",
         "SeniorCitizen": 0,
         "Partner": "No",
         "Dependents": "No",
         "tenure": 10,
         "PhoneService": "No",
         "MultipleLines": "No phone service",
         "InternetService": "DSL",
         "OnlineSecurity": "Yes",
         "OnlineBackup": "No",
         "DeviceProtection": "No",
         "TechSupport": "No",
         "StreamingTV": "No",
         "StreamingMovies": "No",
         "Contract": "Month-to-month",
         "PaperlessBilling": "No",
         "PaymentMethod": "Mailed check",
         "MonthlyCharges": 29.75,
         "TotalCharges": "301.9",
         "Churn": "No",
         "_deepnote_index_column": 7
        },
        {
         "customerID": "7892-POOKP",
         "gender": "Female",
         "SeniorCitizen": 0,
         "Partner": "Yes",
         "Dependents": "No",
         "tenure": 28,
         "PhoneService": "Yes",
         "MultipleLines": "Yes",
         "InternetService": "Fiber optic",
         "OnlineSecurity": "No",
         "OnlineBackup": "No",
         "DeviceProtection": "Yes",
         "TechSupport": "Yes",
         "StreamingTV": "Yes",
         "StreamingMovies": "Yes",
         "Contract": "Month-to-month",
         "PaperlessBilling": "Yes",
         "PaymentMethod": "Electronic check",
         "MonthlyCharges": 104.8,
         "TotalCharges": "3046.05",
         "Churn": "Yes",
         "_deepnote_index_column": 8
        },
        {
         "customerID": "6388-TABGU",
         "gender": "Male",
         "SeniorCitizen": 0,
         "Partner": "No",
         "Dependents": "Yes",
         "tenure": 62,
         "PhoneService": "Yes",
         "MultipleLines": "No",
         "InternetService": "DSL",
         "OnlineSecurity": "Yes",
         "OnlineBackup": "Yes",
         "DeviceProtection": "No",
         "TechSupport": "No",
         "StreamingTV": "No",
         "StreamingMovies": "No",
         "Contract": "One year",
         "PaperlessBilling": "No",
         "PaymentMethod": "Bank transfer (automatic)",
         "MonthlyCharges": 56.15,
         "TotalCharges": "3487.95",
         "Churn": "No",
         "_deepnote_index_column": 9
        }
       ],
       "rows_bottom": null
      },
      "text/plain": "   customerID  gender  SeniorCitizen Partner Dependents  tenure PhoneService  \\\n0  7590-VHVEG  Female              0     Yes         No       1           No   \n1  5575-GNVDE    Male              0      No         No      34          Yes   \n2  3668-QPYBK    Male              0      No         No       2          Yes   \n3  7795-CFOCW    Male              0      No         No      45           No   \n4  9237-HQITU  Female              0      No         No       2          Yes   \n5  9305-CDSKC  Female              0      No         No       8          Yes   \n6  1452-KIOVK    Male              0      No        Yes      22          Yes   \n7  6713-OKOMC  Female              0      No         No      10           No   \n8  7892-POOKP  Female              0     Yes         No      28          Yes   \n9  6388-TABGU    Male              0      No        Yes      62          Yes   \n\n      MultipleLines InternetService OnlineSecurity  ... DeviceProtection  \\\n0  No phone service             DSL             No  ...               No   \n1                No             DSL            Yes  ...              Yes   \n2                No             DSL            Yes  ...               No   \n3  No phone service             DSL            Yes  ...              Yes   \n4                No     Fiber optic             No  ...               No   \n5               Yes     Fiber optic             No  ...              Yes   \n6               Yes     Fiber optic             No  ...               No   \n7  No phone service             DSL            Yes  ...               No   \n8               Yes     Fiber optic             No  ...              Yes   \n9                No             DSL            Yes  ...               No   \n\n  TechSupport StreamingTV StreamingMovies        Contract PaperlessBilling  \\\n0          No          No              No  Month-to-month              Yes   \n1          No          No              No        One year               No   \n2          No          No              No  Month-to-month              Yes   \n3         Yes          No              No        One year               No   \n4          No          No              No  Month-to-month              Yes   \n5          No         Yes             Yes  Month-to-month              Yes   \n6          No         Yes              No  Month-to-month              Yes   \n7          No          No              No  Month-to-month               No   \n8         Yes         Yes             Yes  Month-to-month              Yes   \n9          No          No              No        One year               No   \n\n               PaymentMethod MonthlyCharges  TotalCharges Churn  \n0           Electronic check          29.85         29.85    No  \n1               Mailed check          56.95        1889.5    No  \n2               Mailed check          53.85        108.15   Yes  \n3  Bank transfer (automatic)          42.30       1840.75    No  \n4           Electronic check          70.70        151.65   Yes  \n5           Electronic check          99.65         820.5   Yes  \n6    Credit card (automatic)          89.10        1949.4    No  \n7               Mailed check          29.75         301.9    No  \n8           Electronic check         104.80       3046.05   Yes  \n9  Bank transfer (automatic)          56.15       3487.95    No  \n\n[10 rows x 21 columns]",
      "text/html": "<div>\n<style scoped>\n    .dataframe tbody tr th:only-of-type {\n        vertical-align: middle;\n    }\n\n    .dataframe tbody tr th {\n        vertical-align: top;\n    }\n\n    .dataframe thead th {\n        text-align: right;\n    }\n</style>\n<table border=\"1\" class=\"dataframe\">\n  <thead>\n    <tr style=\"text-align: right;\">\n      <th></th>\n      <th>customerID</th>\n      <th>gender</th>\n      <th>SeniorCitizen</th>\n      <th>Partner</th>\n      <th>Dependents</th>\n      <th>tenure</th>\n      <th>PhoneService</th>\n      <th>MultipleLines</th>\n      <th>InternetService</th>\n      <th>OnlineSecurity</th>\n      <th>...</th>\n      <th>DeviceProtection</th>\n      <th>TechSupport</th>\n      <th>StreamingTV</th>\n      <th>StreamingMovies</th>\n      <th>Contract</th>\n      <th>PaperlessBilling</th>\n      <th>PaymentMethod</th>\n      <th>MonthlyCharges</th>\n      <th>TotalCharges</th>\n      <th>Churn</th>\n    </tr>\n  </thead>\n  <tbody>\n    <tr>\n      <th>0</th>\n      <td>7590-VHVEG</td>\n      <td>Female</td>\n      <td>0</td>\n      <td>Yes</td>\n      <td>No</td>\n      <td>1</td>\n      <td>No</td>\n      <td>No phone service</td>\n      <td>DSL</td>\n      <td>No</td>\n      <td>...</td>\n      <td>No</td>\n      <td>No</td>\n      <td>No</td>\n      <td>No</td>\n      <td>Month-to-month</td>\n      <td>Yes</td>\n      <td>Electronic check</td>\n      <td>29.85</td>\n      <td>29.85</td>\n      <td>No</td>\n    </tr>\n    <tr>\n      <th>1</th>\n      <td>5575-GNVDE</td>\n      <td>Male</td>\n      <td>0</td>\n      <td>No</td>\n      <td>No</td>\n      <td>34</td>\n      <td>Yes</td>\n      <td>No</td>\n      <td>DSL</td>\n      <td>Yes</td>\n      <td>...</td>\n      <td>Yes</td>\n      <td>No</td>\n      <td>No</td>\n      <td>No</td>\n      <td>One year</td>\n      <td>No</td>\n      <td>Mailed check</td>\n      <td>56.95</td>\n      <td>1889.5</td>\n      <td>No</td>\n    </tr>\n    <tr>\n      <th>2</th>\n      <td>3668-QPYBK</td>\n      <td>Male</td>\n      <td>0</td>\n      <td>No</td>\n      <td>No</td>\n      <td>2</td>\n      <td>Yes</td>\n      <td>No</td>\n      <td>DSL</td>\n      <td>Yes</td>\n      <td>...</td>\n      <td>No</td>\n      <td>No</td>\n      <td>No</td>\n      <td>No</td>\n      <td>Month-to-month</td>\n      <td>Yes</td>\n      <td>Mailed check</td>\n      <td>53.85</td>\n      <td>108.15</td>\n      <td>Yes</td>\n    </tr>\n    <tr>\n      <th>3</th>\n      <td>7795-CFOCW</td>\n      <td>Male</td>\n      <td>0</td>\n      <td>No</td>\n      <td>No</td>\n      <td>45</td>\n      <td>No</td>\n      <td>No phone service</td>\n      <td>DSL</td>\n      <td>Yes</td>\n      <td>...</td>\n      <td>Yes</td>\n      <td>Yes</td>\n      <td>No</td>\n      <td>No</td>\n      <td>One year</td>\n      <td>No</td>\n      <td>Bank transfer (automatic)</td>\n      <td>42.30</td>\n      <td>1840.75</td>\n      <td>No</td>\n    </tr>\n    <tr>\n      <th>4</th>\n      <td>9237-HQITU</td>\n      <td>Female</td>\n      <td>0</td>\n      <td>No</td>\n      <td>No</td>\n      <td>2</td>\n      <td>Yes</td>\n      <td>No</td>\n      <td>Fiber optic</td>\n      <td>No</td>\n      <td>...</td>\n      <td>No</td>\n      <td>No</td>\n      <td>No</td>\n      <td>No</td>\n      <td>Month-to-month</td>\n      <td>Yes</td>\n      <td>Electronic check</td>\n      <td>70.70</td>\n      <td>151.65</td>\n      <td>Yes</td>\n    </tr>\n    <tr>\n      <th>5</th>\n      <td>9305-CDSKC</td>\n      <td>Female</td>\n      <td>0</td>\n      <td>No</td>\n      <td>No</td>\n      <td>8</td>\n      <td>Yes</td>\n      <td>Yes</td>\n      <td>Fiber optic</td>\n      <td>No</td>\n      <td>...</td>\n      <td>Yes</td>\n      <td>No</td>\n      <td>Yes</td>\n      <td>Yes</td>\n      <td>Month-to-month</td>\n      <td>Yes</td>\n      <td>Electronic check</td>\n      <td>99.65</td>\n      <td>820.5</td>\n      <td>Yes</td>\n    </tr>\n    <tr>\n      <th>6</th>\n      <td>1452-KIOVK</td>\n      <td>Male</td>\n      <td>0</td>\n      <td>No</td>\n      <td>Yes</td>\n      <td>22</td>\n      <td>Yes</td>\n      <td>Yes</td>\n      <td>Fiber optic</td>\n      <td>No</td>\n      <td>...</td>\n      <td>No</td>\n      <td>No</td>\n      <td>Yes</td>\n      <td>No</td>\n      <td>Month-to-month</td>\n      <td>Yes</td>\n      <td>Credit card (automatic)</td>\n      <td>89.10</td>\n      <td>1949.4</td>\n      <td>No</td>\n    </tr>\n    <tr>\n      <th>7</th>\n      <td>6713-OKOMC</td>\n      <td>Female</td>\n      <td>0</td>\n      <td>No</td>\n      <td>No</td>\n      <td>10</td>\n      <td>No</td>\n      <td>No phone service</td>\n      <td>DSL</td>\n      <td>Yes</td>\n      <td>...</td>\n      <td>No</td>\n      <td>No</td>\n      <td>No</td>\n      <td>No</td>\n      <td>Month-to-month</td>\n      <td>No</td>\n      <td>Mailed check</td>\n      <td>29.75</td>\n      <td>301.9</td>\n      <td>No</td>\n    </tr>\n    <tr>\n      <th>8</th>\n      <td>7892-POOKP</td>\n      <td>Female</td>\n      <td>0</td>\n      <td>Yes</td>\n      <td>No</td>\n      <td>28</td>\n      <td>Yes</td>\n      <td>Yes</td>\n      <td>Fiber optic</td>\n      <td>No</td>\n      <td>...</td>\n      <td>Yes</td>\n      <td>Yes</td>\n      <td>Yes</td>\n      <td>Yes</td>\n      <td>Month-to-month</td>\n      <td>Yes</td>\n      <td>Electronic check</td>\n      <td>104.80</td>\n      <td>3046.05</td>\n      <td>Yes</td>\n    </tr>\n    <tr>\n      <th>9</th>\n      <td>6388-TABGU</td>\n      <td>Male</td>\n      <td>0</td>\n      <td>No</td>\n      <td>Yes</td>\n      <td>62</td>\n      <td>Yes</td>\n      <td>No</td>\n      <td>DSL</td>\n      <td>Yes</td>\n      <td>...</td>\n      <td>No</td>\n      <td>No</td>\n      <td>No</td>\n      <td>No</td>\n      <td>One year</td>\n      <td>No</td>\n      <td>Bank transfer (automatic)</td>\n      <td>56.15</td>\n      <td>3487.95</td>\n      <td>No</td>\n    </tr>\n  </tbody>\n</table>\n<p>10 rows × 21 columns</p>\n</div>"
     },
     "metadata": {}
    }
   ],
   "execution_count": 2
  },
  {
   "cell_type": "markdown",
   "source": "Primeiramente, pode-se remover a coluna de \"customerID\", pois não terá importância para as próximas etapas. Antes disso, é possível verificar se existem campos duplicados, pois trata-se de um campo identificador único do cliente.",
   "metadata": {
    "tags": [],
    "cell_id": "00007-fc738df8-abf5-4e85-97b3-6cc6c6e49c0b",
    "id": "bOxEC_EBsGlH",
    "deepnote_cell_type": "markdown"
   }
  },
  {
   "cell_type": "code",
   "metadata": {
    "tags": [],
    "cell_id": "00007-34d985f2-43a4-4ce5-a5ed-83c7119dbfe0",
    "deepnote_to_be_reexecuted": false,
    "source_hash": "a2d2fe77",
    "execution_start": 1639255355490,
    "execution_millis": 5,
    "colab": {
     "base_uri": "https://localhost:8080/"
    },
    "id": "vw5-Cm9-sGlI",
    "outputId": "b1c91079-7e2f-4ee1-ced9-facf7e659e53",
    "deepnote_output_heights": [
     21.199996948242188
    ],
    "deepnote_cell_type": "code"
   },
   "source": "df['customerID'].duplicated().any()",
   "outputs": [
    {
     "output_type": "execute_result",
     "execution_count": 3,
     "data": {
      "text/plain": "False"
     },
     "metadata": {}
    }
   ],
   "execution_count": 3
  },
  {
   "cell_type": "markdown",
   "source": "O campo customerId não tem elementos repetidos, portanto pode-se removê-lo.",
   "metadata": {
    "tags": [],
    "cell_id": "00009-e86d6f7a-860d-45cf-ab86-1b2564a44ef7",
    "id": "ClGGphC_sGlJ",
    "deepnote_cell_type": "markdown"
   }
  },
  {
   "cell_type": "code",
   "metadata": {
    "tags": [],
    "cell_id": "00009-05f93fb7-91a0-41da-b44b-d6d9c6cd1144",
    "deepnote_to_be_reexecuted": false,
    "source_hash": "4d759ddc",
    "execution_start": 1639255355516,
    "execution_millis": 54,
    "id": "aFpXqKP1sGlL",
    "deepnote_cell_type": "code"
   },
   "source": "df.drop(columns=['customerID'], inplace=True)",
   "outputs": [],
   "execution_count": 4
  },
  {
   "cell_type": "markdown",
   "source": "Outro tratamento a se realizar é a transformação do campo \"TotalCharges\" para *float*. Porém, para isso, é necessário tratar alguns de seus valores, que possuem a string vazia ' '. Esses valores são então substituídos para uma aproximação, calculada pelo respectivo campo \"MonthlyCharges\" multiplicado pelo \"tenure\".",
   "metadata": {
    "tags": [],
    "cell_id": "00009-7be792e1-a221-4861-96de-f7704b40f57d",
    "id": "96ot1GG7sGlM",
    "deepnote_cell_type": "markdown"
   }
  },
  {
   "cell_type": "code",
   "metadata": {
    "tags": [],
    "cell_id": "00020-b9230be1-8adc-4cc0-9da4-118cbf0dfb4c",
    "deepnote_to_be_reexecuted": false,
    "source_hash": "f2891a53",
    "execution_start": 1639255355575,
    "execution_millis": 5,
    "deepnote_output_heights": [
     21.199996948242188
    ],
    "colab": {
     "base_uri": "https://localhost:8080/"
    },
    "id": "VgBUsqAFsGlV",
    "outputId": "aba87fbb-a854-497c-ad2b-5b2d8f5c451e",
    "deepnote_cell_type": "code"
   },
   "source": "mask = df['TotalCharges'] != ' '\n\nerror = (df.loc[mask, 'TotalCharges'].astype(float) - df.loc[mask, 'MonthlyCharges'] * df.loc[mask, 'tenure']).abs().mean()\nprint(f'Error: {error}')\nprint(df.loc[mask, 'TotalCharges'].astype(float).describe())",
   "outputs": [
    {
     "name": "stdout",
     "text": "Error: 45.08915671217292\ncount    7032.000000\nmean     2283.300441\nstd      2266.771362\nmin        18.800000\n25%       401.450000\n50%      1397.475000\n75%      3794.737500\nmax      8684.800000\nName: TotalCharges, dtype: float64\n",
     "output_type": "stream"
    }
   ],
   "execution_count": 5
  },
  {
   "cell_type": "markdown",
   "source": "Pode-se perceber que a aproximação é boa pois o erro é pequeno. Logo, pode-se realizá-la:",
   "metadata": {
    "id": "JED5F5yawx1n",
    "cell_id": "00012-81fa9eca-d454-4d10-b6e5-bf438219421c",
    "deepnote_cell_type": "markdown"
   }
  },
  {
   "cell_type": "code",
   "metadata": {
    "tags": [],
    "cell_id": "00008-532196a3-d383-4d70-b3a4-c2fefa20d499",
    "deepnote_to_be_reexecuted": false,
    "source_hash": "90d0b919",
    "execution_start": 1639255355576,
    "execution_millis": 43,
    "id": "9YX0PBelsGlN",
    "deepnote_cell_type": "code"
   },
   "source": "mask = df['TotalCharges'] == ' '\ndf.loc[mask, 'TotalCharges'] = df.loc[mask, 'MonthlyCharges'] * df.loc[mask, 'tenure']\ndf['TotalCharges'] = df['TotalCharges'].astype(float)",
   "outputs": [],
   "execution_count": 6
  },
  {
   "cell_type": "markdown",
   "source": "Agora, verifica-se se tem alguns campos vazios (sem valores). Para isso, utiliza-se a função 'isna()':",
   "metadata": {
    "id": "4JkNTxm9tHf9",
    "cell_id": "00014-411e7f84-d5f0-4b2a-9aa6-be9950d84d89",
    "deepnote_cell_type": "markdown"
   }
  },
  {
   "cell_type": "code",
   "metadata": {
    "colab": {
     "base_uri": "https://localhost:8080/"
    },
    "id": "67Ez9yRatFHD",
    "outputId": "535373ec-5b20-4828-cdce-febb8999f3b5",
    "cell_id": "00015-6b096b75-ae72-4e6e-959e-5e3100ec1d3f",
    "deepnote_to_be_reexecuted": false,
    "source_hash": "d794f466",
    "execution_start": 1639255355619,
    "execution_millis": 11,
    "deepnote_output_heights": [
     405.20001220703125
    ],
    "deepnote_cell_type": "code"
   },
   "source": "df.isna().sum()",
   "execution_count": 7,
   "outputs": [
    {
     "output_type": "execute_result",
     "execution_count": 7,
     "data": {
      "text/plain": "gender              0\nSeniorCitizen       0\nPartner             0\nDependents          0\ntenure              0\nPhoneService        0\nMultipleLines       0\nInternetService     0\nOnlineSecurity      0\nOnlineBackup        0\nDeviceProtection    0\nTechSupport         0\nStreamingTV         0\nStreamingMovies     0\nContract            0\nPaperlessBilling    0\nPaymentMethod       0\nMonthlyCharges      0\nTotalCharges        0\nChurn               0\ndtype: int64"
     },
     "metadata": {}
    }
   ]
  },
  {
   "cell_type": "markdown",
   "source": "Logo, não existem células nulas, então não é necessário nenhum tratamento sob isso.",
   "metadata": {
    "id": "N_e6tl89taKr",
    "cell_id": "00016-635fa658-2356-4ef7-b7e3-3374596e6750",
    "deepnote_cell_type": "markdown"
   }
  },
  {
   "cell_type": "markdown",
   "source": "## Análise Exploratória de Dados",
   "metadata": {
    "tags": [],
    "cell_id": "00007-b6416ab1-3bf0-45c5-8d36-5385f433bdda",
    "id": "RjoCeAG4sGlP",
    "deepnote_cell_type": "markdown"
   }
  },
  {
   "cell_type": "markdown",
   "source": "Nessa etapa, os dados serão analisados a partir de medidas estatísticas, e visualizados de forma gráfica, com o objetivo de verificar como eles estão dispostos no *dataset* e como se relacionam com outros dados.",
   "metadata": {
    "tags": [],
    "cell_id": "00009-092aeba4-41cd-4982-95c7-2f59f87808ce",
    "id": "3EfHfZDcsGlQ",
    "deepnote_cell_type": "markdown"
   }
  },
  {
   "cell_type": "code",
   "metadata": {
    "tags": [],
    "cell_id": "00010-538ae638-9cd5-4ace-a937-1d3487621d82",
    "deepnote_to_be_reexecuted": false,
    "source_hash": "f88152d9",
    "execution_start": 1639255355635,
    "execution_millis": 117,
    "colab": {
     "base_uri": "https://localhost:8080/",
     "height": 300
    },
    "id": "kArq8tBcsGlR",
    "outputId": "8592f9cc-341f-4e02-b5e1-72a2a9eaddd1",
    "deepnote_cell_type": "code"
   },
   "source": "df.describe()",
   "outputs": [
    {
     "output_type": "execute_result",
     "execution_count": 8,
     "data": {
      "application/vnd.deepnote.dataframe.v2+json": {
       "row_count": 8,
       "column_count": 4,
       "columns": [
        {
         "name": "SeniorCitizen",
         "dtype": "float64",
         "stats": {
          "unique_count": 5,
          "nan_count": 0,
          "min": "0.0",
          "max": "7043.0",
          "histogram": [
           {
            "bin_start": 0,
            "bin_end": 704.3,
            "count": 7
           },
           {
            "bin_start": 704.3,
            "bin_end": 1408.6,
            "count": 0
           },
           {
            "bin_start": 1408.6,
            "bin_end": 2112.8999999999996,
            "count": 0
           },
           {
            "bin_start": 2112.8999999999996,
            "bin_end": 2817.2,
            "count": 0
           },
           {
            "bin_start": 2817.2,
            "bin_end": 3521.5,
            "count": 0
           },
           {
            "bin_start": 3521.5,
            "bin_end": 4225.799999999999,
            "count": 0
           },
           {
            "bin_start": 4225.799999999999,
            "bin_end": 4930.099999999999,
            "count": 0
           },
           {
            "bin_start": 4930.099999999999,
            "bin_end": 5634.4,
            "count": 0
           },
           {
            "bin_start": 5634.4,
            "bin_end": 6338.7,
            "count": 0
           },
           {
            "bin_start": 6338.7,
            "bin_end": 7043,
            "count": 1
           }
          ]
         }
        },
        {
         "name": "tenure",
         "dtype": "float64",
         "stats": {
          "unique_count": 8,
          "nan_count": 0,
          "min": "0.0",
          "max": "7043.0",
          "histogram": [
           {
            "bin_start": 0,
            "bin_end": 704.3,
            "count": 7
           },
           {
            "bin_start": 704.3,
            "bin_end": 1408.6,
            "count": 0
           },
           {
            "bin_start": 1408.6,
            "bin_end": 2112.8999999999996,
            "count": 0
           },
           {
            "bin_start": 2112.8999999999996,
            "bin_end": 2817.2,
            "count": 0
           },
           {
            "bin_start": 2817.2,
            "bin_end": 3521.5,
            "count": 0
           },
           {
            "bin_start": 3521.5,
            "bin_end": 4225.799999999999,
            "count": 0
           },
           {
            "bin_start": 4225.799999999999,
            "bin_end": 4930.099999999999,
            "count": 0
           },
           {
            "bin_start": 4930.099999999999,
            "bin_end": 5634.4,
            "count": 0
           },
           {
            "bin_start": 5634.4,
            "bin_end": 6338.7,
            "count": 0
           },
           {
            "bin_start": 6338.7,
            "bin_end": 7043,
            "count": 1
           }
          ]
         }
        },
        {
         "name": "MonthlyCharges",
         "dtype": "float64",
         "stats": {
          "unique_count": 8,
          "nan_count": 0,
          "min": "18.25",
          "max": "7043.0",
          "histogram": [
           {
            "bin_start": 18.25,
            "bin_end": 720.725,
            "count": 7
           },
           {
            "bin_start": 720.725,
            "bin_end": 1423.2,
            "count": 0
           },
           {
            "bin_start": 1423.2,
            "bin_end": 2125.675,
            "count": 0
           },
           {
            "bin_start": 2125.675,
            "bin_end": 2828.15,
            "count": 0
           },
           {
            "bin_start": 2828.15,
            "bin_end": 3530.625,
            "count": 0
           },
           {
            "bin_start": 3530.625,
            "bin_end": 4233.1,
            "count": 0
           },
           {
            "bin_start": 4233.1,
            "bin_end": 4935.575,
            "count": 0
           },
           {
            "bin_start": 4935.575,
            "bin_end": 5638.05,
            "count": 0
           },
           {
            "bin_start": 5638.05,
            "bin_end": 6340.525000000001,
            "count": 0
           },
           {
            "bin_start": 6340.525000000001,
            "bin_end": 7043,
            "count": 1
           }
          ]
         }
        },
        {
         "name": "TotalCharges",
         "dtype": "float64",
         "stats": {
          "unique_count": 8,
          "nan_count": 0,
          "min": "0.0",
          "max": "8684.8",
          "histogram": [
           {
            "bin_start": 0,
            "bin_end": 868.4799999999999,
            "count": 2
           },
           {
            "bin_start": 868.4799999999999,
            "bin_end": 1736.9599999999998,
            "count": 1
           },
           {
            "bin_start": 1736.9599999999998,
            "bin_end": 2605.4399999999996,
            "count": 2
           },
           {
            "bin_start": 2605.4399999999996,
            "bin_end": 3473.9199999999996,
            "count": 0
           },
           {
            "bin_start": 3473.9199999999996,
            "bin_end": 4342.4,
            "count": 1
           },
           {
            "bin_start": 4342.4,
            "bin_end": 5210.879999999999,
            "count": 0
           },
           {
            "bin_start": 5210.879999999999,
            "bin_end": 6079.36,
            "count": 0
           },
           {
            "bin_start": 6079.36,
            "bin_end": 6947.839999999999,
            "count": 0
           },
           {
            "bin_start": 6947.839999999999,
            "bin_end": 7816.319999999999,
            "count": 1
           },
           {
            "bin_start": 7816.319999999999,
            "bin_end": 8684.8,
            "count": 1
           }
          ]
         }
        },
        {
         "name": "_deepnote_index_column",
         "dtype": "object"
        }
       ],
       "rows_top": [
        {
         "SeniorCitizen": 7043,
         "tenure": 7043,
         "MonthlyCharges": 7043,
         "TotalCharges": 7043,
         "_deepnote_index_column": "count"
        },
        {
         "SeniorCitizen": 0.1621468124378816,
         "tenure": 32.37114865824223,
         "MonthlyCharges": 64.76169246059918,
         "TotalCharges": 2279.7343035638223,
         "_deepnote_index_column": "mean"
        },
        {
         "SeniorCitizen": 0.3686116056100131,
         "tenure": 24.55948102309446,
         "MonthlyCharges": 30.090047097678493,
         "TotalCharges": 2266.7944696890213,
         "_deepnote_index_column": "std"
        },
        {
         "SeniorCitizen": 0,
         "tenure": 0,
         "MonthlyCharges": 18.25,
         "TotalCharges": 0,
         "_deepnote_index_column": "min"
        },
        {
         "SeniorCitizen": 0,
         "tenure": 9,
         "MonthlyCharges": 35.5,
         "TotalCharges": 398.55,
         "_deepnote_index_column": "25%"
        },
        {
         "SeniorCitizen": 0,
         "tenure": 29,
         "MonthlyCharges": 70.35,
         "TotalCharges": 1394.55,
         "_deepnote_index_column": "50%"
        },
        {
         "SeniorCitizen": 0,
         "tenure": 55,
         "MonthlyCharges": 89.85,
         "TotalCharges": 3786.6,
         "_deepnote_index_column": "75%"
        },
        {
         "SeniorCitizen": 1,
         "tenure": 72,
         "MonthlyCharges": 118.75,
         "TotalCharges": 8684.8,
         "_deepnote_index_column": "max"
        }
       ],
       "rows_bottom": null
      },
      "text/plain": "       SeniorCitizen       tenure  MonthlyCharges  TotalCharges\ncount    7043.000000  7043.000000     7043.000000   7043.000000\nmean        0.162147    32.371149       64.761692   2279.734304\nstd         0.368612    24.559481       30.090047   2266.794470\nmin         0.000000     0.000000       18.250000      0.000000\n25%         0.000000     9.000000       35.500000    398.550000\n50%         0.000000    29.000000       70.350000   1394.550000\n75%         0.000000    55.000000       89.850000   3786.600000\nmax         1.000000    72.000000      118.750000   8684.800000",
      "text/html": "<div>\n<style scoped>\n    .dataframe tbody tr th:only-of-type {\n        vertical-align: middle;\n    }\n\n    .dataframe tbody tr th {\n        vertical-align: top;\n    }\n\n    .dataframe thead th {\n        text-align: right;\n    }\n</style>\n<table border=\"1\" class=\"dataframe\">\n  <thead>\n    <tr style=\"text-align: right;\">\n      <th></th>\n      <th>SeniorCitizen</th>\n      <th>tenure</th>\n      <th>MonthlyCharges</th>\n      <th>TotalCharges</th>\n    </tr>\n  </thead>\n  <tbody>\n    <tr>\n      <th>count</th>\n      <td>7043.000000</td>\n      <td>7043.000000</td>\n      <td>7043.000000</td>\n      <td>7043.000000</td>\n    </tr>\n    <tr>\n      <th>mean</th>\n      <td>0.162147</td>\n      <td>32.371149</td>\n      <td>64.761692</td>\n      <td>2279.734304</td>\n    </tr>\n    <tr>\n      <th>std</th>\n      <td>0.368612</td>\n      <td>24.559481</td>\n      <td>30.090047</td>\n      <td>2266.794470</td>\n    </tr>\n    <tr>\n      <th>min</th>\n      <td>0.000000</td>\n      <td>0.000000</td>\n      <td>18.250000</td>\n      <td>0.000000</td>\n    </tr>\n    <tr>\n      <th>25%</th>\n      <td>0.000000</td>\n      <td>9.000000</td>\n      <td>35.500000</td>\n      <td>398.550000</td>\n    </tr>\n    <tr>\n      <th>50%</th>\n      <td>0.000000</td>\n      <td>29.000000</td>\n      <td>70.350000</td>\n      <td>1394.550000</td>\n    </tr>\n    <tr>\n      <th>75%</th>\n      <td>0.000000</td>\n      <td>55.000000</td>\n      <td>89.850000</td>\n      <td>3786.600000</td>\n    </tr>\n    <tr>\n      <th>max</th>\n      <td>1.000000</td>\n      <td>72.000000</td>\n      <td>118.750000</td>\n      <td>8684.800000</td>\n    </tr>\n  </tbody>\n</table>\n</div>"
     },
     "metadata": {}
    }
   ],
   "execution_count": 8
  },
  {
   "cell_type": "markdown",
   "source": "Podemos analisar agora a relação entre o target e algumas features.",
   "metadata": {
    "tags": [],
    "cell_id": "00022-7980e2d4-3c47-48e7-82d9-924951742e1c",
    "deepnote_cell_type": "markdown"
   }
  },
  {
   "cell_type": "code",
   "metadata": {
    "tags": [],
    "cell_id": "00016-09d2fecf-8d57-4a47-840d-bd09b7df7e11",
    "deepnote_to_be_reexecuted": false,
    "source_hash": "35d0cc18",
    "execution_start": 1639255355748,
    "execution_millis": 351,
    "colab": {
     "base_uri": "https://localhost:8080/",
     "height": 296
    },
    "id": "EI771L-BsGlS",
    "outputId": "7580547a-c8e2-4887-a961-58c0d9b08ab5",
    "deepnote_output_heights": [
     21.199996948242188,
     280
    ],
    "deepnote_cell_type": "code"
   },
   "source": "sns.countplot(x='Churn', data=df).set_title('Distribuição da variável target')",
   "outputs": [
    {
     "output_type": "execute_result",
     "execution_count": 9,
     "data": {
      "text/plain": "Text(0.5, 1.0, 'Distribuição da variável target')"
     },
     "metadata": {}
    },
    {
     "data": {
      "text/plain": "<Figure size 432x288 with 1 Axes>",
      "image/png": "[encoded data removed]"
     },
     "metadata": {
      "needs_background": "light",
      "image/png": {
       "width": 395,
       "height": 278
      }
     },
     "output_type": "display_data"
    }
   ],
   "execution_count": 9
  },
  {
   "cell_type": "code",
   "metadata": {
    "tags": [],
    "cell_id": "00015-33d007d1-38e4-4c06-8556-29a7de0d85a9",
    "deepnote_to_be_reexecuted": false,
    "source_hash": "ce5bcf72",
    "execution_start": 1639255356106,
    "execution_millis": 531,
    "colab": {
     "base_uri": "https://localhost:8080/",
     "height": 296
    },
    "id": "VbMII47OsGlT",
    "outputId": "deef59bd-e2f1-4beb-e1d7-8740233af8c0",
    "deepnote_output_heights": [
     21.199996948242188,
     280
    ],
    "deepnote_cell_type": "code"
   },
   "source": "sns.countplot(x='gender', hue='Churn', data=df).set_title('Distribuição da variável target pelo gênero')",
   "outputs": [
    {
     "output_type": "execute_result",
     "execution_count": 10,
     "data": {
      "text/plain": "Text(0.5, 1.0, 'Distribuição da variável target pelo gênero')"
     },
     "metadata": {}
    },
    {
     "data": {
      "text/plain": "<Figure size 432x288 with 1 Axes>",
      "image/png": "[encoded data removed]"
     },
     "metadata": {
      "needs_background": "light",
      "image/png": {
       "width": 395,
       "height": 278
      }
     },
     "output_type": "display_data"
    }
   ],
   "execution_count": 10
  },
  {
   "cell_type": "code",
   "metadata": {
    "tags": [],
    "cell_id": "00016-e8e31991-0bd4-4062-88e4-ac0b33a4bbb0",
    "deepnote_to_be_reexecuted": false,
    "source_hash": "c86b184a",
    "execution_start": 1639255356642,
    "execution_millis": 474,
    "colab": {
     "base_uri": "https://localhost:8080/",
     "height": 296
    },
    "id": "PRlGq0NcsGlU",
    "outputId": "c45b915c-6ef5-43e7-9e76-8527c10565d6",
    "deepnote_output_heights": [
     21.199996948242188,
     280
    ],
    "deepnote_cell_type": "code"
   },
   "source": "sns.countplot(x='InternetService', hue='Churn', data=df).set_title('Distribuição da variável target pelo tipo de internet')",
   "outputs": [
    {
     "output_type": "execute_result",
     "execution_count": 11,
     "data": {
      "text/plain": "Text(0.5, 1.0, 'Distribuição da variável target pelo tipo de internet')"
     },
     "metadata": {}
    },
    {
     "data": {
      "text/plain": "<Figure size 432x288 with 1 Axes>",
      "image/png": "[encoded data removed]"
     },
     "metadata": {
      "needs_background": "light",
      "image/png": {
       "width": 395,
       "height": 278
      }
     },
     "output_type": "display_data"
    }
   ],
   "execution_count": 11
  },
  {
   "cell_type": "code",
   "metadata": {
    "tags": [],
    "cell_id": "00018-bfcee506-8024-47ce-ba14-c648b3e1084e",
    "deepnote_to_be_reexecuted": false,
    "source_hash": "148514a1",
    "execution_start": 1639255357120,
    "execution_millis": 522,
    "colab": {
     "base_uri": "https://localhost:8080/",
     "height": 296
    },
    "id": "77gldNZHsGlU",
    "outputId": "8f79272d-5583-4368-90ca-c88abef17f3f",
    "deepnote_output_heights": [
     21.199996948242188,
     280
    ],
    "deepnote_cell_type": "code"
   },
   "source": "sns.countplot(x='PhoneService', hue='Churn', data=df).set_title('Distribuição da variável target pelo uso de telefone')",
   "outputs": [
    {
     "output_type": "execute_result",
     "execution_count": 12,
     "data": {
      "text/plain": "Text(0.5, 1.0, 'Distribuição da variável target pelo uso de telefone')"
     },
     "metadata": {}
    },
    {
     "data": {
      "text/plain": "<Figure size 432x288 with 1 Axes>",
      "image/png": "[encoded data removed]"
     },
     "metadata": {
      "needs_background": "light",
      "image/png": {
       "width": 395,
       "height": 278
      }
     },
     "output_type": "display_data"
    }
   ],
   "execution_count": 12
  },
  {
   "cell_type": "code",
   "metadata": {
    "tags": [],
    "cell_id": "00021-4a89050e-d040-4d79-8eb0-f4fd4d93f114",
    "deepnote_to_be_reexecuted": false,
    "source_hash": "51e02d3c",
    "execution_start": 1639255357646,
    "execution_millis": 555,
    "colab": {
     "base_uri": "https://localhost:8080/",
     "height": 286
    },
    "id": "qQO3yuUSsGlV",
    "outputId": "04d6afa2-e984-42ec-bfb0-0802b70c7831",
    "deepnote_output_heights": [
     21.199996948242188,
     254
    ],
    "deepnote_cell_type": "code"
   },
   "source": "sns.heatmap(df[['tenure', 'MonthlyCharges', 'TotalCharges']].corr(), annot=True)",
   "outputs": [
    {
     "output_type": "execute_result",
     "execution_count": 13,
     "data": {
      "text/plain": "<AxesSubplot:>"
     },
     "metadata": {}
    },
    {
     "data": {
      "text/plain": "<Figure size 432x288 with 2 Axes>",
      "image/png": "[encoded data removed]"
     },
     "metadata": {
      "needs_background": "light",
      "image/png": {
       "width": 420,
       "height": 252
      }
     },
     "output_type": "display_data"
    }
   ],
   "execution_count": 13
  },
  {
   "cell_type": "markdown",
   "source": "A variável 'TotalCharges' está fortemente correlacionada com 'MonthlyCharges' e 'tenure'.",
   "metadata": {
    "tags": [],
    "cell_id": "00027-78fd44ed-e463-4e7c-a38e-dda97743d2d4",
    "deepnote_cell_type": "markdown"
   }
  },
  {
   "cell_type": "code",
   "metadata": {
    "tags": [],
    "cell_id": "00017-62cfb738-aa7e-46d3-b29f-f666a26dc9e6",
    "deepnote_to_be_reexecuted": false,
    "source_hash": "f2227f4a",
    "execution_start": 1639255358205,
    "execution_millis": 570,
    "colab": {
     "base_uri": "https://localhost:8080/",
     "height": 296
    },
    "id": "8ETRcYLtsGlY",
    "outputId": "b76addd8-11a4-482f-c9d2-bb3601d7a396",
    "deepnote_output_heights": [
     21.199996948242188,
     264
    ],
    "deepnote_cell_type": "code"
   },
   "source": "sns.histplot(df, x='tenure', hue='Churn', hue_order=['Yes', 'No'], element='poly')",
   "outputs": [
    {
     "output_type": "execute_result",
     "execution_count": 14,
     "data": {
      "text/plain": "<AxesSubplot:xlabel='tenure', ylabel='Count'>"
     },
     "metadata": {}
    },
    {
     "data": {
      "text/plain": "<Figure size 432x288 with 1 Axes>",
      "image/png": "[encoded data removed]"
     },
     "metadata": {
      "needs_background": "light",
      "image/png": {
       "width": 389,
       "height": 262
      }
     },
     "output_type": "display_data"
    }
   ],
   "execution_count": 14
  },
  {
   "cell_type": "markdown",
   "source": "Há uma relação entre 'tenure' e 'Churn'. Os consumidores que utilizam o serviço por mais tempo tendem a permanecer, enquanto os que abandonam tendem a ser os consumidores que utilizaram o serviço por um tempo menor.",
   "metadata": {
    "tags": [],
    "cell_id": "00028-678d1577-7b0f-4bf7-978e-a4e490df76ba",
    "deepnote_cell_type": "markdown"
   }
  },
  {
   "cell_type": "code",
   "metadata": {
    "tags": [],
    "cell_id": "00016-3eb25083-6e45-41d9-aa96-38c0ebd6cccb",
    "deepnote_to_be_reexecuted": false,
    "source_hash": "207e0766",
    "execution_start": 1639255358780,
    "execution_millis": 478,
    "colab": {
     "base_uri": "https://localhost:8080/",
     "height": 296
    },
    "id": "e4CmT-eIsGlW",
    "outputId": "4a47bb96-579d-4287-a5f3-0970142fe5e3",
    "deepnote_output_heights": [
     21.199996948242188,
     264
    ],
    "deepnote_cell_type": "code"
   },
   "source": "sns.histplot(df, x='MonthlyCharges', hue='Churn', hue_order=['Yes', 'No'], element='poly')",
   "outputs": [
    {
     "output_type": "execute_result",
     "execution_count": 15,
     "data": {
      "text/plain": "<AxesSubplot:xlabel='MonthlyCharges', ylabel='Count'>"
     },
     "metadata": {}
    },
    {
     "data": {
      "text/plain": "<Figure size 432x288 with 1 Axes>",
      "image/png": "[encoded data removed]"
     },
     "metadata": {
      "needs_background": "light",
      "image/png": {
       "width": 402,
       "height": 262
      }
     },
     "output_type": "display_data"
    }
   ],
   "execution_count": 15
  },
  {
   "cell_type": "markdown",
   "source": "Há uma relação entre 'MonthlyCharges' e 'Churn'. Os consumidores que pagam um maior valor mensal tem uma maior tendência de cancelar o serviço, enquanto aqueles que pagam valores baixos tendem a permanecer.",
   "metadata": {
    "tags": [],
    "cell_id": "00028-b90667cd-e07c-4dc4-ace8-c81c76013042",
    "deepnote_cell_type": "markdown"
   }
  },
  {
   "cell_type": "code",
   "source": "sns.scatterplot(data=df, x='tenure', y='TotalCharges')",
   "metadata": {
    "tags": [],
    "cell_id": "00031-7e7bcb68-82ae-443b-8840-726e239a17fb",
    "deepnote_to_be_reexecuted": false,
    "source_hash": "29ad14f4",
    "execution_start": 1639255359263,
    "execution_millis": 468,
    "deepnote_output_heights": [
     21.199996948242188,
     264
    ],
    "deepnote_cell_type": "code"
   },
   "outputs": [
    {
     "output_type": "execute_result",
     "execution_count": 16,
     "data": {
      "text/plain": "<AxesSubplot:xlabel='tenure', ylabel='TotalCharges'>"
     },
     "metadata": {}
    },
    {
     "data": {
      "text/plain": "<Figure size 432x288 with 1 Axes>",
      "image/png": "[encoded data removed]"
     },
     "metadata": {
      "needs_background": "light",
      "image/png": {
       "width": 395,
       "height": 262
      }
     },
     "output_type": "display_data"
    }
   ],
   "execution_count": 16
  },
  {
   "cell_type": "markdown",
   "source": "É perceptível a relação entre o tempo de uso do serviço e o total gasto. Consumidores que ficam por mais tempo tem um gasto maior.",
   "metadata": {
    "tags": [],
    "cell_id": "00033-907dead1-98c4-4a73-bdf3-53465e554dfa",
    "deepnote_cell_type": "markdown"
   }
  },
  {
   "cell_type": "code",
   "metadata": {
    "tags": [],
    "cell_id": "00016-296ded4c-1118-43b9-8a5b-aa8b80a96f08",
    "deepnote_to_be_reexecuted": false,
    "source_hash": "a16eb441",
    "execution_start": 1639255359735,
    "execution_millis": 451,
    "colab": {
     "base_uri": "https://localhost:8080/",
     "height": 296
    },
    "id": "KjR8mfGQsGlW",
    "outputId": "a907c50e-84cc-48eb-c578-e9480d748bd6",
    "deepnote_output_heights": [
     21.199996948242188,
     264
    ],
    "deepnote_cell_type": "code"
   },
   "source": "sns.histplot(df, x='TotalCharges', hue='Churn', hue_order=['Yes', 'No'], element='poly')",
   "outputs": [
    {
     "output_type": "execute_result",
     "execution_count": 17,
     "data": {
      "text/plain": "<AxesSubplot:xlabel='TotalCharges', ylabel='Count'>"
     },
     "metadata": {}
    },
    {
     "data": {
      "text/plain": "<Figure size 432x288 with 1 Axes>",
      "image/png": "[encoded data removed]"
     },
     "metadata": {
      "needs_background": "light",
      "image/png": {
       "width": 389,
       "height": 262
      }
     },
     "output_type": "display_data"
    }
   ],
   "execution_count": 17
  },
  {
   "cell_type": "markdown",
   "source": "Também há uma relação entre 'TotalCharges' e 'Churn'. Os consumidores que tem um gasto total maior são aqueles que estão a mais tempo no serviço e em geral costumam não cancelar o plano.",
   "metadata": {
    "tags": [],
    "cell_id": "00030-e6f12042-b64e-4829-87bc-8960661121db",
    "deepnote_cell_type": "markdown"
   }
  },
  {
   "cell_type": "markdown",
   "source": "## Treinamento e Utilização dos Modelos",
   "metadata": {
    "tags": [],
    "cell_id": "00009-7491c862-267a-45a3-80df-0d63ccdb5621",
    "id": "7XYd-3mdsGlY",
    "deepnote_cell_type": "markdown"
   }
  },
  {
   "cell_type": "markdown",
   "source": "Faremos as seguintes transformações:\n\n- Colunas com `yes` e `no` se tornarão `1` e `0`, respectivamente.\n- Colunas com `Female` e `Male` se tornarão `1` e `0`, respectivamente.\n- Faremos `One Hot Encoding` das colunas categóricas: `InternetService`,`Contract` e `PaymentMethod`",
   "metadata": {
    "tags": [],
    "cell_id": "00011-054ce3c5-b666-47c9-9339-966bfa0d2a42",
    "id": "VIi5ZfgLsGlZ",
    "deepnote_cell_type": "markdown"
   }
  },
  {
   "cell_type": "code",
   "metadata": {
    "tags": [],
    "cell_id": "00019-fe96aa46-2402-433e-a364-88a2c8bfa958",
    "deepnote_to_be_reexecuted": false,
    "source_hash": "4443f36a",
    "execution_start": 1639255360192,
    "execution_millis": 126,
    "id": "8fZRcV8WsGlZ",
    "deepnote_cell_type": "code"
   },
   "source": "for col in ['Partner', 'Dependents', 'PhoneService', 'MultipleLines', 'OnlineSecurity', 'OnlineBackup',\n            'DeviceProtection', 'TechSupport', 'StreamingTV', 'StreamingMovies', 'PaperlessBilling', 'Churn']:\n    df[col] = df[col].map(lambda x: int(x == 'Yes'))\ndf['gender'] = df['gender'].map(lambda x: int(x == 'Female'))",
   "outputs": [],
   "execution_count": 18
  },
  {
   "cell_type": "code",
   "metadata": {
    "tags": [],
    "cell_id": "00012-f664ae74-7ae1-413a-92c4-70952b6db3d5",
    "deepnote_to_be_reexecuted": false,
    "source_hash": "33009c1e",
    "execution_start": 1639255360325,
    "execution_millis": 188,
    "colab": {
     "base_uri": "https://localhost:8080/",
     "height": 261
    },
    "id": "j1jeq_mMsGlZ",
    "outputId": "1dfeed0b-7cdd-4db0-fa4c-9bdf6bcf3b06",
    "deepnote_cell_type": "code"
   },
   "source": "df = pd.get_dummies(df, columns=['InternetService', 'Contract', 'PaymentMethod'])\ndf.head()",
   "outputs": [
    {
     "output_type": "execute_result",
     "execution_count": 19,
     "data": {
      "application/vnd.deepnote.dataframe.v2+json": {
       "row_count": 5,
       "column_count": 27,
       "columns": [
        {
         "name": "gender",
         "dtype": "int64",
         "stats": {
          "unique_count": 2,
          "nan_count": 0,
          "min": "0",
          "max": "1",
          "histogram": [
           {
            "bin_start": 0,
            "bin_end": 0.1,
            "count": 3
           },
           {
            "bin_start": 0.1,
            "bin_end": 0.2,
            "count": 0
           },
           {
            "bin_start": 0.2,
            "bin_end": 0.30000000000000004,
            "count": 0
           },
           {
            "bin_start": 0.30000000000000004,
            "bin_end": 0.4,
            "count": 0
           },
           {
            "bin_start": 0.4,
            "bin_end": 0.5,
            "count": 0
           },
           {
            "bin_start": 0.5,
            "bin_end": 0.6000000000000001,
            "count": 0
           },
           {
            "bin_start": 0.6000000000000001,
            "bin_end": 0.7000000000000001,
            "count": 0
           },
           {
            "bin_start": 0.7000000000000001,
            "bin_end": 0.8,
            "count": 0
           },
           {
            "bin_start": 0.8,
            "bin_end": 0.9,
            "count": 0
           },
           {
            "bin_start": 0.9,
            "bin_end": 1,
            "count": 2
           }
          ]
         }
        },
        {
         "name": "SeniorCitizen",
         "dtype": "int64",
         "stats": {
          "unique_count": 1,
          "nan_count": 0,
          "min": "0",
          "max": "0",
          "histogram": [
           {
            "bin_start": -0.5,
            "bin_end": -0.4,
            "count": 0
           },
           {
            "bin_start": -0.4,
            "bin_end": -0.3,
            "count": 0
           },
           {
            "bin_start": -0.3,
            "bin_end": -0.19999999999999996,
            "count": 0
           },
           {
            "bin_start": -0.19999999999999996,
            "bin_end": -0.09999999999999998,
            "count": 0
           },
           {
            "bin_start": -0.09999999999999998,
            "bin_end": 0,
            "count": 0
           },
           {
            "bin_start": 0,
            "bin_end": 0.10000000000000009,
            "count": 5
           },
           {
            "bin_start": 0.10000000000000009,
            "bin_end": 0.20000000000000007,
            "count": 0
           },
           {
            "bin_start": 0.20000000000000007,
            "bin_end": 0.30000000000000004,
            "count": 0
           },
           {
            "bin_start": 0.30000000000000004,
            "bin_end": 0.4,
            "count": 0
           },
           {
            "bin_start": 0.4,
            "bin_end": 0.5,
            "count": 0
           }
          ]
         }
        },
        {
         "name": "Partner",
         "dtype": "int64",
         "stats": {
          "unique_count": 2,
          "nan_count": 0,
          "min": "0",
          "max": "1",
          "histogram": [
           {
            "bin_start": 0,
            "bin_end": 0.1,
            "count": 4
           },
           {
            "bin_start": 0.1,
            "bin_end": 0.2,
            "count": 0
           },
           {
            "bin_start": 0.2,
            "bin_end": 0.30000000000000004,
            "count": 0
           },
           {
            "bin_start": 0.30000000000000004,
            "bin_end": 0.4,
            "count": 0
           },
           {
            "bin_start": 0.4,
            "bin_end": 0.5,
            "count": 0
           },
           {
            "bin_start": 0.5,
            "bin_end": 0.6000000000000001,
            "count": 0
           },
           {
            "bin_start": 0.6000000000000001,
            "bin_end": 0.7000000000000001,
            "count": 0
           },
           {
            "bin_start": 0.7000000000000001,
            "bin_end": 0.8,
            "count": 0
           },
           {
            "bin_start": 0.8,
            "bin_end": 0.9,
            "count": 0
           },
           {
            "bin_start": 0.9,
            "bin_end": 1,
            "count": 1
           }
          ]
         }
        },
        {
         "name": "Dependents",
         "dtype": "int64",
         "stats": {
          "unique_count": 1,
          "nan_count": 0,
          "min": "0",
          "max": "0",
          "histogram": [
           {
            "bin_start": -0.5,
            "bin_end": -0.4,
            "count": 0
           },
           {
            "bin_start": -0.4,
            "bin_end": -0.3,
            "count": 0
           },
           {
            "bin_start": -0.3,
            "bin_end": -0.19999999999999996,
            "count": 0
           },
           {
            "bin_start": -0.19999999999999996,
            "bin_end": -0.09999999999999998,
            "count": 0
           },
           {
            "bin_start": -0.09999999999999998,
            "bin_end": 0,
            "count": 0
           },
           {
            "bin_start": 0,
            "bin_end": 0.10000000000000009,
            "count": 5
           },
           {
            "bin_start": 0.10000000000000009,
            "bin_end": 0.20000000000000007,
            "count": 0
           },
           {
            "bin_start": 0.20000000000000007,
            "bin_end": 0.30000000000000004,
            "count": 0
           },
           {
            "bin_start": 0.30000000000000004,
            "bin_end": 0.4,
            "count": 0
           },
           {
            "bin_start": 0.4,
            "bin_end": 0.5,
            "count": 0
           }
          ]
         }
        },
        {
         "name": "tenure",
         "dtype": "int64",
         "stats": {
          "unique_count": 4,
          "nan_count": 0,
          "min": "1",
          "max": "45",
          "histogram": [
           {
            "bin_start": 1,
            "bin_end": 5.4,
            "count": 3
           },
           {
            "bin_start": 5.4,
            "bin_end": 9.8,
            "count": 0
           },
           {
            "bin_start": 9.8,
            "bin_end": 14.200000000000001,
            "count": 0
           },
           {
            "bin_start": 14.200000000000001,
            "bin_end": 18.6,
            "count": 0
           },
           {
            "bin_start": 18.6,
            "bin_end": 23,
            "count": 0
           },
           {
            "bin_start": 23,
            "bin_end": 27.400000000000002,
            "count": 0
           },
           {
            "bin_start": 27.400000000000002,
            "bin_end": 31.800000000000004,
            "count": 0
           },
           {
            "bin_start": 31.800000000000004,
            "bin_end": 36.2,
            "count": 1
           },
           {
            "bin_start": 36.2,
            "bin_end": 40.6,
            "count": 0
           },
           {
            "bin_start": 40.6,
            "bin_end": 45,
            "count": 1
           }
          ]
         }
        },
        {
         "name": "PhoneService",
         "dtype": "int64",
         "stats": {
          "unique_count": 2,
          "nan_count": 0,
          "min": "0",
          "max": "1",
          "histogram": [
           {
            "bin_start": 0,
            "bin_end": 0.1,
            "count": 2
           },
           {
            "bin_start": 0.1,
            "bin_end": 0.2,
            "count": 0
           },
           {
            "bin_start": 0.2,
            "bin_end": 0.30000000000000004,
            "count": 0
           },
           {
            "bin_start": 0.30000000000000004,
            "bin_end": 0.4,
            "count": 0
           },
           {
            "bin_start": 0.4,
            "bin_end": 0.5,
            "count": 0
           },
           {
            "bin_start": 0.5,
            "bin_end": 0.6000000000000001,
            "count": 0
           },
           {
            "bin_start": 0.6000000000000001,
            "bin_end": 0.7000000000000001,
            "count": 0
           },
           {
            "bin_start": 0.7000000000000001,
            "bin_end": 0.8,
            "count": 0
           },
           {
            "bin_start": 0.8,
            "bin_end": 0.9,
            "count": 0
           },
           {
            "bin_start": 0.9,
            "bin_end": 1,
            "count": 3
           }
          ]
         }
        },
        {
         "name": "MultipleLines",
         "dtype": "int64",
         "stats": {
          "unique_count": 1,
          "nan_count": 0,
          "min": "0",
          "max": "0",
          "histogram": [
           {
            "bin_start": -0.5,
            "bin_end": -0.4,
            "count": 0
           },
           {
            "bin_start": -0.4,
            "bin_end": -0.3,
            "count": 0
           },
           {
            "bin_start": -0.3,
            "bin_end": -0.19999999999999996,
            "count": 0
           },
           {
            "bin_start": -0.19999999999999996,
            "bin_end": -0.09999999999999998,
            "count": 0
           },
           {
            "bin_start": -0.09999999999999998,
            "bin_end": 0,
            "count": 0
           },
           {
            "bin_start": 0,
            "bin_end": 0.10000000000000009,
            "count": 5
           },
           {
            "bin_start": 0.10000000000000009,
            "bin_end": 0.20000000000000007,
            "count": 0
           },
           {
            "bin_start": 0.20000000000000007,
            "bin_end": 0.30000000000000004,
            "count": 0
           },
           {
            "bin_start": 0.30000000000000004,
            "bin_end": 0.4,
            "count": 0
           },
           {
            "bin_start": 0.4,
            "bin_end": 0.5,
            "count": 0
           }
          ]
         }
        },
        {
         "name": "OnlineSecurity",
         "dtype": "int64",
         "stats": {
          "unique_count": 2,
          "nan_count": 0,
          "min": "0",
          "max": "1",
          "histogram": [
           {
            "bin_start": 0,
            "bin_end": 0.1,
            "count": 2
           },
           {
            "bin_start": 0.1,
            "bin_end": 0.2,
            "count": 0
           },
           {
            "bin_start": 0.2,
            "bin_end": 0.30000000000000004,
            "count": 0
           },
           {
            "bin_start": 0.30000000000000004,
            "bin_end": 0.4,
            "count": 0
           },
           {
            "bin_start": 0.4,
            "bin_end": 0.5,
            "count": 0
           },
           {
            "bin_start": 0.5,
            "bin_end": 0.6000000000000001,
            "count": 0
           },
           {
            "bin_start": 0.6000000000000001,
            "bin_end": 0.7000000000000001,
            "count": 0
           },
           {
            "bin_start": 0.7000000000000001,
            "bin_end": 0.8,
            "count": 0
           },
           {
            "bin_start": 0.8,
            "bin_end": 0.9,
            "count": 0
           },
           {
            "bin_start": 0.9,
            "bin_end": 1,
            "count": 3
           }
          ]
         }
        },
        {
         "name": "OnlineBackup",
         "dtype": "int64",
         "stats": {
          "unique_count": 2,
          "nan_count": 0,
          "min": "0",
          "max": "1",
          "histogram": [
           {
            "bin_start": 0,
            "bin_end": 0.1,
            "count": 3
           },
           {
            "bin_start": 0.1,
            "bin_end": 0.2,
            "count": 0
           },
           {
            "bin_start": 0.2,
            "bin_end": 0.30000000000000004,
            "count": 0
           },
           {
            "bin_start": 0.30000000000000004,
            "bin_end": 0.4,
            "count": 0
           },
           {
            "bin_start": 0.4,
            "bin_end": 0.5,
            "count": 0
           },
           {
            "bin_start": 0.5,
            "bin_end": 0.6000000000000001,
            "count": 0
           },
           {
            "bin_start": 0.6000000000000001,
            "bin_end": 0.7000000000000001,
            "count": 0
           },
           {
            "bin_start": 0.7000000000000001,
            "bin_end": 0.8,
            "count": 0
           },
           {
            "bin_start": 0.8,
            "bin_end": 0.9,
            "count": 0
           },
           {
            "bin_start": 0.9,
            "bin_end": 1,
            "count": 2
           }
          ]
         }
        },
        {
         "name": "DeviceProtection",
         "dtype": "int64",
         "stats": {
          "unique_count": 2,
          "nan_count": 0,
          "min": "0",
          "max": "1",
          "histogram": [
           {
            "bin_start": 0,
            "bin_end": 0.1,
            "count": 3
           },
           {
            "bin_start": 0.1,
            "bin_end": 0.2,
            "count": 0
           },
           {
            "bin_start": 0.2,
            "bin_end": 0.30000000000000004,
            "count": 0
           },
           {
            "bin_start": 0.30000000000000004,
            "bin_end": 0.4,
            "count": 0
           },
           {
            "bin_start": 0.4,
            "bin_end": 0.5,
            "count": 0
           },
           {
            "bin_start": 0.5,
            "bin_end": 0.6000000000000001,
            "count": 0
           },
           {
            "bin_start": 0.6000000000000001,
            "bin_end": 0.7000000000000001,
            "count": 0
           },
           {
            "bin_start": 0.7000000000000001,
            "bin_end": 0.8,
            "count": 0
           },
           {
            "bin_start": 0.8,
            "bin_end": 0.9,
            "count": 0
           },
           {
            "bin_start": 0.9,
            "bin_end": 1,
            "count": 2
           }
          ]
         }
        },
        {
         "name": "TechSupport",
         "dtype": "int64",
         "stats": {
          "unique_count": 2,
          "nan_count": 0,
          "min": "0",
          "max": "1",
          "histogram": [
           {
            "bin_start": 0,
            "bin_end": 0.1,
            "count": 4
           },
           {
            "bin_start": 0.1,
            "bin_end": 0.2,
            "count": 0
           },
           {
            "bin_start": 0.2,
            "bin_end": 0.30000000000000004,
            "count": 0
           },
           {
            "bin_start": 0.30000000000000004,
            "bin_end": 0.4,
            "count": 0
           },
           {
            "bin_start": 0.4,
            "bin_end": 0.5,
            "count": 0
           },
           {
            "bin_start": 0.5,
            "bin_end": 0.6000000000000001,
            "count": 0
           },
           {
            "bin_start": 0.6000000000000001,
            "bin_end": 0.7000000000000001,
            "count": 0
           },
           {
            "bin_start": 0.7000000000000001,
            "bin_end": 0.8,
            "count": 0
           },
           {
            "bin_start": 0.8,
            "bin_end": 0.9,
            "count": 0
           },
           {
            "bin_start": 0.9,
            "bin_end": 1,
            "count": 1
           }
          ]
         }
        },
        {
         "name": "StreamingTV",
         "dtype": "int64",
         "stats": {
          "unique_count": 1,
          "nan_count": 0,
          "min": "0",
          "max": "0",
          "histogram": [
           {
            "bin_start": -0.5,
            "bin_end": -0.4,
            "count": 0
           },
           {
            "bin_start": -0.4,
            "bin_end": -0.3,
            "count": 0
           },
           {
            "bin_start": -0.3,
            "bin_end": -0.19999999999999996,
            "count": 0
           },
           {
            "bin_start": -0.19999999999999996,
            "bin_end": -0.09999999999999998,
            "count": 0
           },
           {
            "bin_start": -0.09999999999999998,
            "bin_end": 0,
            "count": 0
           },
           {
            "bin_start": 0,
            "bin_end": 0.10000000000000009,
            "count": 5
           },
           {
            "bin_start": 0.10000000000000009,
            "bin_end": 0.20000000000000007,
            "count": 0
           },
           {
            "bin_start": 0.20000000000000007,
            "bin_end": 0.30000000000000004,
            "count": 0
           },
           {
            "bin_start": 0.30000000000000004,
            "bin_end": 0.4,
            "count": 0
           },
           {
            "bin_start": 0.4,
            "bin_end": 0.5,
            "count": 0
           }
          ]
         }
        },
        {
         "name": "StreamingMovies",
         "dtype": "int64",
         "stats": {
          "unique_count": 1,
          "nan_count": 0,
          "min": "0",
          "max": "0",
          "histogram": [
           {
            "bin_start": -0.5,
            "bin_end": -0.4,
            "count": 0
           },
           {
            "bin_start": -0.4,
            "bin_end": -0.3,
            "count": 0
           },
           {
            "bin_start": -0.3,
            "bin_end": -0.19999999999999996,
            "count": 0
           },
           {
            "bin_start": -0.19999999999999996,
            "bin_end": -0.09999999999999998,
            "count": 0
           },
           {
            "bin_start": -0.09999999999999998,
            "bin_end": 0,
            "count": 0
           },
           {
            "bin_start": 0,
            "bin_end": 0.10000000000000009,
            "count": 5
           },
           {
            "bin_start": 0.10000000000000009,
            "bin_end": 0.20000000000000007,
            "count": 0
           },
           {
            "bin_start": 0.20000000000000007,
            "bin_end": 0.30000000000000004,
            "count": 0
           },
           {
            "bin_start": 0.30000000000000004,
            "bin_end": 0.4,
            "count": 0
           },
           {
            "bin_start": 0.4,
            "bin_end": 0.5,
            "count": 0
           }
          ]
         }
        },
        {
         "name": "PaperlessBilling",
         "dtype": "int64",
         "stats": {
          "unique_count": 2,
          "nan_count": 0,
          "min": "0",
          "max": "1",
          "histogram": [
           {
            "bin_start": 0,
            "bin_end": 0.1,
            "count": 2
           },
           {
            "bin_start": 0.1,
            "bin_end": 0.2,
            "count": 0
           },
           {
            "bin_start": 0.2,
            "bin_end": 0.30000000000000004,
            "count": 0
           },
           {
            "bin_start": 0.30000000000000004,
            "bin_end": 0.4,
            "count": 0
           },
           {
            "bin_start": 0.4,
            "bin_end": 0.5,
            "count": 0
           },
           {
            "bin_start": 0.5,
            "bin_end": 0.6000000000000001,
            "count": 0
           },
           {
            "bin_start": 0.6000000000000001,
            "bin_end": 0.7000000000000001,
            "count": 0
           },
           {
            "bin_start": 0.7000000000000001,
            "bin_end": 0.8,
            "count": 0
           },
           {
            "bin_start": 0.8,
            "bin_end": 0.9,
            "count": 0
           },
           {
            "bin_start": 0.9,
            "bin_end": 1,
            "count": 3
           }
          ]
         }
        },
        {
         "name": "MonthlyCharges",
         "dtype": "float64",
         "stats": {
          "unique_count": 5,
          "nan_count": 0,
          "min": "29.85",
          "max": "70.7",
          "histogram": [
           {
            "bin_start": 29.85,
            "bin_end": 33.935,
            "count": 1
           },
           {
            "bin_start": 33.935,
            "bin_end": 38.02,
            "count": 0
           },
           {
            "bin_start": 38.02,
            "bin_end": 42.105000000000004,
            "count": 0
           },
           {
            "bin_start": 42.105000000000004,
            "bin_end": 46.19,
            "count": 1
           },
           {
            "bin_start": 46.19,
            "bin_end": 50.275000000000006,
            "count": 0
           },
           {
            "bin_start": 50.275000000000006,
            "bin_end": 54.36,
            "count": 1
           },
           {
            "bin_start": 54.36,
            "bin_end": 58.445,
            "count": 1
           },
           {
            "bin_start": 58.445,
            "bin_end": 62.53,
            "count": 0
           },
           {
            "bin_start": 62.53,
            "bin_end": 66.61500000000001,
            "count": 0
           },
           {
            "bin_start": 66.61500000000001,
            "bin_end": 70.7,
            "count": 1
           }
          ]
         }
        },
        {
         "name": "TotalCharges",
         "dtype": "float64",
         "stats": {
          "unique_count": 5,
          "nan_count": 0,
          "min": "29.85",
          "max": "1889.5",
          "histogram": [
           {
            "bin_start": 29.85,
            "bin_end": 215.815,
            "count": 3
           },
           {
            "bin_start": 215.815,
            "bin_end": 401.78000000000003,
            "count": 0
           },
           {
            "bin_start": 401.78000000000003,
            "bin_end": 587.745,
            "count": 0
           },
           {
            "bin_start": 587.745,
            "bin_end": 773.71,
            "count": 0
           },
           {
            "bin_start": 773.71,
            "bin_end": 959.6750000000001,
            "count": 0
           },
           {
            "bin_start": 959.6750000000001,
            "bin_end": 1145.6399999999999,
            "count": 0
           },
           {
            "bin_start": 1145.6399999999999,
            "bin_end": 1331.605,
            "count": 0
           },
           {
            "bin_start": 1331.605,
            "bin_end": 1517.57,
            "count": 0
           },
           {
            "bin_start": 1517.57,
            "bin_end": 1703.5349999999999,
            "count": 0
           },
           {
            "bin_start": 1703.5349999999999,
            "bin_end": 1889.5,
            "count": 2
           }
          ]
         }
        },
        {
         "name": "Churn",
         "dtype": "int64",
         "stats": {
          "unique_count": 2,
          "nan_count": 0,
          "min": "0",
          "max": "1",
          "histogram": [
           {
            "bin_start": 0,
            "bin_end": 0.1,
            "count": 3
           },
           {
            "bin_start": 0.1,
            "bin_end": 0.2,
            "count": 0
           },
           {
            "bin_start": 0.2,
            "bin_end": 0.30000000000000004,
            "count": 0
           },
           {
            "bin_start": 0.30000000000000004,
            "bin_end": 0.4,
            "count": 0
           },
           {
            "bin_start": 0.4,
            "bin_end": 0.5,
            "count": 0
           },
           {
            "bin_start": 0.5,
            "bin_end": 0.6000000000000001,
            "count": 0
           },
           {
            "bin_start": 0.6000000000000001,
            "bin_end": 0.7000000000000001,
            "count": 0
           },
           {
            "bin_start": 0.7000000000000001,
            "bin_end": 0.8,
            "count": 0
           },
           {
            "bin_start": 0.8,
            "bin_end": 0.9,
            "count": 0
           },
           {
            "bin_start": 0.9,
            "bin_end": 1,
            "count": 2
           }
          ]
         }
        },
        {
         "name": "InternetService_DSL",
         "dtype": "uint8",
         "stats": {
          "unique_count": 2,
          "nan_count": 0,
          "min": "0",
          "max": "1",
          "histogram": [
           {
            "bin_start": 0,
            "bin_end": 0.1,
            "count": 1
           },
           {
            "bin_start": 0.1,
            "bin_end": 0.2,
            "count": 0
           },
           {
            "bin_start": 0.2,
            "bin_end": 0.30000000000000004,
            "count": 0
           },
           {
            "bin_start": 0.30000000000000004,
            "bin_end": 0.4,
            "count": 0
           },
           {
            "bin_start": 0.4,
            "bin_end": 0.5,
            "count": 0
           },
           {
            "bin_start": 0.5,
            "bin_end": 0.6000000000000001,
            "count": 0
           },
           {
            "bin_start": 0.6000000000000001,
            "bin_end": 0.7000000000000001,
            "count": 0
           },
           {
            "bin_start": 0.7000000000000001,
            "bin_end": 0.8,
            "count": 0
           },
           {
            "bin_start": 0.8,
            "bin_end": 0.9,
            "count": 0
           },
           {
            "bin_start": 0.9,
            "bin_end": 1,
            "count": 4
           }
          ]
         }
        },
        {
         "name": "InternetService_Fiber optic",
         "dtype": "uint8",
         "stats": {
          "unique_count": 2,
          "nan_count": 0,
          "min": "0",
          "max": "1",
          "histogram": [
           {
            "bin_start": 0,
            "bin_end": 0.1,
            "count": 4
           },
           {
            "bin_start": 0.1,
            "bin_end": 0.2,
            "count": 0
           },
           {
            "bin_start": 0.2,
            "bin_end": 0.30000000000000004,
            "count": 0
           },
           {
            "bin_start": 0.30000000000000004,
            "bin_end": 0.4,
            "count": 0
           },
           {
            "bin_start": 0.4,
            "bin_end": 0.5,
            "count": 0
           },
           {
            "bin_start": 0.5,
            "bin_end": 0.6000000000000001,
            "count": 0
           },
           {
            "bin_start": 0.6000000000000001,
            "bin_end": 0.7000000000000001,
            "count": 0
           },
           {
            "bin_start": 0.7000000000000001,
            "bin_end": 0.8,
            "count": 0
           },
           {
            "bin_start": 0.8,
            "bin_end": 0.9,
            "count": 0
           },
           {
            "bin_start": 0.9,
            "bin_end": 1,
            "count": 1
           }
          ]
         }
        },
        {
         "name": "InternetService_No",
         "dtype": "uint8",
         "stats": {
          "unique_count": 1,
          "nan_count": 0,
          "min": "0",
          "max": "0",
          "histogram": [
           {
            "bin_start": -0.5,
            "bin_end": -0.4,
            "count": 0
           },
           {
            "bin_start": -0.4,
            "bin_end": -0.3,
            "count": 0
           },
           {
            "bin_start": -0.3,
            "bin_end": -0.19999999999999996,
            "count": 0
           },
           {
            "bin_start": -0.19999999999999996,
            "bin_end": -0.09999999999999998,
            "count": 0
           },
           {
            "bin_start": -0.09999999999999998,
            "bin_end": 0,
            "count": 0
           },
           {
            "bin_start": 0,
            "bin_end": 0.10000000000000009,
            "count": 5
           },
           {
            "bin_start": 0.10000000000000009,
            "bin_end": 0.20000000000000007,
            "count": 0
           },
           {
            "bin_start": 0.20000000000000007,
            "bin_end": 0.30000000000000004,
            "count": 0
           },
           {
            "bin_start": 0.30000000000000004,
            "bin_end": 0.4,
            "count": 0
           },
           {
            "bin_start": 0.4,
            "bin_end": 0.5,
            "count": 0
           }
          ]
         }
        },
        {
         "name": "Contract_Month-to-month",
         "dtype": "uint8",
         "stats": {
          "unique_count": 2,
          "nan_count": 0,
          "min": "0",
          "max": "1",
          "histogram": [
           {
            "bin_start": 0,
            "bin_end": 0.1,
            "count": 2
           },
           {
            "bin_start": 0.1,
            "bin_end": 0.2,
            "count": 0
           },
           {
            "bin_start": 0.2,
            "bin_end": 0.30000000000000004,
            "count": 0
           },
           {
            "bin_start": 0.30000000000000004,
            "bin_end": 0.4,
            "count": 0
           },
           {
            "bin_start": 0.4,
            "bin_end": 0.5,
            "count": 0
           },
           {
            "bin_start": 0.5,
            "bin_end": 0.6000000000000001,
            "count": 0
           },
           {
            "bin_start": 0.6000000000000001,
            "bin_end": 0.7000000000000001,
            "count": 0
           },
           {
            "bin_start": 0.7000000000000001,
            "bin_end": 0.8,
            "count": 0
           },
           {
            "bin_start": 0.8,
            "bin_end": 0.9,
            "count": 0
           },
           {
            "bin_start": 0.9,
            "bin_end": 1,
            "count": 3
           }
          ]
         }
        },
        {
         "name": "Contract_One year",
         "dtype": "uint8",
         "stats": {
          "unique_count": 2,
          "nan_count": 0,
          "min": "0",
          "max": "1",
          "histogram": [
           {
            "bin_start": 0,
            "bin_end": 0.1,
            "count": 3
           },
           {
            "bin_start": 0.1,
            "bin_end": 0.2,
            "count": 0
           },
           {
            "bin_start": 0.2,
            "bin_end": 0.30000000000000004,
            "count": 0
           },
           {
            "bin_start": 0.30000000000000004,
            "bin_end": 0.4,
            "count": 0
           },
           {
            "bin_start": 0.4,
            "bin_end": 0.5,
            "count": 0
           },
           {
            "bin_start": 0.5,
            "bin_end": 0.6000000000000001,
            "count": 0
           },
           {
            "bin_start": 0.6000000000000001,
            "bin_end": 0.7000000000000001,
            "count": 0
           },
           {
            "bin_start": 0.7000000000000001,
            "bin_end": 0.8,
            "count": 0
           },
           {
            "bin_start": 0.8,
            "bin_end": 0.9,
            "count": 0
           },
           {
            "bin_start": 0.9,
            "bin_end": 1,
            "count": 2
           }
          ]
         }
        },
        {
         "name": "Contract_Two year",
         "dtype": "uint8",
         "stats": {
          "unique_count": 1,
          "nan_count": 0,
          "min": "0",
          "max": "0",
          "histogram": [
           {
            "bin_start": -0.5,
            "bin_end": -0.4,
            "count": 0
           },
           {
            "bin_start": -0.4,
            "bin_end": -0.3,
            "count": 0
           },
           {
            "bin_start": -0.3,
            "bin_end": -0.19999999999999996,
            "count": 0
           },
           {
            "bin_start": -0.19999999999999996,
            "bin_end": -0.09999999999999998,
            "count": 0
           },
           {
            "bin_start": -0.09999999999999998,
            "bin_end": 0,
            "count": 0
           },
           {
            "bin_start": 0,
            "bin_end": 0.10000000000000009,
            "count": 5
           },
           {
            "bin_start": 0.10000000000000009,
            "bin_end": 0.20000000000000007,
            "count": 0
           },
           {
            "bin_start": 0.20000000000000007,
            "bin_end": 0.30000000000000004,
            "count": 0
           },
           {
            "bin_start": 0.30000000000000004,
            "bin_end": 0.4,
            "count": 0
           },
           {
            "bin_start": 0.4,
            "bin_end": 0.5,
            "count": 0
           }
          ]
         }
        },
        {
         "name": "PaymentMethod_Bank transfer (automatic)",
         "dtype": "uint8",
         "stats": {
          "unique_count": 2,
          "nan_count": 0,
          "min": "0",
          "max": "1",
          "histogram": [
           {
            "bin_start": 0,
            "bin_end": 0.1,
            "count": 4
           },
           {
            "bin_start": 0.1,
            "bin_end": 0.2,
            "count": 0
           },
           {
            "bin_start": 0.2,
            "bin_end": 0.30000000000000004,
            "count": 0
           },
           {
            "bin_start": 0.30000000000000004,
            "bin_end": 0.4,
            "count": 0
           },
           {
            "bin_start": 0.4,
            "bin_end": 0.5,
            "count": 0
           },
           {
            "bin_start": 0.5,
            "bin_end": 0.6000000000000001,
            "count": 0
           },
           {
            "bin_start": 0.6000000000000001,
            "bin_end": 0.7000000000000001,
            "count": 0
           },
           {
            "bin_start": 0.7000000000000001,
            "bin_end": 0.8,
            "count": 0
           },
           {
            "bin_start": 0.8,
            "bin_end": 0.9,
            "count": 0
           },
           {
            "bin_start": 0.9,
            "bin_end": 1,
            "count": 1
           }
          ]
         }
        },
        {
         "name": "PaymentMethod_Credit card (automatic)",
         "dtype": "uint8",
         "stats": {
          "unique_count": 1,
          "nan_count": 0,
          "min": "0",
          "max": "0",
          "histogram": [
           {
            "bin_start": -0.5,
            "bin_end": -0.4,
            "count": 0
           },
           {
            "bin_start": -0.4,
            "bin_end": -0.3,
            "count": 0
           },
           {
            "bin_start": -0.3,
            "bin_end": -0.19999999999999996,
            "count": 0
           },
           {
            "bin_start": -0.19999999999999996,
            "bin_end": -0.09999999999999998,
            "count": 0
           },
           {
            "bin_start": -0.09999999999999998,
            "bin_end": 0,
            "count": 0
           },
           {
            "bin_start": 0,
            "bin_end": 0.10000000000000009,
            "count": 5
           },
           {
            "bin_start": 0.10000000000000009,
            "bin_end": 0.20000000000000007,
            "count": 0
           },
           {
            "bin_start": 0.20000000000000007,
            "bin_end": 0.30000000000000004,
            "count": 0
           },
           {
            "bin_start": 0.30000000000000004,
            "bin_end": 0.4,
            "count": 0
           },
           {
            "bin_start": 0.4,
            "bin_end": 0.5,
            "count": 0
           }
          ]
         }
        },
        {
         "name": "PaymentMethod_Electronic check",
         "dtype": "uint8",
         "stats": {
          "unique_count": 2,
          "nan_count": 0,
          "min": "0",
          "max": "1",
          "histogram": [
           {
            "bin_start": 0,
            "bin_end": 0.1,
            "count": 3
           },
           {
            "bin_start": 0.1,
            "bin_end": 0.2,
            "count": 0
           },
           {
            "bin_start": 0.2,
            "bin_end": 0.30000000000000004,
            "count": 0
           },
           {
            "bin_start": 0.30000000000000004,
            "bin_end": 0.4,
            "count": 0
           },
           {
            "bin_start": 0.4,
            "bin_end": 0.5,
            "count": 0
           },
           {
            "bin_start": 0.5,
            "bin_end": 0.6000000000000001,
            "count": 0
           },
           {
            "bin_start": 0.6000000000000001,
            "bin_end": 0.7000000000000001,
            "count": 0
           },
           {
            "bin_start": 0.7000000000000001,
            "bin_end": 0.8,
            "count": 0
           },
           {
            "bin_start": 0.8,
            "bin_end": 0.9,
            "count": 0
           },
           {
            "bin_start": 0.9,
            "bin_end": 1,
            "count": 2
           }
          ]
         }
        },
        {
         "name": "PaymentMethod_Mailed check",
         "dtype": "uint8",
         "stats": {
          "unique_count": 2,
          "nan_count": 0,
          "min": "0",
          "max": "1",
          "histogram": [
           {
            "bin_start": 0,
            "bin_end": 0.1,
            "count": 3
           },
           {
            "bin_start": 0.1,
            "bin_end": 0.2,
            "count": 0
           },
           {
            "bin_start": 0.2,
            "bin_end": 0.30000000000000004,
            "count": 0
           },
           {
            "bin_start": 0.30000000000000004,
            "bin_end": 0.4,
            "count": 0
           },
           {
            "bin_start": 0.4,
            "bin_end": 0.5,
            "count": 0
           },
           {
            "bin_start": 0.5,
            "bin_end": 0.6000000000000001,
            "count": 0
           },
           {
            "bin_start": 0.6000000000000001,
            "bin_end": 0.7000000000000001,
            "count": 0
           },
           {
            "bin_start": 0.7000000000000001,
            "bin_end": 0.8,
            "count": 0
           },
           {
            "bin_start": 0.8,
            "bin_end": 0.9,
            "count": 0
           },
           {
            "bin_start": 0.9,
            "bin_end": 1,
            "count": 2
           }
          ]
         }
        },
        {
         "name": "_deepnote_index_column",
         "dtype": "int64"
        }
       ],
       "rows_top": [
        {
         "gender": 1,
         "SeniorCitizen": 0,
         "Partner": 1,
         "Dependents": 0,
         "tenure": 1,
         "PhoneService": 0,
         "MultipleLines": 0,
         "OnlineSecurity": 0,
         "OnlineBackup": 1,
         "DeviceProtection": 0,
         "TechSupport": 0,
         "StreamingTV": 0,
         "StreamingMovies": 0,
         "PaperlessBilling": 1,
         "MonthlyCharges": 29.85,
         "TotalCharges": 29.85,
         "Churn": 0,
         "InternetService_DSL": 1,
         "InternetService_Fiber optic": 0,
         "InternetService_No": 0,
         "Contract_Month-to-month": 1,
         "Contract_One year": 0,
         "Contract_Two year": 0,
         "PaymentMethod_Bank transfer (automatic)": 0,
         "PaymentMethod_Credit card (automatic)": 0,
         "PaymentMethod_Electronic check": 1,
         "PaymentMethod_Mailed check": 0,
         "_deepnote_index_column": 0
        },
        {
         "gender": 0,
         "SeniorCitizen": 0,
         "Partner": 0,
         "Dependents": 0,
         "tenure": 34,
         "PhoneService": 1,
         "MultipleLines": 0,
         "OnlineSecurity": 1,
         "OnlineBackup": 0,
         "DeviceProtection": 1,
         "TechSupport": 0,
         "StreamingTV": 0,
         "StreamingMovies": 0,
         "PaperlessBilling": 0,
         "MonthlyCharges": 56.95,
         "TotalCharges": 1889.5,
         "Churn": 0,
         "InternetService_DSL": 1,
         "InternetService_Fiber optic": 0,
         "InternetService_No": 0,
         "Contract_Month-to-month": 0,
         "Contract_One year": 1,
         "Contract_Two year": 0,
         "PaymentMethod_Bank transfer (automatic)": 0,
         "PaymentMethod_Credit card (automatic)": 0,
         "PaymentMethod_Electronic check": 0,
         "PaymentMethod_Mailed check": 1,
         "_deepnote_index_column": 1
        },
        {
         "gender": 0,
         "SeniorCitizen": 0,
         "Partner": 0,
         "Dependents": 0,
         "tenure": 2,
         "PhoneService": 1,
         "MultipleLines": 0,
         "OnlineSecurity": 1,
         "OnlineBackup": 1,
         "DeviceProtection": 0,
         "TechSupport": 0,
         "StreamingTV": 0,
         "StreamingMovies": 0,
         "PaperlessBilling": 1,
         "MonthlyCharges": 53.85,
         "TotalCharges": 108.15,
         "Churn": 1,
         "InternetService_DSL": 1,
         "InternetService_Fiber optic": 0,
         "InternetService_No": 0,
         "Contract_Month-to-month": 1,
         "Contract_One year": 0,
         "Contract_Two year": 0,
         "PaymentMethod_Bank transfer (automatic)": 0,
         "PaymentMethod_Credit card (automatic)": 0,
         "PaymentMethod_Electronic check": 0,
         "PaymentMethod_Mailed check": 1,
         "_deepnote_index_column": 2
        },
        {
         "gender": 0,
         "SeniorCitizen": 0,
         "Partner": 0,
         "Dependents": 0,
         "tenure": 45,
         "PhoneService": 0,
         "MultipleLines": 0,
         "OnlineSecurity": 1,
         "OnlineBackup": 0,
         "DeviceProtection": 1,
         "TechSupport": 1,
         "StreamingTV": 0,
         "StreamingMovies": 0,
         "PaperlessBilling": 0,
         "MonthlyCharges": 42.3,
         "TotalCharges": 1840.75,
         "Churn": 0,
         "InternetService_DSL": 1,
         "InternetService_Fiber optic": 0,
         "InternetService_No": 0,
         "Contract_Month-to-month": 0,
         "Contract_One year": 1,
         "Contract_Two year": 0,
         "PaymentMethod_Bank transfer (automatic)": 1,
         "PaymentMethod_Credit card (automatic)": 0,
         "PaymentMethod_Electronic check": 0,
         "PaymentMethod_Mailed check": 0,
         "_deepnote_index_column": 3
        },
        {
         "gender": 1,
         "SeniorCitizen": 0,
         "Partner": 0,
         "Dependents": 0,
         "tenure": 2,
         "PhoneService": 1,
         "MultipleLines": 0,
         "OnlineSecurity": 0,
         "OnlineBackup": 0,
         "DeviceProtection": 0,
         "TechSupport": 0,
         "StreamingTV": 0,
         "StreamingMovies": 0,
         "PaperlessBilling": 1,
         "MonthlyCharges": 70.7,
         "TotalCharges": 151.65,
         "Churn": 1,
         "InternetService_DSL": 0,
         "InternetService_Fiber optic": 1,
         "InternetService_No": 0,
         "Contract_Month-to-month": 1,
         "Contract_One year": 0,
         "Contract_Two year": 0,
         "PaymentMethod_Bank transfer (automatic)": 0,
         "PaymentMethod_Credit card (automatic)": 0,
         "PaymentMethod_Electronic check": 1,
         "PaymentMethod_Mailed check": 0,
         "_deepnote_index_column": 4
        }
       ],
       "rows_bottom": null
      },
      "text/plain": "   gender  SeniorCitizen  Partner  Dependents  tenure  PhoneService  \\\n0       1              0        1           0       1             0   \n1       0              0        0           0      34             1   \n2       0              0        0           0       2             1   \n3       0              0        0           0      45             0   \n4       1              0        0           0       2             1   \n\n   MultipleLines  OnlineSecurity  OnlineBackup  DeviceProtection  ...  \\\n0              0               0             1                 0  ...   \n1              0               1             0                 1  ...   \n2              0               1             1                 0  ...   \n3              0               1             0                 1  ...   \n4              0               0             0                 0  ...   \n\n   InternetService_DSL  InternetService_Fiber optic  InternetService_No  \\\n0                    1                            0                   0   \n1                    1                            0                   0   \n2                    1                            0                   0   \n3                    1                            0                   0   \n4                    0                            1                   0   \n\n   Contract_Month-to-month  Contract_One year  Contract_Two year  \\\n0                        1                  0                  0   \n1                        0                  1                  0   \n2                        1                  0                  0   \n3                        0                  1                  0   \n4                        1                  0                  0   \n\n   PaymentMethod_Bank transfer (automatic)  \\\n0                                        0   \n1                                        0   \n2                                        0   \n3                                        1   \n4                                        0   \n\n   PaymentMethod_Credit card (automatic)  PaymentMethod_Electronic check  \\\n0                                      0                               1   \n1                                      0                               0   \n2                                      0                               0   \n3                                      0                               0   \n4                                      0                               1   \n\n   PaymentMethod_Mailed check  \n0                           0  \n1                           1  \n2                           1  \n3                           0  \n4                           0  \n\n[5 rows x 27 columns]",
      "text/html": "<div>\n<style scoped>\n    .dataframe tbody tr th:only-of-type {\n        vertical-align: middle;\n    }\n\n    .dataframe tbody tr th {\n        vertical-align: top;\n    }\n\n    .dataframe thead th {\n        text-align: right;\n    }\n</style>\n<table border=\"1\" class=\"dataframe\">\n  <thead>\n    <tr style=\"text-align: right;\">\n      <th></th>\n      <th>gender</th>\n      <th>SeniorCitizen</th>\n      <th>Partner</th>\n      <th>Dependents</th>\n      <th>tenure</th>\n      <th>PhoneService</th>\n      <th>MultipleLines</th>\n      <th>OnlineSecurity</th>\n      <th>OnlineBackup</th>\n      <th>DeviceProtection</th>\n      <th>...</th>\n      <th>InternetService_DSL</th>\n      <th>InternetService_Fiber optic</th>\n      <th>InternetService_No</th>\n      <th>Contract_Month-to-month</th>\n      <th>Contract_One year</th>\n      <th>Contract_Two year</th>\n      <th>PaymentMethod_Bank transfer (automatic)</th>\n      <th>PaymentMethod_Credit card (automatic)</th>\n      <th>PaymentMethod_Electronic check</th>\n      <th>PaymentMethod_Mailed check</th>\n    </tr>\n  </thead>\n  <tbody>\n    <tr>\n      <th>0</th>\n      <td>1</td>\n      <td>0</td>\n      <td>1</td>\n      <td>0</td>\n      <td>1</td>\n      <td>0</td>\n      <td>0</td>\n      <td>0</td>\n      <td>1</td>\n      <td>0</td>\n      <td>...</td>\n      <td>1</td>\n      <td>0</td>\n      <td>0</td>\n      <td>1</td>\n      <td>0</td>\n      <td>0</td>\n      <td>0</td>\n      <td>0</td>\n      <td>1</td>\n      <td>0</td>\n    </tr>\n    <tr>\n      <th>1</th>\n      <td>0</td>\n      <td>0</td>\n      <td>0</td>\n      <td>0</td>\n      <td>34</td>\n      <td>1</td>\n      <td>0</td>\n      <td>1</td>\n      <td>0</td>\n      <td>1</td>\n      <td>...</td>\n      <td>1</td>\n      <td>0</td>\n      <td>0</td>\n      <td>0</td>\n      <td>1</td>\n      <td>0</td>\n      <td>0</td>\n      <td>0</td>\n      <td>0</td>\n      <td>1</td>\n    </tr>\n    <tr>\n      <th>2</th>\n      <td>0</td>\n      <td>0</td>\n      <td>0</td>\n      <td>0</td>\n      <td>2</td>\n      <td>1</td>\n      <td>0</td>\n      <td>1</td>\n      <td>1</td>\n      <td>0</td>\n      <td>...</td>\n      <td>1</td>\n      <td>0</td>\n      <td>0</td>\n      <td>1</td>\n      <td>0</td>\n      <td>0</td>\n      <td>0</td>\n      <td>0</td>\n      <td>0</td>\n      <td>1</td>\n    </tr>\n    <tr>\n      <th>3</th>\n      <td>0</td>\n      <td>0</td>\n      <td>0</td>\n      <td>0</td>\n      <td>45</td>\n      <td>0</td>\n      <td>0</td>\n      <td>1</td>\n      <td>0</td>\n      <td>1</td>\n      <td>...</td>\n      <td>1</td>\n      <td>0</td>\n      <td>0</td>\n      <td>0</td>\n      <td>1</td>\n      <td>0</td>\n      <td>1</td>\n      <td>0</td>\n      <td>0</td>\n      <td>0</td>\n    </tr>\n    <tr>\n      <th>4</th>\n      <td>1</td>\n      <td>0</td>\n      <td>0</td>\n      <td>0</td>\n      <td>2</td>\n      <td>1</td>\n      <td>0</td>\n      <td>0</td>\n      <td>0</td>\n      <td>0</td>\n      <td>...</td>\n      <td>0</td>\n      <td>1</td>\n      <td>0</td>\n      <td>1</td>\n      <td>0</td>\n      <td>0</td>\n      <td>0</td>\n      <td>0</td>\n      <td>1</td>\n      <td>0</td>\n    </tr>\n  </tbody>\n</table>\n<p>5 rows × 27 columns</p>\n</div>"
     },
     "metadata": {}
    }
   ],
   "execution_count": 19
  },
  {
   "cell_type": "markdown",
   "source": "Verificando se os tipos são todos numéricos após as transformações aplicadas",
   "metadata": {
    "id": "sRP_Q-eXvIcj",
    "cell_id": "00033-90fa316b-8e9d-46ab-8d0c-93d699ff9ad0",
    "deepnote_cell_type": "markdown"
   }
  },
  {
   "cell_type": "code",
   "metadata": {
    "colab": {
     "base_uri": "https://localhost:8080/"
    },
    "id": "skn92K1tvJZ-",
    "outputId": "436713b4-078a-4d2a-914d-813370bb36ea",
    "cell_id": "00034-4caac8fd-b148-4e76-b413-3893c1d16e9f",
    "deepnote_to_be_reexecuted": false,
    "source_hash": "52430027",
    "execution_start": 1639255360524,
    "execution_millis": 24,
    "deepnote_output_heights": [
     539.5999755859375
    ],
    "deepnote_cell_type": "code"
   },
   "source": "df.dtypes",
   "execution_count": 20,
   "outputs": [
    {
     "output_type": "execute_result",
     "execution_count": 20,
     "data": {
      "text/plain": "gender                                       int64\nSeniorCitizen                                int64\nPartner                                      int64\nDependents                                   int64\ntenure                                       int64\nPhoneService                                 int64\nMultipleLines                                int64\nOnlineSecurity                               int64\nOnlineBackup                                 int64\nDeviceProtection                             int64\nTechSupport                                  int64\nStreamingTV                                  int64\nStreamingMovies                              int64\nPaperlessBilling                             int64\nMonthlyCharges                             float64\nTotalCharges                               float64\nChurn                                        int64\nInternetService_DSL                          uint8\nInternetService_Fiber optic                  uint8\nInternetService_No                           uint8\nContract_Month-to-month                      uint8\nContract_One year                            uint8\nContract_Two year                            uint8\nPaymentMethod_Bank transfer (automatic)      uint8\nPaymentMethod_Credit card (automatic)        uint8\nPaymentMethod_Electronic check               uint8\nPaymentMethod_Mailed check                   uint8\ndtype: object"
     },
     "metadata": {}
    }
   ]
  },
  {
   "cell_type": "markdown",
   "source": "Agora vamos utilizar o `StandardScaler` para transformar os valores das colunas numéricas",
   "metadata": {
    "tags": [],
    "cell_id": "00012-bd99b497-f523-4f2d-9b6c-4c1b88985ea2",
    "id": "FOlwcF8csGla",
    "deepnote_cell_type": "markdown"
   }
  },
  {
   "cell_type": "code",
   "metadata": {
    "id": "sQEMVhE7xFD-",
    "cell_id": "00036-d6c7137d-5b94-467f-9e54-99e8b85e1517",
    "deepnote_to_be_reexecuted": false,
    "source_hash": "8e928033",
    "execution_start": 1639255360558,
    "execution_millis": 23,
    "deepnote_cell_type": "code"
   },
   "source": "x = df.drop('Churn', axis=1)\ny = df['Churn']\n\ncolumns = ['tenure', 'MonthlyCharges', 'TotalCharges']\nx.loc[:, columns] = StandardScaler().fit_transform(x.loc[:, columns])",
   "execution_count": 21,
   "outputs": []
  },
  {
   "cell_type": "markdown",
   "source": "Agora, pode-se obter uma ideia da separação entre as classes ao projetar os atributos em duas dimensões, utilizando PCA:",
   "metadata": {
    "id": "vFzzNOjg_nOS",
    "cell_id": "00037-3855bcb6-66ad-4bdf-a0c4-5c914f5b2774",
    "deepnote_cell_type": "markdown"
   }
  },
  {
   "cell_type": "code",
   "metadata": {
    "id": "Ig1zEiq6yIcq",
    "cell_id": "00038-020ecfa3-03cf-4814-a21d-c96f42fc2dbe",
    "deepnote_to_be_reexecuted": false,
    "source_hash": "3c4222ec",
    "execution_start": 1639255360589,
    "execution_millis": 19,
    "deepnote_cell_type": "code"
   },
   "source": "x_train, x_test, y_train, y_test = train_test_split(x, y, test_size=0.25, random_state=42)\n\nx_train = x_train.reset_index(drop=True)\ny_train = y_train.reset_index(drop=True)",
   "execution_count": 22,
   "outputs": []
  },
  {
   "cell_type": "markdown",
   "source": "Utilizaremos o método `K-Fold Cross Validation` para validar os modelos escolhidos, utilizando `k=4`",
   "metadata": {
    "id": "0JgPvJbEzxum",
    "cell_id": "00039-0040b3fe-a4f8-4ab3-89c4-dd224769167f",
    "deepnote_cell_type": "markdown"
   }
  },
  {
   "cell_type": "code",
   "metadata": {
    "id": "7datOPObzylz",
    "cell_id": "00040-084b3207-6102-47ff-8e27-b0e26210ce4e",
    "deepnote_to_be_reexecuted": false,
    "source_hash": "a90227f5",
    "execution_start": 1639255360628,
    "execution_millis": 3,
    "deepnote_cell_type": "code"
   },
   "source": "def validate_model(model, x, y):\n    kf = KFold(n_splits=4, random_state=42, shuffle=True)\n\n    scores = []\n    for train_index, validation_index in kf.split(x):\n        x_train, x_validation = x.iloc[train_index], x.iloc[validation_index]\n        y_train, y_validation = y[train_index], y[validation_index]\n        model.fit(x_train, y_train)\n        y_pred = model.predict(x_validation)\n        scores.append(roc_auc_score(y_validation, y_pred))\n    return scores",
   "execution_count": 23,
   "outputs": []
  },
  {
   "cell_type": "markdown",
   "source": "Agora, iremos testar vários modelos (alternando seus parâmetros quando conveniente), utilizando o ROC Score de cada um para verificar qual é mais apropriado. Os modelos a serem utilizados são: Regressão Logística, Naive Bayes, K-Nearest Neighbours, Árvore de Decisão e Floresta Aleatória.",
   "metadata": {
    "tags": [],
    "cell_id": "00047-892c4075-cb7b-46a7-bcc1-b82ea3f1d109",
    "deepnote_cell_type": "markdown"
   }
  },
  {
   "cell_type": "markdown",
   "source": "#### Modelo 1: Regressão Logística",
   "metadata": {
    "tags": [],
    "cell_id": "00011-6522d047-369c-431b-b0be-29425fc44845",
    "id": "mvjbvFypsGlb",
    "deepnote_cell_type": "markdown"
   }
  },
  {
   "cell_type": "code",
   "metadata": {
    "colab": {
     "base_uri": "https://localhost:8080/"
    },
    "id": "MfQ9nY0FyqQ2",
    "outputId": "c0e063e5-12d3-4633-d512-d22ce5e130cf",
    "cell_id": "00042-01323dc5-bf32-4540-a9c8-04c7898b8806",
    "deepnote_to_be_reexecuted": false,
    "source_hash": "168af32a",
    "execution_start": 1639255360652,
    "execution_millis": 873,
    "deepnote_cell_type": "code"
   },
   "source": "model = LogisticRegression(random_state=42)\nscores = validate_model(model, x_train, y_train)\nprint(f'Scores: {scores}, Mean: {np.mean(scores)}')",
   "execution_count": 24,
   "outputs": [
    {
     "name": "stdout",
     "text": "Scores: [0.7161382106696113, 0.7122080587351138, 0.7254792029699219, 0.7064812679165705], Mean: 0.7150766850728043\n",
     "output_type": "stream"
    }
   ]
  },
  {
   "cell_type": "markdown",
   "source": "#### Modelo 2: Naive Bayes",
   "metadata": {
    "tags": [],
    "cell_id": "00012-b85ae78a-2528-4fa0-bbcb-1037bb0e63de",
    "id": "TYiPeYmgsGlb",
    "deepnote_cell_type": "markdown"
   }
  },
  {
   "cell_type": "code",
   "metadata": {
    "colab": {
     "base_uri": "https://localhost:8080/"
    },
    "id": "Vvh5riBy2xYd",
    "outputId": "707cbf95-4735-4c73-a461-ba4a4aa8b024",
    "cell_id": "00044-495c4661-640c-4ead-84b4-5d0dfd9b20eb",
    "deepnote_to_be_reexecuted": false,
    "source_hash": "e8e6f972",
    "execution_start": 1639255361538,
    "execution_millis": 160,
    "deepnote_cell_type": "code"
   },
   "source": "model = GaussianNB()\nscores = validate_model(model, x_train, y_train)\nprint(f'Scores: {scores}, Mean: {np.mean(scores)}')",
   "execution_count": 25,
   "outputs": [
    {
     "name": "stdout",
     "text": "Scores: [0.7468815545779071, 0.735742571395537, 0.7763239639366618, 0.7481795116807802], Mean: 0.7517819003977215\n",
     "output_type": "stream"
    }
   ]
  },
  {
   "cell_type": "markdown",
   "source": "#### Modelo 3: KNN",
   "metadata": {
    "tags": [],
    "cell_id": "00013-c2835329-0baa-413e-a7fd-42356ce1c1c8",
    "id": "nJ9HrlmssGlb",
    "deepnote_cell_type": "markdown"
   }
  },
  {
   "cell_type": "code",
   "metadata": {
    "colab": {
     "base_uri": "https://localhost:8080/"
    },
    "id": "Z22pMMRg20nk",
    "outputId": "3dd2e799-29c7-40f7-ac75-8289c8ca874b",
    "cell_id": "00046-e4cecf05-5800-4608-8fca-265c898ab392",
    "deepnote_to_be_reexecuted": false,
    "source_hash": "caba664b",
    "execution_start": 1639255361704,
    "execution_millis": 11106,
    "deepnote_output_heights": [
     324,
     324
    ],
    "deepnote_cell_type": "code"
   },
   "source": "x_plot = range(3, 10)\ny_plot = []\n\nfor n_neighbors in x_plot:\n    model = KNeighborsClassifier(n_neighbors)\n    scores = validate_model(model, x_train, y_train)\n    y_plot.append(np.mean(scores))\n\nplt.figure(figsize=(10,5))\nplt.plot(x_plot, y_plot, '-ro', label='ROC')\nplt.xlabel('K', fontsize=15)\nplt.ylabel('Score', fontsize=15)\nplt.legend()\nplt.show()",
   "execution_count": 26,
   "outputs": [
    {
     "data": {
      "text/plain": "<Figure size 720x360 with 1 Axes>",
      "image/png": "[encoded data removed]"
     },
     "metadata": {
      "needs_background": "light",
      "image/png": {
       "width": 620,
       "height": 322
      }
     },
     "output_type": "display_data"
    }
   ]
  },
  {
   "cell_type": "markdown",
   "source": "#### Modelo 4: Árvore de Decisão",
   "metadata": {
    "id": "YD81rzGDuG1t",
    "cell_id": "00047-01cc02ca-b325-47c3-b9c8-692dfc28ce70",
    "deepnote_cell_type": "markdown"
   }
  },
  {
   "cell_type": "code",
   "metadata": {
    "colab": {
     "base_uri": "https://localhost:8080/",
     "height": 339
    },
    "id": "UDeqO-xk24D-",
    "outputId": "e76243bd-1b0a-4995-f6c2-a1203a3b35e9",
    "cell_id": "00048-6ae2c876-cf88-490d-8bfa-fab296d2ed87",
    "deepnote_to_be_reexecuted": false,
    "source_hash": "fd4156e",
    "execution_start": 1639255372813,
    "execution_millis": 2528,
    "deepnote_output_heights": [
     324
    ],
    "deepnote_cell_type": "code"
   },
   "source": "x_plot = range(2, 15)\ny_plot = []\n\nfor depth in x_plot:\n    model = DecisionTreeClassifier(max_depth=depth, random_state=42)\n    scores = validate_model(model, x_train, y_train)\n    y_plot.append(np.mean(scores))\n\nplt.figure(figsize=(10,5))\nplt.plot(x_plot, y_plot, '-ro', label='ROC')\nplt.xlabel('Depth', fontsize=15)\nplt.ylabel('Score', fontsize=15)\nplt.legend()\nplt.show()",
   "execution_count": 27,
   "outputs": [
    {
     "data": {
      "text/plain": "<Figure size 720x360 with 1 Axes>",
      "image/png": "[encoded data removed]"
     },
     "metadata": {
      "needs_background": "light",
      "image/png": {
       "width": 620,
       "height": 322
      }
     },
     "output_type": "display_data"
    }
   ]
  },
  {
   "cell_type": "code",
   "metadata": {
    "colab": {
     "base_uri": "https://localhost:8080/",
     "height": 282
    },
    "id": "VdPcs_Rf7Cwn",
    "outputId": "c2066366-bac6-48cf-d033-c96711b9128f",
    "cell_id": "00049-212e5abd-53e5-4b73-988f-1019a4f15d58",
    "deepnote_to_be_reexecuted": false,
    "source_hash": "bcda3969",
    "execution_start": 1639255375350,
    "execution_millis": 629,
    "deepnote_output_heights": [
     21.199996948242188,
     250
    ],
    "deepnote_cell_type": "code"
   },
   "source": "model = DecisionTreeClassifier(max_depth=5, random_state=42)\nmodel.fit(x_train, y_train)\nimportances = model.feature_importances_\nweights = pd.Series(importances, index=x_train.columns.values)\nweights.sort_values()[-10:].plot(kind = 'barh')",
   "execution_count": 28,
   "outputs": [
    {
     "output_type": "execute_result",
     "execution_count": 28,
     "data": {
      "text/plain": "<AxesSubplot:>"
     },
     "metadata": {}
    },
    {
     "data": {
      "text/plain": "<Figure size 432x288 with 1 Axes>",
      "image/png": "[encoded data removed]"
     },
     "metadata": {
      "needs_background": "light",
      "image/png": {
       "width": 523,
       "height": 248
      }
     },
     "output_type": "display_data"
    }
   ]
  },
  {
   "cell_type": "markdown",
   "source": "#### Modelo 5: Floresta Aleatória",
   "metadata": {
    "id": "UJeo6bal6Qi1",
    "cell_id": "00050-da56a449-fdae-4a58-bf27-5dc5140ad886",
    "deepnote_cell_type": "markdown"
   }
  },
  {
   "cell_type": "code",
   "metadata": {
    "colab": {
     "base_uri": "https://localhost:8080/",
     "height": 339
    },
    "id": "wqFKfFFh6Q-A",
    "outputId": "e8bb0487-9b7c-4374-b25a-c4ba08cdad6e",
    "cell_id": "00051-d662e5b2-a797-4abd-b894-5c05813161ab",
    "deepnote_to_be_reexecuted": false,
    "source_hash": "b78e0017",
    "execution_start": 1639255375988,
    "execution_millis": 24285,
    "deepnote_output_heights": [
     325
    ],
    "deepnote_cell_type": "code"
   },
   "source": "x_plot = range(2, 50, 2)\ny_plot = []\nfor n in x_plot:\n    model = RandomForestClassifier(n_estimators=n)\n    scores = validate_model(model, x_train, y_train)\n    y_plot.append(np.mean(scores))\n\nplt.figure(figsize=(10,5))\nplt.plot(x_plot, y_plot, '-ro', label='ROC')\nplt.xlabel('n', fontsize=15)\nplt.ylabel('Score', fontsize=15)\nplt.legend()\nplt.show()",
   "execution_count": 29,
   "outputs": [
    {
     "data": {
      "text/plain": "<Figure size 720x360 with 1 Axes>",
      "image/png": "[encoded data removed]"
     },
     "metadata": {
      "needs_background": "light",
      "image/png": {
       "width": 623,
       "height": 323
      }
     },
     "output_type": "display_data"
    }
   ]
  },
  {
   "cell_type": "markdown",
   "source": "## Testando o modelo escolhido",
   "metadata": {
    "id": "3qWHO6Cn4_Nq",
    "cell_id": "00052-b89dbda7-ebf0-413a-814c-6355ebfe9d1b",
    "deepnote_cell_type": "markdown"
   }
  },
  {
   "cell_type": "markdown",
   "source": "Como a área da curva ROC foi maior utilizando o modelo Naive Bayes, o utilizaremos para fazer as predições do conjunto de teste final.",
   "metadata": {
    "id": "ieEnB-qa5BGp",
    "cell_id": "00053-3a24ddce-dff5-4b25-96e1-64fba800e408",
    "deepnote_cell_type": "markdown"
   }
  },
  {
   "cell_type": "code",
   "metadata": {
    "colab": {
     "base_uri": "https://localhost:8080/"
    },
    "id": "DzXx_2JG5I4p",
    "outputId": "204fd5fe-fe3a-4857-b9ed-c1dd61c673f1",
    "cell_id": "00054-28f2d6e9-4c50-4dc8-9ddf-6a545492c361",
    "deepnote_to_be_reexecuted": false,
    "source_hash": "39f20ba8",
    "execution_start": 1639255400351,
    "execution_millis": 40,
    "deepnote_output_heights": [
     21.199996948242188
    ],
    "deepnote_cell_type": "code"
   },
   "source": "model = GaussianNB()\nmodel.fit(x_train, y_train)",
   "execution_count": 30,
   "outputs": [
    {
     "output_type": "execute_result",
     "execution_count": 30,
     "data": {
      "text/plain": "GaussianNB()"
     },
     "metadata": {}
    }
   ]
  },
  {
   "cell_type": "markdown",
   "source": "Podemos plotar a curva ROC para o modelo escolhido.",
   "metadata": {
    "tags": [],
    "cell_id": "00062-7d5f8f77-cfa8-4388-a450-cd5853109a28",
    "deepnote_cell_type": "markdown"
   }
  },
  {
   "cell_type": "code",
   "metadata": {
    "colab": {
     "base_uri": "https://localhost:8080/",
     "height": 297
    },
    "id": "hJMTvMlq8gE3",
    "outputId": "82353983-80d7-45ba-e287-f0a5e38ee2d0",
    "cell_id": "00055-0b1d16a8-eab5-4f1b-87da-0d1d961c506e",
    "deepnote_to_be_reexecuted": false,
    "source_hash": "d2c1e545",
    "execution_start": 1639255400391,
    "execution_millis": 378,
    "deepnote_output_heights": [
     282
    ],
    "deepnote_cell_type": "code"
   },
   "source": "y_pred_prob = model.predict_proba(x_test)[:,1]\nfpr, tpr, thresholds = roc_curve(y_test, y_pred_prob)\nplt.plot([0, 1], [0, 1], 'k--' )\nplt.plot(fpr, tpr, label='Gaussian Naive Bayes',color = \"r\")\nplt.xlabel('False Positive Rate')\nplt.ylabel('True Positive Rate')\nplt.title('Naive Bayes ROC Curve', fontsize=16)\nplt.show()",
   "execution_count": 31,
   "outputs": [
    {
     "data": {
      "text/plain": "<Figure size 432x288 with 1 Axes>",
      "image/png": "[encoded data removed]"
     },
     "metadata": {
      "needs_background": "light",
      "image/png": {
       "width": 386,
       "height": 280
      }
     },
     "output_type": "display_data"
    }
   ]
  },
  {
   "cell_type": "markdown",
   "source": "Por fim, calculamos o ROC score no conjunto de teste.",
   "metadata": {
    "tags": [],
    "cell_id": "00064-361dc751-ba9e-4ba1-b4bd-c2a8d93fcf12",
    "deepnote_cell_type": "markdown"
   }
  },
  {
   "cell_type": "code",
   "metadata": {
    "colab": {
     "base_uri": "https://localhost:8080/"
    },
    "id": "liKJURP29pUe",
    "outputId": "0ece5d49-2da5-4662-a96f-4a7252b373f5",
    "cell_id": "00056-bc02c04c-bd40-4fc2-a4aa-55be32861c9e",
    "deepnote_to_be_reexecuted": false,
    "source_hash": "c8a81f08",
    "execution_start": 1639255400774,
    "execution_millis": 24,
    "deepnote_output_heights": [
     21.199996948242188
    ],
    "deepnote_cell_type": "code"
   },
   "source": "y_pred = model.predict(x_test)\nroc_auc_score(y_test, y_pred)",
   "execution_count": 32,
   "outputs": [
    {
     "output_type": "execute_result",
     "execution_count": 32,
     "data": {
      "text/plain": "0.7709826764678104"
     },
     "metadata": {}
    }
   ]
  },
  {
   "cell_type": "code",
   "metadata": {
    "colab": {
     "base_uri": "https://localhost:8080/"
    },
    "id": "JAeoAj2Q-ddH",
    "outputId": "ba4939fa-5c72-4d85-c962-4a27c4505e8d",
    "cell_id": "00057-0fc5de2a-9067-4c50-9c7d-609d3b478893",
    "deepnote_to_be_reexecuted": false,
    "source_hash": "13ae2281",
    "execution_start": 1639255400802,
    "execution_millis": 40,
    "deepnote_cell_type": "code"
   },
   "source": "print(classification_report(y_test, y_pred))",
   "execution_count": 33,
   "outputs": [
    {
     "name": "stdout",
     "text": "              precision    recall  f1-score   support\n\n           0       0.91      0.73      0.81      1282\n           1       0.53      0.81      0.64       479\n\n    accuracy                           0.75      1761\n   macro avg       0.72      0.77      0.73      1761\nweighted avg       0.81      0.75      0.76      1761\n\n",
     "output_type": "stream"
    }
   ]
  },
  {
   "cell_type": "markdown",
   "source": "Assim, podemos ver que o modelo Naive Bayes apresentou uma boa predição, com um score de aproximadamente 0.77. Analisando o relatório de classificação, pode-se ver que ele conseguiu prever os casos em que Churn=0 com uma precisão maior do que Churn=1.",
   "metadata": {
    "tags": [],
    "cell_id": "00067-0c57dee8-5f60-4d4b-8835-017aa543ad3d",
    "deepnote_cell_type": "markdown"
   }
  },
  {
   "cell_type": "markdown",
   "source": "### Conclusão",
   "metadata": {
    "tags": [],
    "cell_id": "00016-f2a1473c-92e4-4877-8b2c-2665d7897db6",
    "id": "nMUMmM6wsGld",
    "deepnote_cell_type": "markdown"
   }
  },
  {
   "cell_type": "markdown",
   "source": "O modelo que apresentou a melhor métrica no conjunto de treino foi o GaussianNB, e este também obteve boa performance no conjunto de teste, com um score de 77%.",
   "metadata": {
    "id": "f17f6Xzq_RxQ",
    "cell_id": "00059-c1d23853-3f42-46c1-9aa9-89073a7aacad",
    "deepnote_cell_type": "markdown"
   }
  },
  {
   "cell_type": "markdown",
   "source": "<a style='text-decoration:none;line-height:16px;display:flex;color:#5B5B62;padding:10px;justify-content:end;' href='https://deepnote.com?utm_source=created-in-deepnote-cell&projectId=c7a824f5-c5ed-4b9e-96e4-0df2979a8918' target=\"_blank\">\n<img alt='Created in deepnote.com' style='display:inline;max-height:16px;margin:0px;margin-right:7.5px;' src='data:image/svg+xml;base64,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' > </img>\nCreated in <span style='font-weight:600;margin-left:4px;'>Deepnote</span></a>",
   "metadata": {
    "tags": [],
    "created_in_deepnote_cell": true,
    "deepnote_cell_type": "markdown"
   }
  }
 ],
 "nbformat": 4,
 "nbformat_minor": 0,
 "metadata": {
  "orig_nbformat": 2,
  "deepnote": {
   "is_reactive": false
  },
  "deepnote_notebook_id": "403672f2-f342-4ba2-86ee-1751471f4caa",
  "deepnote_execution_queue": [],
  "colab": {
   "name": "notebook.ipynb",
   "provenance": []
  },
  "language_info": {
   "name": "python"
  },
  "kernelspec": {
   "name": "python3",
   "display_name": "Python 3"
  }
 }
}